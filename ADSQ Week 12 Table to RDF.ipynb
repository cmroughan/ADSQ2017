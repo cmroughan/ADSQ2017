{
 "cells": [
  {
   "cell_type": "code",
   "execution_count": 299,
   "metadata": {
    "collapsed": true,
    "deletable": true,
    "editable": true
   },
   "outputs": [],
   "source": [
    "import gzip            \n",
    "import io              \n",
    "import numpy as np\n",
    "import pandas as pd    \n",
    "import pymysql.cursors \n",
    "import rdflib\n",
    "from rdflib import Namespace\n",
    "import urllib.request \n",
    "import math\n",
    "\n",
    "import matplotlib.pyplot as plt\n",
    "plt.style.use('ggplot')\n",
    "\n",
    "%matplotlib inline\n",
    "\n",
    "# Connect to the database\n",
    "\n",
    "connection = pymysql.connect(host='hosting.nyu.edu',\n",
    "                             user='cmrougha_adsq',\n",
    "                             password='###REPLACE###',\n",
    "                             db='cmrougha_adsq2017',\n",
    "                             charset='utf8mb4',\n",
    "                             cursorclass=pymysql.cursors.DictCursor)"
   ]
  },
  {
   "cell_type": "code",
   "execution_count": 300,
   "metadata": {
    "collapsed": true,
    "deletable": true,
    "editable": true
   },
   "outputs": [],
   "source": [
    "resourceKey = 'www.astronomoumenos.com/id/'\n",
    "verbKey = 'www.astronomoumenos.com/ontologies/astr.owl#'\n",
    "\n",
    "def convertToRDF(g,df,convType):\n",
    "    cols = list(df)\n",
    "    for t in df.iterrows():\n",
    "        # s will always be a resource\n",
    "        s = rdflib.URIRef(resourceKey + str(t[1][cols[0]]))\n",
    "        \n",
    "        # p might have different prefixes when using ontologies\n",
    "        # external to the project\n",
    "        if cols[1] == \"rdfs:label\":\n",
    "            p = rdflib.URIRef(\"http://www.w3.org/2000/01/rdf-schema#label\")\n",
    "        elif cols[1] == \"rdf:type\":\n",
    "            p = rdflib.URIRef(\"http://www.w3.org/1999/02/22-rdf-syntax-ns#type\")\n",
    "        else:\n",
    "            p = rdflib.URIRef(verbKey + cols[1])\n",
    "        \n",
    "        # o can be a resource or literal\n",
    "        if convType == \"resource-resource\":\n",
    "            if str(t[1][cols[1]]).strip() != '':\n",
    "                o = rdflib.URIRef(resourceKey + str(t[1][cols[1]]))\n",
    "                g.add((s,p,o))\n",
    "                \n",
    "        if convType == \"resource-string\":\n",
    "            if str(t[1][cols[1]]).strip() != '':\n",
    "                o = rdflib.Literal(str(t[1][cols[1]]))\n",
    "                g.add((s,p,o))\n",
    "        \n",
    "        if convType == \"resource-numeric\":\n",
    "            if str(t[1][cols[1]]).strip() != '':\n",
    "                o = rdflib.Literal(int(t[1][cols[1]]))\n",
    "                g.add((s,p,o))\n",
    "                \n",
    "        if convType == \"resource-class\":\n",
    "            if str(t[1][cols[1]]).strip() != '':\n",
    "                o = rdflib.URIRef(\"http://www.astronomoumenos.com/ontologies/astr.owl#\" + str(t[1][cols[1]]))\n",
    "                g.add((s,p,o))     \n",
    "                \n",
    "    return g\n"
   ]
  },
  {
   "cell_type": "code",
   "execution_count": 301,
   "metadata": {
    "collapsed": true,
    "deletable": true,
    "editable": true
   },
   "outputs": [],
   "source": [
    "def getDF(query):\n",
    "    sql = query\n",
    "    with connection.cursor() as cursor:\n",
    "        cursor.execute(sql)\n",
    "        names = [ x[0] for x in cursor.description]\n",
    "        result = cursor.fetchall()\n",
    "    return pd.DataFrame(result, columns = names)"
   ]
  },
  {
   "cell_type": "markdown",
   "metadata": {
    "deletable": true,
    "editable": true
   },
   "source": [
    "# Converting\n",
    "\n",
    "Note: the updated code does not automatically handle classes -- these must be manually specified as the second column using the proper SQL query.\n",
    "\n",
    "Other updates: claims about resources are no longer handled with blank nodes. These rather are resources and follow the naming convention of appending \\_[insert source here] to the identifier for the thing about which claims are being made. E.g.: `wi7922730_pinakes`."
   ]
  },
  {
   "cell_type": "code",
   "execution_count": 302,
   "metadata": {
    "collapsed": false,
    "deletable": true,
    "editable": true
   },
   "outputs": [
    {
     "name": "stdout",
     "output_type": "stream",
     "text": [
      "graph has 0 statements.\n"
     ]
    }
   ],
   "source": [
    "g = rdflib.Graph()\n",
    "print(\"graph has %s statements.\" % len(g))"
   ]
  },
  {
   "cell_type": "code",
   "execution_count": 303,
   "metadata": {
    "collapsed": false,
    "deletable": true,
    "editable": true
   },
   "outputs": [
    {
     "name": "stdout",
     "output_type": "stream",
     "text": [
      "graph has 4111 statements.\n"
     ]
    }
   ],
   "source": [
    "# Manuscript locatedIn Institution\n",
    "sql = \"\"\"\n",
    "SELECT DISTINCT CONCAT(\"ms\",astrID_ms) AS contains, REPLACE(REPLACE(REPLACE(REPLACE(REPLACE(REPLACE(REPLACE(Depot,'\"',''),')',''),'(',''),\"'\",\"\"),'.',''),',',''),' ','') AS locatedIn \n",
    "FROM `17.4.12_pinAstr_all`\n",
    " \"\"\"\n",
    "df = getDF(sql)\n",
    "#df.head()\n",
    "g = convertToRDF(g,df,'resource-resource')\n",
    "print(\"graph has %s statements.\" % len(g))"
   ]
  },
  {
   "cell_type": "code",
   "execution_count": 304,
   "metadata": {
    "collapsed": false,
    "deletable": true,
    "editable": true
   },
   "outputs": [
    {
     "name": "stdout",
     "output_type": "stream",
     "text": [
      "graph has 4395 statements.\n"
     ]
    }
   ],
   "source": [
    "# Institution locatedIn City\n",
    "sql = \"\"\"\n",
    "SELECT DISTINCT REPLACE(REPLACE(REPLACE(REPLACE(REPLACE(REPLACE(REPLACE(Depot,'\"',''),')',''),'(',''),\"'\",\"\"),'.',''),',',''),' ','') AS contains, REPLACE(REPLACE(REPLACE(REPLACE(REPLACE(REPLACE(REPLACE(Ville,'\"',''),')',''),'(',''),\"'\",\"\"),'.',''),',',''),' ','') AS locatedIn \n",
    "FROM `17.4.12_pinAstr_all`\n",
    "\"\"\"\n",
    "df = getDF(sql)\n",
    "#df.head()\n",
    "g = convertToRDF(g,df,'resource-resource')\n",
    "print(\"graph has %s statements.\" % len(g))"
   ]
  },
  {
   "cell_type": "code",
   "execution_count": 305,
   "metadata": {
    "collapsed": false,
    "deletable": true,
    "editable": true
   },
   "outputs": [
    {
     "name": "stdout",
     "output_type": "stream",
     "text": [
      "graph has 4575 statements.\n"
     ]
    }
   ],
   "source": [
    "# City locatedIn Country\n",
    "sql = \"\"\"\n",
    "SELECT DISTINCT REPLACE(REPLACE(REPLACE(REPLACE(REPLACE(REPLACE(REPLACE(Ville,'\"',''),')',''),'(',''),\"'\",\"\"),'.',''),',',''),' ','') AS contains, REPLACE(REPLACE(REPLACE(REPLACE(REPLACE(REPLACE(REPLACE(Pays,'\"',''),')',''),'(',''),\"'\",\"\"),'.',''),',',''),' ','') AS locatedIn \n",
    "FROM `17.4.12_pinAstr_all`\n",
    "\"\"\"\n",
    "df = getDF(sql)\n",
    "#df.head()\n",
    "g = convertToRDF(g,df,'resource-resource')\n",
    "print(\"graph has %s statements.\" % len(g))"
   ]
  },
  {
   "cell_type": "code",
   "execution_count": 306,
   "metadata": {
    "collapsed": false,
    "deletable": true,
    "editable": true
   },
   "outputs": [
    {
     "name": "stdout",
     "output_type": "stream",
     "text": [
      "graph has 8686 statements.\n"
     ]
    }
   ],
   "source": [
    "# Manuscript rdf:type Manuscript\n",
    "sql = \"\"\"\n",
    "SELECT DISTINCT CONCAT(\"ms\",astrID_ms) AS ``, \"Manuscript\" AS `rdf:type` \n",
    "FROM `17.4.12_pinAstr_all`\n",
    " \"\"\"\n",
    "df = getDF(sql)\n",
    "#df.head()\n",
    "g = convertToRDF(g,df,'resource-class')\n",
    "print(\"graph has %s statements.\" % len(g))"
   ]
  },
  {
   "cell_type": "code",
   "execution_count": 307,
   "metadata": {
    "collapsed": false,
    "deletable": true,
    "editable": true
   },
   "outputs": [
    {
     "name": "stdout",
     "output_type": "stream",
     "text": [
      "graph has 8944 statements.\n"
     ]
    }
   ],
   "source": [
    "# Institution rdf:type Institution\n",
    "sql = \"\"\"\n",
    "SELECT DISTINCT REPLACE(REPLACE(REPLACE(REPLACE(REPLACE(REPLACE(REPLACE(Depot,'\"',''),')',''),'(',''),\"'\",\"\"),'.',''),',',''),' ','') AS ``, \"Institution\" AS `rdf:type` \n",
    "FROM `17.4.12_pinAstr_all`\n",
    " \"\"\"\n",
    "df = getDF(sql)\n",
    "#df.head()\n",
    "g = convertToRDF(g,df,'resource-class')\n",
    "print(\"graph has %s statements.\" % len(g))"
   ]
  },
  {
   "cell_type": "code",
   "execution_count": 308,
   "metadata": {
    "collapsed": false,
    "deletable": true,
    "editable": true
   },
   "outputs": [
    {
     "name": "stdout",
     "output_type": "stream",
     "text": [
      "graph has 9127 statements.\n"
     ]
    }
   ],
   "source": [
    "# City rdf:type City\n",
    "sql = \"\"\"\n",
    "SELECT DISTINCT REPLACE(REPLACE(REPLACE(REPLACE(REPLACE(REPLACE(REPLACE(Ville,'\"',''),')',''),'(',''),\"'\",\"\"),'.',''),',',''),' ','') AS ``, \"City\" AS `rdf:type` \n",
    "FROM `17.4.12_pinAstr_all`\n",
    " \"\"\"\n",
    "df = getDF(sql)\n",
    "#df.head()\n",
    "g = convertToRDF(g,df,'resource-class')\n",
    "print(\"graph has %s statements.\" % len(g))"
   ]
  },
  {
   "cell_type": "code",
   "execution_count": 309,
   "metadata": {
    "collapsed": false,
    "deletable": true,
    "editable": true
   },
   "outputs": [
    {
     "name": "stdout",
     "output_type": "stream",
     "text": [
      "graph has 9159 statements.\n"
     ]
    }
   ],
   "source": [
    "# Country rdf:type Country\n",
    "sql = \"\"\"\n",
    "SELECT DISTINCT REPLACE(REPLACE(REPLACE(REPLACE(REPLACE(REPLACE(REPLACE(Pays,'\"',''),')',''),'(',''),\"'\",\"\"),'.',''),',',''),' ','') AS ``, \"Country\" AS `rdf:type` \n",
    "FROM `17.4.12_pinAstr_all`\n",
    " \"\"\"\n",
    "df = getDF(sql)\n",
    "#df.head()\n",
    "g = convertToRDF(g,df,'resource-class')\n",
    "print(\"graph has %s statements.\" % len(g))"
   ]
  },
  {
   "cell_type": "code",
   "execution_count": 310,
   "metadata": {
    "collapsed": false,
    "deletable": true,
    "editable": true
   },
   "outputs": [
    {
     "name": "stdout",
     "output_type": "stream",
     "text": [
      "graph has 13270 statements.\n"
     ]
    }
   ],
   "source": [
    "# Manuscript rdfs:label Shelfmark\n",
    "sql = \"\"\"\n",
    "SELECT DISTINCT CONCAT(\"ms\",astrID_ms) AS ``, CONCAT(Ville,\" \",Depot,\" \",FondsCote) AS `rdfs:label`\n",
    "FROM `17.4.12_pinAstr_all`\n",
    " \"\"\"\n",
    "df = getDF(sql)\n",
    "#df.head()\n",
    "g = convertToRDF(g,df,'resource-string')\n",
    "print(\"graph has %s statements.\" % len(g))"
   ]
  },
  {
   "cell_type": "code",
   "execution_count": 311,
   "metadata": {
    "collapsed": false,
    "deletable": true,
    "editable": true
   },
   "outputs": [
    {
     "name": "stdout",
     "output_type": "stream",
     "text": [
      "graph has 13528 statements.\n"
     ]
    }
   ],
   "source": [
    "# Institution rdfs:label Name\n",
    "sql = \"\"\"\n",
    "SELECT DISTINCT REPLACE(REPLACE(REPLACE(REPLACE(REPLACE(REPLACE(REPLACE(Depot,'\"',''),')',''),'(',''),\"'\",\"\"),'.',''),',',''),' ','') AS ``, Depot AS `rdfs:label` \n",
    "FROM `17.4.12_pinAstr_all`\n",
    " \"\"\"\n",
    "df = getDF(sql)\n",
    "#df.head()\n",
    "g = convertToRDF(g,df,'resource-string')\n",
    "print(\"graph has %s statements.\" % len(g))"
   ]
  },
  {
   "cell_type": "code",
   "execution_count": 312,
   "metadata": {
    "collapsed": false,
    "deletable": true,
    "editable": true
   },
   "outputs": [
    {
     "name": "stdout",
     "output_type": "stream",
     "text": [
      "graph has 13711 statements.\n"
     ]
    }
   ],
   "source": [
    "# City rdfs:label Name\n",
    "sql = \"\"\"\n",
    "SELECT DISTINCT REPLACE(REPLACE(REPLACE(REPLACE(REPLACE(REPLACE(REPLACE(Ville,'\"',''),')',''),'(',''),\"'\",\"\"),'.',''),',',''),' ','') AS ``, Ville AS `rdfs:label` \n",
    "FROM `17.4.12_pinAstr_all`\n",
    " \"\"\"\n",
    "df = getDF(sql)\n",
    "#df.head()\n",
    "g = convertToRDF(g,df,'resource-string')\n",
    "print(\"graph has %s statements.\" % len(g))"
   ]
  },
  {
   "cell_type": "code",
   "execution_count": 313,
   "metadata": {
    "collapsed": false,
    "deletable": true,
    "editable": true
   },
   "outputs": [
    {
     "name": "stdout",
     "output_type": "stream",
     "text": [
      "graph has 13741 statements.\n"
     ]
    }
   ],
   "source": [
    "# Country rdfs:label Name\n",
    "sql = \"\"\"\n",
    "SELECT DISTINCT REPLACE(REPLACE(REPLACE(REPLACE(REPLACE(REPLACE(REPLACE(Pays,'\"',''),')',''),'(',''),\"'\",\"\"),'.',''),',',''),' ','') AS ``, Pays AS `rdfs:label` \n",
    "FROM `17.4.12_pinAstr_all`\n",
    " \"\"\"\n",
    "df = getDF(sql)\n",
    "#df.head()\n",
    "g = convertToRDF(g,df,'resource-string')\n",
    "print(\"graph has %s statements.\" % len(g))"
   ]
  },
  {
   "cell_type": "code",
   "execution_count": 314,
   "metadata": {
    "collapsed": false,
    "deletable": true,
    "editable": true
   },
   "outputs": [
    {
     "name": "stdout",
     "output_type": "stream",
     "text": [
      "graph has 49783 statements.\n"
     ]
    }
   ],
   "source": [
    "# Manuscript msContains Witness\n",
    "sql = \"\"\"\n",
    "SELECT DISTINCT CONCAT(\"ms\",astrID_ms) AS inMS, CONCAT(\"wi\",astrID_wi) AS msContains \n",
    "FROM `17.4.12_pinAstr_all` \"\"\"\n",
    "df = getDF(sql)\n",
    "#df.head()\n",
    "g = convertToRDF(g,df,'resource-resource')\n",
    "print(\"graph has %s statements.\" % len(g))"
   ]
  },
  {
   "cell_type": "code",
   "execution_count": 315,
   "metadata": {
    "collapsed": false,
    "deletable": true,
    "editable": true
   },
   "outputs": [
    {
     "name": "stdout",
     "output_type": "stream",
     "text": [
      "graph has 85825 statements.\n"
     ]
    }
   ],
   "source": [
    "# Witness rdf:type Witness\n",
    "sql = \"\"\"\n",
    "SELECT DISTINCT CONCAT(\"wi\",astrID_wi) AS ``, \"Witness\" AS `rdf:type` \n",
    "FROM `17.4.12_pinAstr_all`\n",
    " \"\"\"\n",
    "df = getDF(sql)\n",
    "#df.head()\n",
    "g = convertToRDF(g,df,'resource-class')\n",
    "print(\"graph has %s statements.\" % len(g))"
   ]
  },
  {
   "cell_type": "code",
   "execution_count": 316,
   "metadata": {
    "collapsed": false,
    "deletable": true,
    "editable": true
   },
   "outputs": [
    {
     "name": "stdout",
     "output_type": "stream",
     "text": [
      "graph has 121867 statements.\n"
     ]
    }
   ],
   "source": [
    "# Witness witnessOf Work\n",
    "sql = \"\"\"\n",
    "SELECT DISTINCT CONCAT(\"wi\",astrID_wi) AS hasWitness, CONCAT(\"wo\",astrID_wo) AS witnessOf\n",
    "FROM `17.4.12_pinAstr_all`\n",
    "\"\"\"\n",
    "df = getDF(sql)\n",
    "#df.head()\n",
    "g = convertToRDF(g,df,'resource-resource')\n",
    "print(\"graph has %s statements.\" % len(g))"
   ]
  },
  {
   "cell_type": "code",
   "execution_count": 317,
   "metadata": {
    "collapsed": false,
    "deletable": true,
    "editable": true
   },
   "outputs": [
    {
     "name": "stdout",
     "output_type": "stream",
     "text": [
      "graph has 127881 statements.\n"
     ]
    }
   ],
   "source": [
    "# Work rdf:type Work\n",
    "sql = \"\"\"\n",
    "SELECT DISTINCT CONCAT(\"wo\",astrID_wo) AS ``, \"Work\" AS `rdf:type` \n",
    "FROM `17.4.12_pinAstr_all`\n",
    " \"\"\"\n",
    "df = getDF(sql)\n",
    "#df.head()\n",
    "g = convertToRDF(g,df,'resource-class')\n",
    "print(\"graph has %s statements.\" % len(g))"
   ]
  },
  {
   "cell_type": "code",
   "execution_count": 318,
   "metadata": {
    "collapsed": false,
    "deletable": true,
    "editable": true
   },
   "outputs": [
    {
     "name": "stdout",
     "output_type": "stream",
     "text": [
      "graph has 133895 statements.\n"
     ]
    }
   ],
   "source": [
    "# Work rdfs:label Title\n",
    "# This is perhaps where dc:title would be useful - TBD\n",
    "sql = \"\"\"\n",
    "SELECT DISTINCT CONCAT(\"wo\",astrID_wo) AS ``, Oeuvre AS `rdfs:label` \n",
    "FROM `17.4.12_pinAstr_all`\n",
    " \"\"\"\n",
    "df = getDF(sql)\n",
    "#df.head()\n",
    "g = convertToRDF(g,df,'resource-string')\n",
    "print(\"graph has %s statements.\" % len(g))"
   ]
  },
  {
   "cell_type": "code",
   "execution_count": 319,
   "metadata": {
    "collapsed": false,
    "deletable": true,
    "editable": true
   },
   "outputs": [
    {
     "name": "stdout",
     "output_type": "stream",
     "text": [
      "graph has 139909 statements.\n"
     ]
    }
   ],
   "source": [
    "# Work hasContributor Contributor\n",
    "# This is perhaps where dc:author would be useful - TBD\n",
    "sql = \"\"\"\n",
    "SELECT DISTINCT CONCAT(\"wo\",astrID_wo) AS ``, CONCAT(\"au\",astrID_au) AS hasContributor\n",
    "FROM `17.4.12_pinAstr_all`\n",
    " \"\"\"\n",
    "df = getDF(sql)\n",
    "#df.head()\n",
    "g = convertToRDF(g,df,'resource-resource')\n",
    "print(\"graph has %s statements.\" % len(g))"
   ]
  },
  {
   "cell_type": "code",
   "execution_count": 320,
   "metadata": {
    "collapsed": false,
    "deletable": true,
    "editable": true
   },
   "outputs": [
    {
     "name": "stdout",
     "output_type": "stream",
     "text": [
      "graph has 141401 statements.\n"
     ]
    }
   ],
   "source": [
    "# Contributor rdfs:label Name\n",
    "sql = \"\"\"\n",
    "SELECT DISTINCT CONCAT(\"au\",astrID_au) AS ``, Auteur AS `rdfs:label`\n",
    "FROM `17.4.12_pinAstr_all`\n",
    " \"\"\"\n",
    "df = getDF(sql)\n",
    "#df.head()\n",
    "g = convertToRDF(g,df,'resource-string')\n",
    "print(\"graph has %s statements.\" % len(g))"
   ]
  },
  {
   "cell_type": "code",
   "execution_count": 321,
   "metadata": {
    "collapsed": false,
    "deletable": true,
    "editable": true
   },
   "outputs": [
    {
     "name": "stdout",
     "output_type": "stream",
     "text": [
      "graph has 145512 statements.\n"
     ]
    }
   ],
   "source": [
    "# Manuscript hasClaim Claim\n",
    "sql = \"\"\"\n",
    "SELECT DISTINCT CONCAT(\"ms\",astrID_ms) AS claimAbout, CONCAT(\"ms\",astrID_ms,\"_pinakes\") AS hasClaim\n",
    "FROM `17.4.12_pinAstr_all`\n",
    " \"\"\"\n",
    "df = getDF(sql)\n",
    "#df.head()\n",
    "g = convertToRDF(g,df,'resource-resource')\n",
    "print(\"graph has %s statements.\" % len(g))"
   ]
  },
  {
   "cell_type": "code",
   "execution_count": 322,
   "metadata": {
    "collapsed": false,
    "deletable": true,
    "editable": true
   },
   "outputs": [
    {
     "name": "stdout",
     "output_type": "stream",
     "text": [
      "graph has 149623 statements.\n"
     ]
    }
   ],
   "source": [
    "# Claim rdf:type Claim\n",
    "sql = \"\"\"\n",
    "SELECT DISTINCT CONCAT(\"ms\",astrID_ms,\"_pinakes\") AS ``, \"Claim\" as `rdf:type`\n",
    "FROM `17.4.12_pinAstr_all`\n",
    " \"\"\"\n",
    "df = getDF(sql)\n",
    "#df.head()\n",
    "g = convertToRDF(g,df,'resource-class')\n",
    "print(\"graph has %s statements.\" % len(g))"
   ]
  },
  {
   "cell_type": "code",
   "execution_count": 323,
   "metadata": {
    "collapsed": false,
    "deletable": true,
    "editable": true
   },
   "outputs": [
    {
     "name": "stdout",
     "output_type": "stream",
     "text": [
      "graph has 153734 statements.\n"
     ]
    }
   ],
   "source": [
    "# Claim claimedBy Source\n",
    "sql = \"\"\"\n",
    "SELECT DISTINCT CONCAT(\"ms\",astrID_ms,\"_pinakes\") AS claims, \"pinakes\" as claimedBy\n",
    "FROM `17.4.12_pinAstr_all`\n",
    " \"\"\"\n",
    "df = getDF(sql)\n",
    "#df.head()\n",
    "g = convertToRDF(g,df,'resource-resource')\n",
    "print(\"graph has %s statements.\" % len(g))"
   ]
  },
  {
   "cell_type": "code",
   "execution_count": 324,
   "metadata": {
    "collapsed": false,
    "deletable": true,
    "editable": true
   },
   "outputs": [
    {
     "name": "stdout",
     "output_type": "stream",
     "text": [
      "graph has 157845 statements.\n"
     ]
    }
   ],
   "source": [
    "# Claim hasID ID\n",
    "sql = \"\"\"\n",
    "SELECT DISTINCT CONCAT(\"ms\",astrID_ms,\"_pinakes\") AS ``, MS AS hasID\n",
    "FROM `17.4.12_pinAstr_all`\n",
    " \"\"\"\n",
    "df = getDF(sql)\n",
    "#df.head()\n",
    "g = convertToRDF(g,df,'resource-string')\n",
    "print(\"graph has %s statements.\" % len(g))"
   ]
  },
  {
   "cell_type": "code",
   "execution_count": 325,
   "metadata": {
    "collapsed": false,
    "deletable": true,
    "editable": true
   },
   "outputs": [
    {
     "name": "stdout",
     "output_type": "stream",
     "text": [
      "graph has 193887 statements.\n"
     ]
    }
   ],
   "source": [
    "# Witness hasClaim Claim\n",
    "sql = \"\"\"\n",
    "SELECT DISTINCT CONCAT(\"wi\",astrID_wi) AS claimAbout, CONCAT(\"wi\",astrID_wi,\"_pinakes\") AS hasClaim\n",
    "FROM `17.4.12_pinAstr_all`\n",
    " \"\"\"\n",
    "df = getDF(sql)\n",
    "#df.head()\n",
    "g = convertToRDF(g,df,'resource-resource')\n",
    "print(\"graph has %s statements.\" % len(g))"
   ]
  },
  {
   "cell_type": "code",
   "execution_count": 326,
   "metadata": {
    "collapsed": false,
    "deletable": true,
    "editable": true
   },
   "outputs": [
    {
     "name": "stdout",
     "output_type": "stream",
     "text": [
      "graph has 229929 statements.\n"
     ]
    }
   ],
   "source": [
    "# Claim rdf:type Claim\n",
    "sql = \"\"\"\n",
    "SELECT DISTINCT CONCAT(\"wi\",astrID_wi,\"_pinakes\") AS ``, \"Claim\" as `rdf:type`\n",
    "FROM `17.4.12_pinAstr_all`\n",
    " \"\"\"\n",
    "df = getDF(sql)\n",
    "#df.head()\n",
    "g = convertToRDF(g,df,'resource-class')\n",
    "print(\"graph has %s statements.\" % len(g))"
   ]
  },
  {
   "cell_type": "code",
   "execution_count": 327,
   "metadata": {
    "collapsed": false,
    "deletable": true,
    "editable": true
   },
   "outputs": [
    {
     "name": "stdout",
     "output_type": "stream",
     "text": [
      "graph has 265971 statements.\n"
     ]
    }
   ],
   "source": [
    "# Claim claimedBy Source\n",
    "sql = \"\"\"\n",
    "SELECT DISTINCT CONCAT(\"wi\",astrID_wi,\"_pinakes\") AS claims, \"pinakes\" as claimedBy\n",
    "FROM `17.4.12_pinAstr_all`\n",
    " \"\"\"\n",
    "df = getDF(sql)\n",
    "#df.head()\n",
    "g = convertToRDF(g,df,'resource-resource')\n",
    "print(\"graph has %s statements.\" % len(g))"
   ]
  },
  {
   "cell_type": "code",
   "execution_count": 328,
   "metadata": {
    "collapsed": false,
    "deletable": true,
    "editable": true
   },
   "outputs": [
    {
     "name": "stdout",
     "output_type": "stream",
     "text": [
      "graph has 302712 statements.\n"
     ]
    }
   ],
   "source": [
    "# Claim pinakesFolios Folios\n",
    "sql = \"\"\"\n",
    "SELECT DISTINCT CONCAT(\"wi\",astrID_wi,\"_pinakes\") AS ``, Folios AS pinakesFolios\n",
    "FROM `17.4.12_pinAstr_all`\n",
    " \"\"\"\n",
    "df = getDF(sql)\n",
    "#df.head()\n",
    "g = convertToRDF(g,df,'resource-string')\n",
    "print(\"graph has %s statements.\" % len(g))"
   ]
  },
  {
   "cell_type": "code",
   "execution_count": 329,
   "metadata": {
    "collapsed": false,
    "deletable": true,
    "editable": true
   },
   "outputs": [
    {
     "name": "stdout",
     "output_type": "stream",
     "text": [
      "graph has 336822 statements.\n"
     ]
    }
   ],
   "source": [
    "# Claim pinakesSiecle Century\n",
    "sql = \"\"\"\n",
    "SELECT DISTINCT CONCAT(\"wi\",astrID_wi,\"_pinakes\") AS ``, Siecle AS pinakesSiecle\n",
    "FROM `17.4.12_pinAstr_all`\n",
    " \"\"\"\n",
    "df = getDF(sql)\n",
    "#df.head()\n",
    "g = convertToRDF(g,df,'resource-string')\n",
    "print(\"graph has %s statements.\" % len(g))"
   ]
  },
  {
   "cell_type": "code",
   "execution_count": 330,
   "metadata": {
    "collapsed": false,
    "deletable": true,
    "editable": true,
    "scrolled": true
   },
   "outputs": [
    {
     "name": "stdout",
     "output_type": "stream",
     "text": [
      "graph has 371278 statements.\n"
     ]
    }
   ],
   "source": [
    "# Claim immediatelyFollowedBy Claim (Witness-Witness)\n",
    "sql = \"\"\"\n",
    "SELECT CONCAT(\"wi\",x.astrID_wi,\"_pinakes\") AS immediatelyPrecededBy, CONCAT(\"wi\",y.astrID_wi,\"_pinakes\") AS immediatelyFollowedBy\n",
    "FROM `17.4.12_pinAstr_all` AS x\n",
    " INNER JOIN `17.4.12_pinAstr_all` AS y\n",
    " ON ( x.astrID_ms = y.astrID_ms ) AND ( y.Order = x.Order + 1 )\n",
    " \"\"\"\n",
    "df = getDF(sql)\n",
    "#df.head()\n",
    "g = convertToRDF(g,df,'resource-resource')\n",
    "print(\"graph has %s statements.\" % len(g))"
   ]
  },
  {
   "cell_type": "code",
   "execution_count": 331,
   "metadata": {
    "collapsed": true,
    "deletable": true,
    "editable": true
   },
   "outputs": [],
   "source": [
    "g.serialize(destination='astr.ttl', format='turtle')"
   ]
  },
  {
   "cell_type": "markdown",
   "metadata": {
    "deletable": true,
    "editable": true
   },
   "source": [
    ".\n",
    "\n",
    ".\n",
    "\n",
    ".\n",
    "\n",
    ".\n",
    "\n",
    ".\n",
    "\n",
    ".\n",
    "\n",
    ".\n",
    "\n",
    ".\n",
    "\n",
    ".\n",
    "\n",
    "# Test Queries"
   ]
  },
  {
   "cell_type": "code",
   "execution_count": 161,
   "metadata": {
    "collapsed": false,
    "deletable": true,
    "editable": true,
    "scrolled": false
   },
   "outputs": [
    {
     "data": {
      "text/html": [
       "<div>\n",
       "<table border=\"1\" class=\"dataframe\">\n",
       "  <thead>\n",
       "    <tr style=\"text-align: right;\">\n",
       "      <th></th>\n",
       "      <th>1s</th>\n",
       "      <th>3o</th>\n",
       "    </tr>\n",
       "  </thead>\n",
       "  <tbody>\n",
       "    <tr>\n",
       "      <th>0</th>\n",
       "      <td>www.astronomoumenos.com/id/Zittau</td>\n",
       "      <td>Zittau</td>\n",
       "    </tr>\n",
       "    <tr>\n",
       "      <th>1</th>\n",
       "      <td>www.astronomoumenos.com/id/wo3976291</td>\n",
       "      <td>In Adam</td>\n",
       "    </tr>\n",
       "    <tr>\n",
       "      <th>2</th>\n",
       "      <td>www.astronomoumenos.com/id/wo2953998</td>\n",
       "      <td>Allegoria Anagogica In Iliadem 4:1-4</td>\n",
       "    </tr>\n",
       "    <tr>\n",
       "      <th>3</th>\n",
       "      <td>www.astronomoumenos.com/id/wo3668550</td>\n",
       "      <td>De Statu Spiritali</td>\n",
       "    </tr>\n",
       "    <tr>\n",
       "      <th>4</th>\n",
       "      <td>www.astronomoumenos.com/id/ms9227276</td>\n",
       "      <td>Mutilene Monê tou Leimônos fonds principal 335</td>\n",
       "    </tr>\n",
       "    <tr>\n",
       "      <th>5</th>\n",
       "      <td>www.astronomoumenos.com/id/ms3418540</td>\n",
       "      <td>Wien Österreichische Nationalbibliothek (ÖNB) ...</td>\n",
       "    </tr>\n",
       "    <tr>\n",
       "      <th>6</th>\n",
       "      <td>www.astronomoumenos.com/id/ms7327659</td>\n",
       "      <td>Venezia Biblioteca Nazionale Marciana gr. V. 0...</td>\n",
       "    </tr>\n",
       "    <tr>\n",
       "      <th>7</th>\n",
       "      <td>www.astronomoumenos.com/id/ms5272119</td>\n",
       "      <td>Vaticano Biblioteca Apostolica Vaticana Vat. g...</td>\n",
       "    </tr>\n",
       "    <tr>\n",
       "      <th>8</th>\n",
       "      <td>www.astronomoumenos.com/id/au2510363</td>\n",
       "      <td>Polybius hagiographus episcopus</td>\n",
       "    </tr>\n",
       "    <tr>\n",
       "      <th>9</th>\n",
       "      <td>www.astronomoumenos.com/id/ms6774029</td>\n",
       "      <td>Cambridge Corpus Christi College, Parker Libra...</td>\n",
       "    </tr>\n",
       "    <tr>\n",
       "      <th>10</th>\n",
       "      <td>www.astronomoumenos.com/id/ms3779205</td>\n",
       "      <td>Venezia Biblioteca Nazionale Marciana gr. Z. 3...</td>\n",
       "    </tr>\n",
       "    <tr>\n",
       "      <th>11</th>\n",
       "      <td>www.astronomoumenos.com/id/wo8898424</td>\n",
       "      <td>In Porphyrii Isagogen</td>\n",
       "    </tr>\n",
       "    <tr>\n",
       "      <th>12</th>\n",
       "      <td>www.astronomoumenos.com/id/wo4599212</td>\n",
       "      <td>Allegoria In Homeri Iliadem</td>\n",
       "    </tr>\n",
       "    <tr>\n",
       "      <th>13</th>\n",
       "      <td>www.astronomoumenos.com/id/ms5586810</td>\n",
       "      <td>Hagion Oros Monê Batopediou fonds principal 0218</td>\n",
       "    </tr>\n",
       "    <tr>\n",
       "      <th>14</th>\n",
       "      <td>www.astronomoumenos.com/id/wo9988685</td>\n",
       "      <td>Scholia in Sophoclem</td>\n",
       "    </tr>\n",
       "    <tr>\n",
       "      <th>15</th>\n",
       "      <td>www.astronomoumenos.com/id/wo9819581</td>\n",
       "      <td>Opera</td>\n",
       "    </tr>\n",
       "    <tr>\n",
       "      <th>16</th>\n",
       "      <td>www.astronomoumenos.com/id/wo8783412</td>\n",
       "      <td>De conseruanda ualetudine</td>\n",
       "    </tr>\n",
       "    <tr>\n",
       "      <th>17</th>\n",
       "      <td>www.astronomoumenos.com/id/wo5570287</td>\n",
       "      <td>Comm.in Hipp.lib.sext.de Morbis Popular.</td>\n",
       "    </tr>\n",
       "    <tr>\n",
       "      <th>18</th>\n",
       "      <td>www.astronomoumenos.com/id/wo2810052</td>\n",
       "      <td>In Aduentum Domini Et De Consummatione Saeculi</td>\n",
       "    </tr>\n",
       "    <tr>\n",
       "      <th>19</th>\n",
       "      <td>www.astronomoumenos.com/id/wo9537245</td>\n",
       "      <td>Vita Hippocratis secundum Soranum</td>\n",
       "    </tr>\n",
       "  </tbody>\n",
       "</table>\n",
       "</div>"
      ],
      "text/plain": [
       "                                      1s  \\\n",
       "0      www.astronomoumenos.com/id/Zittau   \n",
       "1   www.astronomoumenos.com/id/wo3976291   \n",
       "2   www.astronomoumenos.com/id/wo2953998   \n",
       "3   www.astronomoumenos.com/id/wo3668550   \n",
       "4   www.astronomoumenos.com/id/ms9227276   \n",
       "5   www.astronomoumenos.com/id/ms3418540   \n",
       "6   www.astronomoumenos.com/id/ms7327659   \n",
       "7   www.astronomoumenos.com/id/ms5272119   \n",
       "8   www.astronomoumenos.com/id/au2510363   \n",
       "9   www.astronomoumenos.com/id/ms6774029   \n",
       "10  www.astronomoumenos.com/id/ms3779205   \n",
       "11  www.astronomoumenos.com/id/wo8898424   \n",
       "12  www.astronomoumenos.com/id/wo4599212   \n",
       "13  www.astronomoumenos.com/id/ms5586810   \n",
       "14  www.astronomoumenos.com/id/wo9988685   \n",
       "15  www.astronomoumenos.com/id/wo9819581   \n",
       "16  www.astronomoumenos.com/id/wo8783412   \n",
       "17  www.astronomoumenos.com/id/wo5570287   \n",
       "18  www.astronomoumenos.com/id/wo2810052   \n",
       "19  www.astronomoumenos.com/id/wo9537245   \n",
       "\n",
       "                                                   3o  \n",
       "0                                              Zittau  \n",
       "1                                             In Adam  \n",
       "2                Allegoria Anagogica In Iliadem 4:1-4  \n",
       "3                                  De Statu Spiritali  \n",
       "4      Mutilene Monê tou Leimônos fonds principal 335  \n",
       "5   Wien Österreichische Nationalbibliothek (ÖNB) ...  \n",
       "6   Venezia Biblioteca Nazionale Marciana gr. V. 0...  \n",
       "7   Vaticano Biblioteca Apostolica Vaticana Vat. g...  \n",
       "8                     Polybius hagiographus episcopus  \n",
       "9   Cambridge Corpus Christi College, Parker Libra...  \n",
       "10  Venezia Biblioteca Nazionale Marciana gr. Z. 3...  \n",
       "11                              In Porphyrii Isagogen  \n",
       "12                        Allegoria In Homeri Iliadem  \n",
       "13   Hagion Oros Monê Batopediou fonds principal 0218  \n",
       "14                               Scholia in Sophoclem  \n",
       "15                                              Opera  \n",
       "16                          De conseruanda ualetudine  \n",
       "17           Comm.in Hipp.lib.sext.de Morbis Popular.  \n",
       "18     In Aduentum Domini Et De Consummatione Saeculi  \n",
       "19                  Vita Hippocratis secundum Soranum  "
      ]
     },
     "execution_count": 161,
     "metadata": {},
     "output_type": "execute_result"
    }
   ],
   "source": [
    "result = g.query(\n",
    "        \"\"\"\n",
    "        PREFIX astr: <www.astronomoumenos.com/ontologies/astr.owl#>\n",
    "        PREFIX rdfs: <http://www.w3.org/2000/01/rdf-schema#>\n",
    "        PREFIX rdf: <http://www.w3.org/1999/02/22-rdf-syntax-ns#type>\n",
    "        SELECT * WHERE {\n",
    "            ?1s rdfs:label ?3o .\n",
    "            }\n",
    "            ORDER BY RAND() LIMIT 20\n",
    "            \"\"\")\n",
    "\n",
    "pd.DataFrame(result.bindings)"
   ]
  }
 ],
 "metadata": {
  "kernelspec": {
   "display_name": "Python 3",
   "language": "python",
   "name": "python3"
  },
  "language_info": {
   "codemirror_mode": {
    "name": "ipython",
    "version": 3
   },
   "file_extension": ".py",
   "mimetype": "text/x-python",
   "name": "python",
   "nbconvert_exporter": "python",
   "pygments_lexer": "ipython3",
   "version": "3.5.2"
  }
 },
 "nbformat": 4,
 "nbformat_minor": 2
}
