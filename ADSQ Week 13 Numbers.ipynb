{
 "cells": [
  {
   "cell_type": "markdown",
   "metadata": {},
   "source": [
    "## Imports"
   ]
  },
  {
   "cell_type": "code",
   "execution_count": 1,
   "metadata": {
    "collapsed": true
   },
   "outputs": [],
   "source": [
    "import gzip            \n",
    "import io              \n",
    "import numpy as np\n",
    "import pandas as pd    \n",
    "import pymysql.cursors \n",
    "import rdflib\n",
    "from rdflib import Namespace\n",
    "import urllib.request \n",
    "import math\n",
    "import scipy\n",
    "from scipy import stats\n",
    "import collections\n",
    "\n",
    "import matplotlib.pyplot as plt\n",
    "import matplotlib.pyplot as plt\n",
    "plt.style.use('ggplot')\n",
    "\n",
    "%matplotlib inline"
   ]
  },
  {
   "cell_type": "markdown",
   "metadata": {},
   "source": [
    "## Loading the RDF Graph"
   ]
  },
  {
   "cell_type": "code",
   "execution_count": 2,
   "metadata": {
    "collapsed": false
   },
   "outputs": [
    {
     "data": {
      "text/plain": [
       "<Graph identifier=Ncea9713aa2da41d982e6696aac12b34a (<class 'rdflib.graph.Graph'>)>"
      ]
     },
     "execution_count": 2,
     "metadata": {},
     "output_type": "execute_result"
    }
   ],
   "source": [
    "g = rdflib.Graph()\n",
    "g.parse('astr_dates.ttl', format='turtle')\n",
    "g.parse('astr.ttl', format='turtle')"
   ]
  },
  {
   "cell_type": "markdown",
   "metadata": {},
   "source": [
    "## Testing"
   ]
  },
  {
   "cell_type": "markdown",
   "metadata": {},
   "source": [
    "### All astr work identifiers"
   ]
  },
  {
   "cell_type": "code",
   "execution_count": 47,
   "metadata": {
    "collapsed": false
   },
   "outputs": [
    {
     "name": "stdout",
     "output_type": "stream",
     "text": [
      "6014\n"
     ]
    },
    {
     "data": {
      "text/html": [
       "<div>\n",
       "<table border=\"1\" class=\"dataframe\">\n",
       "  <thead>\n",
       "    <tr style=\"text-align: right;\">\n",
       "      <th></th>\n",
       "      <th>wo</th>\n",
       "    </tr>\n",
       "  </thead>\n",
       "  <tbody>\n",
       "    <tr>\n",
       "      <th>0</th>\n",
       "      <td>http://www.astronomoumenos.com/id/wo5359634</td>\n",
       "    </tr>\n",
       "    <tr>\n",
       "      <th>1</th>\n",
       "      <td>http://www.astronomoumenos.com/id/wo6219449</td>\n",
       "    </tr>\n",
       "    <tr>\n",
       "      <th>2</th>\n",
       "      <td>http://www.astronomoumenos.com/id/wo3736216</td>\n",
       "    </tr>\n",
       "    <tr>\n",
       "      <th>3</th>\n",
       "      <td>http://www.astronomoumenos.com/id/wo7802137</td>\n",
       "    </tr>\n",
       "    <tr>\n",
       "      <th>4</th>\n",
       "      <td>http://www.astronomoumenos.com/id/wo2766552</td>\n",
       "    </tr>\n",
       "  </tbody>\n",
       "</table>\n",
       "</div>"
      ],
      "text/plain": [
       "                                            wo\n",
       "0  http://www.astronomoumenos.com/id/wo5359634\n",
       "1  http://www.astronomoumenos.com/id/wo6219449\n",
       "2  http://www.astronomoumenos.com/id/wo3736216\n",
       "3  http://www.astronomoumenos.com/id/wo7802137\n",
       "4  http://www.astronomoumenos.com/id/wo2766552"
      ]
     },
     "execution_count": 47,
     "metadata": {},
     "output_type": "execute_result"
    }
   ],
   "source": [
    "\n",
    "result = g.query(\n",
    "        \"\"\"\n",
    "        PREFIX astr: <http://www.astronomoumenos.com/ontologies/astr.owl#>\n",
    "        PREFIX rdfs: <http://www.w3.org/2000/01/rdf-schema#>\n",
    "        PREFIX rdf: <http://www.w3.org/1999/02/22-rdf-syntax-ns#>\n",
    "        SELECT DISTINCT ?wo ?type WHERE {\n",
    "            ?wo a astr:Work .\n",
    "            }\n",
    "            \"\"\")\n",
    "\n",
    "works = pd.DataFrame(result.bindings)\n",
    "print(len(works))\n",
    "works.head()"
   ]
  },
  {
   "cell_type": "code",
   "execution_count": 33,
   "metadata": {
    "collapsed": true
   },
   "outputs": [],
   "source": [
    "astrID_wo_557 = (rdflib.term.URIRef('http://www.astronomoumenos.com/id/wo3982193'),rdflib.term.URIRef('http://www.astronomoumenos.com/id/wo6042193'),rdflib.term.URIRef('http://www.astronomoumenos.com/id/wo1561798'),rdflib.term.URIRef('http://www.astronomoumenos.com/id/wo9507454'),rdflib.term.URIRef('http://www.astronomoumenos.com/id/wo6599760'),rdflib.term.URIRef('http://www.astronomoumenos.com/id/wo6672854'),rdflib.term.URIRef('http://www.astronomoumenos.com/id/wo8816839'),rdflib.term.URIRef('http://www.astronomoumenos.com/id/wo6001569'),rdflib.term.URIRef('http://www.astronomoumenos.com/id/wo2460035'),rdflib.term.URIRef('http://www.astronomoumenos.com/id/wo3755425'),rdflib.term.URIRef('http://www.astronomoumenos.com/id/wo3186019'),rdflib.term.URIRef('http://www.astronomoumenos.com/id/wo2935057'),rdflib.term.URIRef('http://www.astronomoumenos.com/id/wo7994720'),rdflib.term.URIRef('http://www.astronomoumenos.com/id/wo9507684'),rdflib.term.URIRef('http://www.astronomoumenos.com/id/wo2728079'),rdflib.term.URIRef('http://www.astronomoumenos.com/id/wo8132911'),rdflib.term.URIRef('http://www.astronomoumenos.com/id/wo2018269'),rdflib.term.URIRef('http://www.astronomoumenos.com/id/wo8226667'),rdflib.term.URIRef('http://www.astronomoumenos.com/id/wo8411826'),rdflib.term.URIRef('http://www.astronomoumenos.com/id/wo5383880'),rdflib.term.URIRef('http://www.astronomoumenos.com/id/wo6129221'),rdflib.term.URIRef('http://www.astronomoumenos.com/id/wo8967184'),rdflib.term.URIRef('http://www.astronomoumenos.com/id/wo1967096'),rdflib.term.URIRef('http://www.astronomoumenos.com/id/wo7480655'),rdflib.term.URIRef('http://www.astronomoumenos.com/id/wo7052427'),rdflib.term.URIRef('http://www.astronomoumenos.com/id/wo4923607'),rdflib.term.URIRef('http://www.astronomoumenos.com/id/wo8630758'),rdflib.term.URIRef('http://www.astronomoumenos.com/id/wo3193963'),rdflib.term.URIRef('http://www.astronomoumenos.com/id/wo8119067'),rdflib.term.URIRef('http://www.astronomoumenos.com/id/wo7725104'),rdflib.term.URIRef('http://www.astronomoumenos.com/id/wo3872950'),rdflib.term.URIRef('http://www.astronomoumenos.com/id/wo7244795'),rdflib.term.URIRef('http://www.astronomoumenos.com/id/wo9104982'),rdflib.term.URIRef('http://www.astronomoumenos.com/id/wo5774657'),rdflib.term.URIRef('http://www.astronomoumenos.com/id/wo9589044'),rdflib.term.URIRef('http://www.astronomoumenos.com/id/wo7318064'),rdflib.term.URIRef('http://www.astronomoumenos.com/id/wo4168679'),rdflib.term.URIRef('http://www.astronomoumenos.com/id/wo9706356'),rdflib.term.URIRef('http://www.astronomoumenos.com/id/wo3654853'),rdflib.term.URIRef('http://www.astronomoumenos.com/id/wo1167012'),rdflib.term.URIRef('http://www.astronomoumenos.com/id/wo4402325'),rdflib.term.URIRef('http://www.astronomoumenos.com/id/wo5587879'),rdflib.term.URIRef('http://www.astronomoumenos.com/id/wo8530974'),rdflib.term.URIRef('http://www.astronomoumenos.com/id/wo8086058'),rdflib.term.URIRef('http://www.astronomoumenos.com/id/wo1131137'),rdflib.term.URIRef('http://www.astronomoumenos.com/id/wo4551098'),rdflib.term.URIRef('http://www.astronomoumenos.com/id/wo4437439'),rdflib.term.URIRef('http://www.astronomoumenos.com/id/wo9126620'),rdflib.term.URIRef('http://www.astronomoumenos.com/id/wo7590464'),rdflib.term.URIRef('http://www.astronomoumenos.com/id/wo1688941'),rdflib.term.URIRef('http://www.astronomoumenos.com/id/wo2356090'),rdflib.term.URIRef('http://www.astronomoumenos.com/id/wo4160251'),rdflib.term.URIRef('http://www.astronomoumenos.com/id/wo5175135'),rdflib.term.URIRef('http://www.astronomoumenos.com/id/wo1177223'),rdflib.term.URIRef('http://www.astronomoumenos.com/id/wo5272172'),rdflib.term.URIRef('http://www.astronomoumenos.com/id/wo2188680'),rdflib.term.URIRef('http://www.astronomoumenos.com/id/wo9938524'),rdflib.term.URIRef('http://www.astronomoumenos.com/id/wo4896248'),rdflib.term.URIRef('http://www.astronomoumenos.com/id/wo3391896'),rdflib.term.URIRef('http://www.astronomoumenos.com/id/wo3574489'),rdflib.term.URIRef('http://www.astronomoumenos.com/id/wo8033262'),rdflib.term.URIRef('http://www.astronomoumenos.com/id/wo7441863'),rdflib.term.URIRef('http://www.astronomoumenos.com/id/wo9656526'),rdflib.term.URIRef('http://www.astronomoumenos.com/id/wo2426493'),rdflib.term.URIRef('http://www.astronomoumenos.com/id/wo8983549'),rdflib.term.URIRef('http://www.astronomoumenos.com/id/wo3784696'),rdflib.term.URIRef('http://www.astronomoumenos.com/id/wo5201901'),rdflib.term.URIRef('http://www.astronomoumenos.com/id/wo9918682'),rdflib.term.URIRef('http://www.astronomoumenos.com/id/wo9508506'),rdflib.term.URIRef('http://www.astronomoumenos.com/id/wo2424915'),rdflib.term.URIRef('http://www.astronomoumenos.com/id/wo8030049'),rdflib.term.URIRef('http://www.astronomoumenos.com/id/wo3258119'),rdflib.term.URIRef('http://www.astronomoumenos.com/id/wo7413161'),rdflib.term.URIRef('http://www.astronomoumenos.com/id/wo3983175'),rdflib.term.URIRef('http://www.astronomoumenos.com/id/wo2806506'),rdflib.term.URIRef('http://www.astronomoumenos.com/id/wo9903453'),rdflib.term.URIRef('http://www.astronomoumenos.com/id/wo9036913'),rdflib.term.URIRef('http://www.astronomoumenos.com/id/wo5131463'),rdflib.term.URIRef('http://www.astronomoumenos.com/id/wo9989402'),rdflib.term.URIRef('http://www.astronomoumenos.com/id/wo6962105'),rdflib.term.URIRef('http://www.astronomoumenos.com/id/wo6776580'),rdflib.term.URIRef('http://www.astronomoumenos.com/id/wo9303852'),rdflib.term.URIRef('http://www.astronomoumenos.com/id/wo9833553'),rdflib.term.URIRef('http://www.astronomoumenos.com/id/wo1005453'),rdflib.term.URIRef('http://www.astronomoumenos.com/id/wo8250014'),rdflib.term.URIRef('http://www.astronomoumenos.com/id/wo8953818'),rdflib.term.URIRef('http://www.astronomoumenos.com/id/wo8529873'),rdflib.term.URIRef('http://www.astronomoumenos.com/id/wo3989302'),rdflib.term.URIRef('http://www.astronomoumenos.com/id/wo2884173'),rdflib.term.URIRef('http://www.astronomoumenos.com/id/wo3990915'),rdflib.term.URIRef('http://www.astronomoumenos.com/id/wo9205589'),rdflib.term.URIRef('http://www.astronomoumenos.com/id/wo5265350'),rdflib.term.URIRef('http://www.astronomoumenos.com/id/wo8392706'),rdflib.term.URIRef('http://www.astronomoumenos.com/id/wo3529245'),rdflib.term.URIRef('http://www.astronomoumenos.com/id/wo4509235'),rdflib.term.URIRef('http://www.astronomoumenos.com/id/wo9410010'),rdflib.term.URIRef('http://www.astronomoumenos.com/id/wo4562936'),rdflib.term.URIRef('http://www.astronomoumenos.com/id/wo5594388'),rdflib.term.URIRef('http://www.astronomoumenos.com/id/wo4306010'),rdflib.term.URIRef('http://www.astronomoumenos.com/id/wo7960196'),rdflib.term.URIRef('http://www.astronomoumenos.com/id/wo5275726'),rdflib.term.URIRef('http://www.astronomoumenos.com/id/wo2055302'),rdflib.term.URIRef('http://www.astronomoumenos.com/id/wo1713018'),rdflib.term.URIRef('http://www.astronomoumenos.com/id/wo2738142'),rdflib.term.URIRef('http://www.astronomoumenos.com/id/wo4023616'),rdflib.term.URIRef('http://www.astronomoumenos.com/id/wo1389443'),rdflib.term.URIRef('http://www.astronomoumenos.com/id/wo6597088'),rdflib.term.URIRef('http://www.astronomoumenos.com/id/wo5894821'),rdflib.term.URIRef('http://www.astronomoumenos.com/id/wo8284366'),rdflib.term.URIRef('http://www.astronomoumenos.com/id/wo2370030'),rdflib.term.URIRef('http://www.astronomoumenos.com/id/wo3645886'),rdflib.term.URIRef('http://www.astronomoumenos.com/id/wo3108977'),rdflib.term.URIRef('http://www.astronomoumenos.com/id/wo4182363'),rdflib.term.URIRef('http://www.astronomoumenos.com/id/wo2924397'),rdflib.term.URIRef('http://www.astronomoumenos.com/id/wo7043777'),rdflib.term.URIRef('http://www.astronomoumenos.com/id/wo7068615'),rdflib.term.URIRef('http://www.astronomoumenos.com/id/wo5537651'),rdflib.term.URIRef('http://www.astronomoumenos.com/id/wo2429236'),rdflib.term.URIRef('http://www.astronomoumenos.com/id/wo5091952'),rdflib.term.URIRef('http://www.astronomoumenos.com/id/wo8645914'),rdflib.term.URIRef('http://www.astronomoumenos.com/id/wo7688669'),rdflib.term.URIRef('http://www.astronomoumenos.com/id/wo6914730'),rdflib.term.URIRef('http://www.astronomoumenos.com/id/wo8074093'),rdflib.term.URIRef('http://www.astronomoumenos.com/id/wo2963534'),rdflib.term.URIRef('http://www.astronomoumenos.com/id/wo7307251'),rdflib.term.URIRef('http://www.astronomoumenos.com/id/wo3921837'),rdflib.term.URIRef('http://www.astronomoumenos.com/id/wo6140352'),rdflib.term.URIRef('http://www.astronomoumenos.com/id/wo5472089'),rdflib.term.URIRef('http://www.astronomoumenos.com/id/wo4145656'),rdflib.term.URIRef('http://www.astronomoumenos.com/id/wo9613495'),rdflib.term.URIRef('http://www.astronomoumenos.com/id/wo2551990'),rdflib.term.URIRef('http://www.astronomoumenos.com/id/wo6406012'),rdflib.term.URIRef('http://www.astronomoumenos.com/id/wo5802715'),rdflib.term.URIRef('http://www.astronomoumenos.com/id/wo7755873'),rdflib.term.URIRef('http://www.astronomoumenos.com/id/wo2509714'),rdflib.term.URIRef('http://www.astronomoumenos.com/id/wo9190318'),rdflib.term.URIRef('http://www.astronomoumenos.com/id/wo2848579'),rdflib.term.URIRef('http://www.astronomoumenos.com/id/wo6548821'),rdflib.term.URIRef('http://www.astronomoumenos.com/id/wo2683535'),rdflib.term.URIRef('http://www.astronomoumenos.com/id/wo8110646'),rdflib.term.URIRef('http://www.astronomoumenos.com/id/wo5956748'),rdflib.term.URIRef('http://www.astronomoumenos.com/id/wo8907238'),rdflib.term.URIRef('http://www.astronomoumenos.com/id/wo6155119'),rdflib.term.URIRef('http://www.astronomoumenos.com/id/wo9062836'),rdflib.term.URIRef('http://www.astronomoumenos.com/id/wo3858075'),rdflib.term.URIRef('http://www.astronomoumenos.com/id/wo5629669'),rdflib.term.URIRef('http://www.astronomoumenos.com/id/wo8224518'),rdflib.term.URIRef('http://www.astronomoumenos.com/id/wo6995427'),rdflib.term.URIRef('http://www.astronomoumenos.com/id/wo9331560'),rdflib.term.URIRef('http://www.astronomoumenos.com/id/wo9457145'),rdflib.term.URIRef('http://www.astronomoumenos.com/id/wo3381210'),rdflib.term.URIRef('http://www.astronomoumenos.com/id/wo4952379'),rdflib.term.URIRef('http://www.astronomoumenos.com/id/wo7985215'),rdflib.term.URIRef('http://www.astronomoumenos.com/id/wo6250400'),rdflib.term.URIRef('http://www.astronomoumenos.com/id/wo4323515'),rdflib.term.URIRef('http://www.astronomoumenos.com/id/wo7635466'),rdflib.term.URIRef('http://www.astronomoumenos.com/id/wo6458212'),rdflib.term.URIRef('http://www.astronomoumenos.com/id/wo8038337'),rdflib.term.URIRef('http://www.astronomoumenos.com/id/wo9278881'),rdflib.term.URIRef('http://www.astronomoumenos.com/id/wo7238053'),rdflib.term.URIRef('http://www.astronomoumenos.com/id/wo3093197'),rdflib.term.URIRef('http://www.astronomoumenos.com/id/wo2954639'),rdflib.term.URIRef('http://www.astronomoumenos.com/id/wo3796005'),rdflib.term.URIRef('http://www.astronomoumenos.com/id/wo6632198'),rdflib.term.URIRef('http://www.astronomoumenos.com/id/wo8195108'),rdflib.term.URIRef('http://www.astronomoumenos.com/id/wo8111227'),rdflib.term.URIRef('http://www.astronomoumenos.com/id/wo7356485'),rdflib.term.URIRef('http://www.astronomoumenos.com/id/wo2985405'),rdflib.term.URIRef('http://www.astronomoumenos.com/id/wo8494187'),rdflib.term.URIRef('http://www.astronomoumenos.com/id/wo8640813'),rdflib.term.URIRef('http://www.astronomoumenos.com/id/wo5729843'),rdflib.term.URIRef('http://www.astronomoumenos.com/id/wo2762610'),rdflib.term.URIRef('http://www.astronomoumenos.com/id/wo8005934'),rdflib.term.URIRef('http://www.astronomoumenos.com/id/wo3343098'),rdflib.term.URIRef('http://www.astronomoumenos.com/id/wo2594899'),rdflib.term.URIRef('http://www.astronomoumenos.com/id/wo1043636'),rdflib.term.URIRef('http://www.astronomoumenos.com/id/wo4286240'),rdflib.term.URIRef('http://www.astronomoumenos.com/id/wo9422336'),rdflib.term.URIRef('http://www.astronomoumenos.com/id/wo8299581'),rdflib.term.URIRef('http://www.astronomoumenos.com/id/wo2507416'),rdflib.term.URIRef('http://www.astronomoumenos.com/id/wo1621524'),rdflib.term.URIRef('http://www.astronomoumenos.com/id/wo8227194'),rdflib.term.URIRef('http://www.astronomoumenos.com/id/wo2783319'),rdflib.term.URIRef('http://www.astronomoumenos.com/id/wo5222363'),rdflib.term.URIRef('http://www.astronomoumenos.com/id/wo9397209'),rdflib.term.URIRef('http://www.astronomoumenos.com/id/wo7402154'),rdflib.term.URIRef('http://www.astronomoumenos.com/id/wo6215410'),rdflib.term.URIRef('http://www.astronomoumenos.com/id/wo6382940'),rdflib.term.URIRef('http://www.astronomoumenos.com/id/wo5436260'),rdflib.term.URIRef('http://www.astronomoumenos.com/id/wo6947971'),rdflib.term.URIRef('http://www.astronomoumenos.com/id/wo8529699'),rdflib.term.URIRef('http://www.astronomoumenos.com/id/wo5620528'),rdflib.term.URIRef('http://www.astronomoumenos.com/id/wo5392584'),rdflib.term.URIRef('http://www.astronomoumenos.com/id/wo4607076'),rdflib.term.URIRef('http://www.astronomoumenos.com/id/wo4843582'),rdflib.term.URIRef('http://www.astronomoumenos.com/id/wo1663867'),rdflib.term.URIRef('http://www.astronomoumenos.com/id/wo3058110'),rdflib.term.URIRef('http://www.astronomoumenos.com/id/wo8586085'),rdflib.term.URIRef('http://www.astronomoumenos.com/id/wo1956278'),rdflib.term.URIRef('http://www.astronomoumenos.com/id/wo3980461'),rdflib.term.URIRef('http://www.astronomoumenos.com/id/wo1422603'),rdflib.term.URIRef('http://www.astronomoumenos.com/id/wo5910387'),rdflib.term.URIRef('http://www.astronomoumenos.com/id/wo2125293'),rdflib.term.URIRef('http://www.astronomoumenos.com/id/wo1256421'),rdflib.term.URIRef('http://www.astronomoumenos.com/id/wo7859660'),rdflib.term.URIRef('http://www.astronomoumenos.com/id/wo7235399'),rdflib.term.URIRef('http://www.astronomoumenos.com/id/wo5723972'),rdflib.term.URIRef('http://www.astronomoumenos.com/id/wo3225876'),rdflib.term.URIRef('http://www.astronomoumenos.com/id/wo5251681'),rdflib.term.URIRef('http://www.astronomoumenos.com/id/wo8570260'),rdflib.term.URIRef('http://www.astronomoumenos.com/id/wo5921815'),rdflib.term.URIRef('http://www.astronomoumenos.com/id/wo1222860'),rdflib.term.URIRef('http://www.astronomoumenos.com/id/wo3706057'),rdflib.term.URIRef('http://www.astronomoumenos.com/id/wo2422233'),rdflib.term.URIRef('http://www.astronomoumenos.com/id/wo5476584'),rdflib.term.URIRef('http://www.astronomoumenos.com/id/wo5649233'),rdflib.term.URIRef('http://www.astronomoumenos.com/id/wo5748142'),rdflib.term.URIRef('http://www.astronomoumenos.com/id/wo2911568'),rdflib.term.URIRef('http://www.astronomoumenos.com/id/wo8243216'),rdflib.term.URIRef('http://www.astronomoumenos.com/id/wo5553703'),rdflib.term.URIRef('http://www.astronomoumenos.com/id/wo7871928'),rdflib.term.URIRef('http://www.astronomoumenos.com/id/wo8733844'),rdflib.term.URIRef('http://www.astronomoumenos.com/id/wo1477956'),rdflib.term.URIRef('http://www.astronomoumenos.com/id/wo6207969'),rdflib.term.URIRef('http://www.astronomoumenos.com/id/wo3541934'),rdflib.term.URIRef('http://www.astronomoumenos.com/id/wo7807542'),rdflib.term.URIRef('http://www.astronomoumenos.com/id/wo3473977'),rdflib.term.URIRef('http://www.astronomoumenos.com/id/wo1397531'),rdflib.term.URIRef('http://www.astronomoumenos.com/id/wo3799379'),rdflib.term.URIRef('http://www.astronomoumenos.com/id/wo7511359'),rdflib.term.URIRef('http://www.astronomoumenos.com/id/wo5437099'),rdflib.term.URIRef('http://www.astronomoumenos.com/id/wo1275851'),rdflib.term.URIRef('http://www.astronomoumenos.com/id/wo4640928'),rdflib.term.URIRef('http://www.astronomoumenos.com/id/wo5499745'),rdflib.term.URIRef('http://www.astronomoumenos.com/id/wo7041218'),rdflib.term.URIRef('http://www.astronomoumenos.com/id/wo6505208'),rdflib.term.URIRef('http://www.astronomoumenos.com/id/wo4256003'),rdflib.term.URIRef('http://www.astronomoumenos.com/id/wo7287694'),rdflib.term.URIRef('http://www.astronomoumenos.com/id/wo9772462'),rdflib.term.URIRef('http://www.astronomoumenos.com/id/wo3101931'),rdflib.term.URIRef('http://www.astronomoumenos.com/id/wo1096453'),rdflib.term.URIRef('http://www.astronomoumenos.com/id/wo3977432'),rdflib.term.URIRef('http://www.astronomoumenos.com/id/wo5122983'),rdflib.term.URIRef('http://www.astronomoumenos.com/id/wo3974329'),rdflib.term.URIRef('http://www.astronomoumenos.com/id/wo6827545'),rdflib.term.URIRef('http://www.astronomoumenos.com/id/wo8005307'),rdflib.term.URIRef('http://www.astronomoumenos.com/id/wo4164256'),rdflib.term.URIRef('http://www.astronomoumenos.com/id/wo1440318'),rdflib.term.URIRef('http://www.astronomoumenos.com/id/wo7139876'),rdflib.term.URIRef('http://www.astronomoumenos.com/id/wo9901335'),rdflib.term.URIRef('http://www.astronomoumenos.com/id/wo5892324'),rdflib.term.URIRef('http://www.astronomoumenos.com/id/wo1486349'),rdflib.term.URIRef('http://www.astronomoumenos.com/id/wo4739951'),rdflib.term.URIRef('http://www.astronomoumenos.com/id/wo3782973'),rdflib.term.URIRef('http://www.astronomoumenos.com/id/wo7284932'),rdflib.term.URIRef('http://www.astronomoumenos.com/id/wo6624424'),rdflib.term.URIRef('http://www.astronomoumenos.com/id/wo8141518'),rdflib.term.URIRef('http://www.astronomoumenos.com/id/wo4656358'),rdflib.term.URIRef('http://www.astronomoumenos.com/id/wo2977926'),rdflib.term.URIRef('http://www.astronomoumenos.com/id/wo4379997'),rdflib.term.URIRef('http://www.astronomoumenos.com/id/wo3590839'),rdflib.term.URIRef('http://www.astronomoumenos.com/id/wo6143257'),rdflib.term.URIRef('http://www.astronomoumenos.com/id/wo1787630'),rdflib.term.URIRef('http://www.astronomoumenos.com/id/wo2299894'),rdflib.term.URIRef('http://www.astronomoumenos.com/id/wo8555256'),rdflib.term.URIRef('http://www.astronomoumenos.com/id/wo2162723'),rdflib.term.URIRef('http://www.astronomoumenos.com/id/wo2158587'),rdflib.term.URIRef('http://www.astronomoumenos.com/id/wo9962702'),rdflib.term.URIRef('http://www.astronomoumenos.com/id/wo5479898'),rdflib.term.URIRef('http://www.astronomoumenos.com/id/wo6994914'),rdflib.term.URIRef('http://www.astronomoumenos.com/id/wo9305303'),rdflib.term.URIRef('http://www.astronomoumenos.com/id/wo8477198'),rdflib.term.URIRef('http://www.astronomoumenos.com/id/wo9337585'),rdflib.term.URIRef('http://www.astronomoumenos.com/id/wo3539836'),rdflib.term.URIRef('http://www.astronomoumenos.com/id/wo7482217'),rdflib.term.URIRef('http://www.astronomoumenos.com/id/wo9260579'),rdflib.term.URIRef('http://www.astronomoumenos.com/id/wo9141542'),rdflib.term.URIRef('http://www.astronomoumenos.com/id/wo5092966'),rdflib.term.URIRef('http://www.astronomoumenos.com/id/wo2032176'),rdflib.term.URIRef('http://www.astronomoumenos.com/id/wo8417433'),rdflib.term.URIRef('http://www.astronomoumenos.com/id/wo7173517'),rdflib.term.URIRef('http://www.astronomoumenos.com/id/wo9417326'),rdflib.term.URIRef('http://www.astronomoumenos.com/id/wo3142937'),rdflib.term.URIRef('http://www.astronomoumenos.com/id/wo8480677'),rdflib.term.URIRef('http://www.astronomoumenos.com/id/wo3916048'),rdflib.term.URIRef('http://www.astronomoumenos.com/id/wo5702098'),rdflib.term.URIRef('http://www.astronomoumenos.com/id/wo2526448'),rdflib.term.URIRef('http://www.astronomoumenos.com/id/wo2376060'),rdflib.term.URIRef('http://www.astronomoumenos.com/id/wo8508657'),rdflib.term.URIRef('http://www.astronomoumenos.com/id/wo4907235'),rdflib.term.URIRef('http://www.astronomoumenos.com/id/wo1441025'),rdflib.term.URIRef('http://www.astronomoumenos.com/id/wo3047237'),rdflib.term.URIRef('http://www.astronomoumenos.com/id/wo9868417'),rdflib.term.URIRef('http://www.astronomoumenos.com/id/wo1305865'),rdflib.term.URIRef('http://www.astronomoumenos.com/id/wo1335685'),rdflib.term.URIRef('http://www.astronomoumenos.com/id/wo6819427'),rdflib.term.URIRef('http://www.astronomoumenos.com/id/wo5399551'),rdflib.term.URIRef('http://www.astronomoumenos.com/id/wo5171731'),rdflib.term.URIRef('http://www.astronomoumenos.com/id/wo7307479'),rdflib.term.URIRef('http://www.astronomoumenos.com/id/wo4269371'),rdflib.term.URIRef('http://www.astronomoumenos.com/id/wo6024577'),rdflib.term.URIRef('http://www.astronomoumenos.com/id/wo8004334'),rdflib.term.URIRef('http://www.astronomoumenos.com/id/wo6027511'),rdflib.term.URIRef('http://www.astronomoumenos.com/id/wo4276153'),rdflib.term.URIRef('http://www.astronomoumenos.com/id/wo5055368'),rdflib.term.URIRef('http://www.astronomoumenos.com/id/wo5353471'),rdflib.term.URIRef('http://www.astronomoumenos.com/id/wo6993379'),rdflib.term.URIRef('http://www.astronomoumenos.com/id/wo2888767'),rdflib.term.URIRef('http://www.astronomoumenos.com/id/wo8851826'),rdflib.term.URIRef('http://www.astronomoumenos.com/id/wo7467907'),rdflib.term.URIRef('http://www.astronomoumenos.com/id/wo3317968'),rdflib.term.URIRef('http://www.astronomoumenos.com/id/wo5318335'),rdflib.term.URIRef('http://www.astronomoumenos.com/id/wo4675322'),rdflib.term.URIRef('http://www.astronomoumenos.com/id/wo7465675'),rdflib.term.URIRef('http://www.astronomoumenos.com/id/wo7395492'),rdflib.term.URIRef('http://www.astronomoumenos.com/id/wo4196496'),rdflib.term.URIRef('http://www.astronomoumenos.com/id/wo7008494'),rdflib.term.URIRef('http://www.astronomoumenos.com/id/wo6718545'),rdflib.term.URIRef('http://www.astronomoumenos.com/id/wo6937827'),rdflib.term.URIRef('http://www.astronomoumenos.com/id/wo6664964'),rdflib.term.URIRef('http://www.astronomoumenos.com/id/wo5063042'),rdflib.term.URIRef('http://www.astronomoumenos.com/id/wo3964866'),rdflib.term.URIRef('http://www.astronomoumenos.com/id/wo9901464'),rdflib.term.URIRef('http://www.astronomoumenos.com/id/wo3301178'),rdflib.term.URIRef('http://www.astronomoumenos.com/id/wo2613445'),rdflib.term.URIRef('http://www.astronomoumenos.com/id/wo2366520'),rdflib.term.URIRef('http://www.astronomoumenos.com/id/wo8242690'),rdflib.term.URIRef('http://www.astronomoumenos.com/id/wo8233419'),rdflib.term.URIRef('http://www.astronomoumenos.com/id/wo3257579'),rdflib.term.URIRef('http://www.astronomoumenos.com/id/wo4533067'),rdflib.term.URIRef('http://www.astronomoumenos.com/id/wo3211267'),rdflib.term.URIRef('http://www.astronomoumenos.com/id/wo5359634'),rdflib.term.URIRef('http://www.astronomoumenos.com/id/wo9639887'),rdflib.term.URIRef('http://www.astronomoumenos.com/id/wo6833457'),rdflib.term.URIRef('http://www.astronomoumenos.com/id/wo7062054'),rdflib.term.URIRef('http://www.astronomoumenos.com/id/wo7544197'),rdflib.term.URIRef('http://www.astronomoumenos.com/id/wo8147430'),rdflib.term.URIRef('http://www.astronomoumenos.com/id/wo5276671'),rdflib.term.URIRef('http://www.astronomoumenos.com/id/wo6370926'),rdflib.term.URIRef('http://www.astronomoumenos.com/id/wo5074581'),rdflib.term.URIRef('http://www.astronomoumenos.com/id/wo7260569'),rdflib.term.URIRef('http://www.astronomoumenos.com/id/wo3278668'),rdflib.term.URIRef('http://www.astronomoumenos.com/id/wo6509356'),rdflib.term.URIRef('http://www.astronomoumenos.com/id/wo3095752'),rdflib.term.URIRef('http://www.astronomoumenos.com/id/wo2993852'),rdflib.term.URIRef('http://www.astronomoumenos.com/id/wo8922906'),rdflib.term.URIRef('http://www.astronomoumenos.com/id/wo2925030'),rdflib.term.URIRef('http://www.astronomoumenos.com/id/wo9455022'),rdflib.term.URIRef('http://www.astronomoumenos.com/id/wo2417352'),rdflib.term.URIRef('http://www.astronomoumenos.com/id/wo2624157'),rdflib.term.URIRef('http://www.astronomoumenos.com/id/wo3240792'),rdflib.term.URIRef('http://www.astronomoumenos.com/id/wo6990840'),rdflib.term.URIRef('http://www.astronomoumenos.com/id/wo1466425'),rdflib.term.URIRef('http://www.astronomoumenos.com/id/wo8548730'),rdflib.term.URIRef('http://www.astronomoumenos.com/id/wo4539943'),rdflib.term.URIRef('http://www.astronomoumenos.com/id/wo5916006'),rdflib.term.URIRef('http://www.astronomoumenos.com/id/wo7191108'),rdflib.term.URIRef('http://www.astronomoumenos.com/id/wo3451006'),rdflib.term.URIRef('http://www.astronomoumenos.com/id/wo2681317'),rdflib.term.URIRef('http://www.astronomoumenos.com/id/wo9633060'),rdflib.term.URIRef('http://www.astronomoumenos.com/id/wo6678989'),rdflib.term.URIRef('http://www.astronomoumenos.com/id/wo1418613'),rdflib.term.URIRef('http://www.astronomoumenos.com/id/wo7946796'),rdflib.term.URIRef('http://www.astronomoumenos.com/id/wo2125690'),rdflib.term.URIRef('http://www.astronomoumenos.com/id/wo3238851'),rdflib.term.URIRef('http://www.astronomoumenos.com/id/wo8269230'),rdflib.term.URIRef('http://www.astronomoumenos.com/id/wo4712871'),rdflib.term.URIRef('http://www.astronomoumenos.com/id/wo1471548'),rdflib.term.URIRef('http://www.astronomoumenos.com/id/wo3033605'),rdflib.term.URIRef('http://www.astronomoumenos.com/id/wo4500494'),rdflib.term.URIRef('http://www.astronomoumenos.com/id/wo5800917'),rdflib.term.URIRef('http://www.astronomoumenos.com/id/wo2378200'),rdflib.term.URIRef('http://www.astronomoumenos.com/id/wo8762474'),rdflib.term.URIRef('http://www.astronomoumenos.com/id/wo3625764'),rdflib.term.URIRef('http://www.astronomoumenos.com/id/wo8542730'),rdflib.term.URIRef('http://www.astronomoumenos.com/id/wo6651607'),rdflib.term.URIRef('http://www.astronomoumenos.com/id/wo6739193'),rdflib.term.URIRef('http://www.astronomoumenos.com/id/wo3990957'),rdflib.term.URIRef('http://www.astronomoumenos.com/id/wo1169501'),rdflib.term.URIRef('http://www.astronomoumenos.com/id/wo6451903'),rdflib.term.URIRef('http://www.astronomoumenos.com/id/wo2686672'),rdflib.term.URIRef('http://www.astronomoumenos.com/id/wo8992919'),rdflib.term.URIRef('http://www.astronomoumenos.com/id/wo8954565'),rdflib.term.URIRef('http://www.astronomoumenos.com/id/wo1147267'),rdflib.term.URIRef('http://www.astronomoumenos.com/id/wo1866688'),rdflib.term.URIRef('http://www.astronomoumenos.com/id/wo5779475'),rdflib.term.URIRef('http://www.astronomoumenos.com/id/wo2664331'),rdflib.term.URIRef('http://www.astronomoumenos.com/id/wo6127126'),rdflib.term.URIRef('http://www.astronomoumenos.com/id/wo4364224'),rdflib.term.URIRef('http://www.astronomoumenos.com/id/wo4162766'),rdflib.term.URIRef('http://www.astronomoumenos.com/id/wo2677586'),rdflib.term.URIRef('http://www.astronomoumenos.com/id/wo3361566'),rdflib.term.URIRef('http://www.astronomoumenos.com/id/wo8949418'),rdflib.term.URIRef('http://www.astronomoumenos.com/id/wo6809399'),rdflib.term.URIRef('http://www.astronomoumenos.com/id/wo2332805'),rdflib.term.URIRef('http://www.astronomoumenos.com/id/wo7695113'),rdflib.term.URIRef('http://www.astronomoumenos.com/id/wo6222520'),rdflib.term.URIRef('http://www.astronomoumenos.com/id/wo3849972'),rdflib.term.URIRef('http://www.astronomoumenos.com/id/wo3424367'),rdflib.term.URIRef('http://www.astronomoumenos.com/id/wo3243242'),rdflib.term.URIRef('http://www.astronomoumenos.com/id/wo1418287'),rdflib.term.URIRef('http://www.astronomoumenos.com/id/wo9035060'),rdflib.term.URIRef('http://www.astronomoumenos.com/id/wo2386534'),rdflib.term.URIRef('http://www.astronomoumenos.com/id/wo7249397'),rdflib.term.URIRef('http://www.astronomoumenos.com/id/wo2971301'),rdflib.term.URIRef('http://www.astronomoumenos.com/id/wo1236012'),rdflib.term.URIRef('http://www.astronomoumenos.com/id/wo5977883'),rdflib.term.URIRef('http://www.astronomoumenos.com/id/wo8619734'),rdflib.term.URIRef('http://www.astronomoumenos.com/id/wo9251636'),rdflib.term.URIRef('http://www.astronomoumenos.com/id/wo2500995'),rdflib.term.URIRef('http://www.astronomoumenos.com/id/wo5753980'),rdflib.term.URIRef('http://www.astronomoumenos.com/id/wo4809823'),rdflib.term.URIRef('http://www.astronomoumenos.com/id/wo9797466'),rdflib.term.URIRef('http://www.astronomoumenos.com/id/wo3809754'),rdflib.term.URIRef('http://www.astronomoumenos.com/id/wo8825947'),rdflib.term.URIRef('http://www.astronomoumenos.com/id/wo8612313'),rdflib.term.URIRef('http://www.astronomoumenos.com/id/wo2391833'),rdflib.term.URIRef('http://www.astronomoumenos.com/id/wo6560273'),rdflib.term.URIRef('http://www.astronomoumenos.com/id/wo4667602'),rdflib.term.URIRef('http://www.astronomoumenos.com/id/wo6561621'),rdflib.term.URIRef('http://www.astronomoumenos.com/id/wo1127645'),rdflib.term.URIRef('http://www.astronomoumenos.com/id/wo8934448'),rdflib.term.URIRef('http://www.astronomoumenos.com/id/wo9760335'),rdflib.term.URIRef('http://www.astronomoumenos.com/id/wo1946618'),rdflib.term.URIRef('http://www.astronomoumenos.com/id/wo1635876'),rdflib.term.URIRef('http://www.astronomoumenos.com/id/wo3841505'),rdflib.term.URIRef('http://www.astronomoumenos.com/id/wo4162858'),rdflib.term.URIRef('http://www.astronomoumenos.com/id/wo2751268'),rdflib.term.URIRef('http://www.astronomoumenos.com/id/wo1093232'),rdflib.term.URIRef('http://www.astronomoumenos.com/id/wo5322935'),rdflib.term.URIRef('http://www.astronomoumenos.com/id/wo9010447'),rdflib.term.URIRef('http://www.astronomoumenos.com/id/wo5089504'),rdflib.term.URIRef('http://www.astronomoumenos.com/id/wo2063775'),rdflib.term.URIRef('http://www.astronomoumenos.com/id/wo4330723'),rdflib.term.URIRef('http://www.astronomoumenos.com/id/wo3902966'),rdflib.term.URIRef('http://www.astronomoumenos.com/id/wo6626384'),rdflib.term.URIRef('http://www.astronomoumenos.com/id/wo1596573'),rdflib.term.URIRef('http://www.astronomoumenos.com/id/wo9047035'),rdflib.term.URIRef('http://www.astronomoumenos.com/id/wo6421900'),rdflib.term.URIRef('http://www.astronomoumenos.com/id/wo4336668'),rdflib.term.URIRef('http://www.astronomoumenos.com/id/wo1459022'),rdflib.term.URIRef('http://www.astronomoumenos.com/id/wo4077057'),rdflib.term.URIRef('http://www.astronomoumenos.com/id/wo9911386'),rdflib.term.URIRef('http://www.astronomoumenos.com/id/wo4839236'),rdflib.term.URIRef('http://www.astronomoumenos.com/id/wo8517330'),rdflib.term.URIRef('http://www.astronomoumenos.com/id/wo1410596'),rdflib.term.URIRef('http://www.astronomoumenos.com/id/wo5138281'),rdflib.term.URIRef('http://www.astronomoumenos.com/id/wo7634388'),rdflib.term.URIRef('http://www.astronomoumenos.com/id/wo3668864'),rdflib.term.URIRef('http://www.astronomoumenos.com/id/wo2350045'),rdflib.term.URIRef('http://www.astronomoumenos.com/id/wo1233388'),rdflib.term.URIRef('http://www.astronomoumenos.com/id/wo9388332'),rdflib.term.URIRef('http://www.astronomoumenos.com/id/wo2263426'),rdflib.term.URIRef('http://www.astronomoumenos.com/id/wo3086704'),rdflib.term.URIRef('http://www.astronomoumenos.com/id/wo5867477'),rdflib.term.URIRef('http://www.astronomoumenos.com/id/wo3709391'),rdflib.term.URIRef('http://www.astronomoumenos.com/id/wo3100084'),rdflib.term.URIRef('http://www.astronomoumenos.com/id/wo6412903'),rdflib.term.URIRef('http://www.astronomoumenos.com/id/wo7046802'),rdflib.term.URIRef('http://www.astronomoumenos.com/id/wo5757295'),rdflib.term.URIRef('http://www.astronomoumenos.com/id/wo9593620'),rdflib.term.URIRef('http://www.astronomoumenos.com/id/wo5419349'),rdflib.term.URIRef('http://www.astronomoumenos.com/id/wo2734983'),rdflib.term.URIRef('http://www.astronomoumenos.com/id/wo3804387'),rdflib.term.URIRef('http://www.astronomoumenos.com/id/wo6718818'),rdflib.term.URIRef('http://www.astronomoumenos.com/id/wo8114408'),rdflib.term.URIRef('http://www.astronomoumenos.com/id/wo3150688'),rdflib.term.URIRef('http://www.astronomoumenos.com/id/wo4770564'),rdflib.term.URIRef('http://www.astronomoumenos.com/id/wo1705849'),rdflib.term.URIRef('http://www.astronomoumenos.com/id/wo2324767'),rdflib.term.URIRef('http://www.astronomoumenos.com/id/wo8743255'),rdflib.term.URIRef('http://www.astronomoumenos.com/id/wo2570888'),rdflib.term.URIRef('http://www.astronomoumenos.com/id/wo8960065'),rdflib.term.URIRef('http://www.astronomoumenos.com/id/wo5085100'),rdflib.term.URIRef('http://www.astronomoumenos.com/id/wo9294472'),rdflib.term.URIRef('http://www.astronomoumenos.com/id/wo3566990'),rdflib.term.URIRef('http://www.astronomoumenos.com/id/wo1578242'),rdflib.term.URIRef('http://www.astronomoumenos.com/id/wo2375349'),rdflib.term.URIRef('http://www.astronomoumenos.com/id/wo7929321'),rdflib.term.URIRef('http://www.astronomoumenos.com/id/wo8957592'),rdflib.term.URIRef('http://www.astronomoumenos.com/id/wo7126466'),rdflib.term.URIRef('http://www.astronomoumenos.com/id/wo6032003'),rdflib.term.URIRef('http://www.astronomoumenos.com/id/wo6218378'),rdflib.term.URIRef('http://www.astronomoumenos.com/id/wo7412304'),rdflib.term.URIRef('http://www.astronomoumenos.com/id/wo9124479'),rdflib.term.URIRef('http://www.astronomoumenos.com/id/wo3745521'),rdflib.term.URIRef('http://www.astronomoumenos.com/id/wo1477792'),rdflib.term.URIRef('http://www.astronomoumenos.com/id/wo9385314'),rdflib.term.URIRef('http://www.astronomoumenos.com/id/wo3074457'),rdflib.term.URIRef('http://www.astronomoumenos.com/id/wo5122433'),rdflib.term.URIRef('http://www.astronomoumenos.com/id/wo6614650'),rdflib.term.URIRef('http://www.astronomoumenos.com/id/wo7966305'),rdflib.term.URIRef('http://www.astronomoumenos.com/id/wo9946642'),rdflib.term.URIRef('http://www.astronomoumenos.com/id/wo8662108'),rdflib.term.URIRef('http://www.astronomoumenos.com/id/wo1989075'),rdflib.term.URIRef('http://www.astronomoumenos.com/id/wo9217112'),rdflib.term.URIRef('http://www.astronomoumenos.com/id/wo6484117'),rdflib.term.URIRef('http://www.astronomoumenos.com/id/wo1951959'),rdflib.term.URIRef('http://www.astronomoumenos.com/id/wo4980500'),rdflib.term.URIRef('http://www.astronomoumenos.com/id/wo6603167'),rdflib.term.URIRef('http://www.astronomoumenos.com/id/wo4715212'),rdflib.term.URIRef('http://www.astronomoumenos.com/id/wo9370326'),rdflib.term.URIRef('http://www.astronomoumenos.com/id/wo9319824'),rdflib.term.URIRef('http://www.astronomoumenos.com/id/wo9601674'),rdflib.term.URIRef('http://www.astronomoumenos.com/id/wo1004416'),rdflib.term.URIRef('http://www.astronomoumenos.com/id/wo3431121'),rdflib.term.URIRef('http://www.astronomoumenos.com/id/wo6730359'),rdflib.term.URIRef('http://www.astronomoumenos.com/id/wo3256626'),rdflib.term.URIRef('http://www.astronomoumenos.com/id/wo6465524'),rdflib.term.URIRef('http://www.astronomoumenos.com/id/wo7561063'),rdflib.term.URIRef('http://www.astronomoumenos.com/id/wo1901589'),rdflib.term.URIRef('http://www.astronomoumenos.com/id/wo6696921'),rdflib.term.URIRef('http://www.astronomoumenos.com/id/wo9030741'),rdflib.term.URIRef('http://www.astronomoumenos.com/id/wo6707655'),rdflib.term.URIRef('http://www.astronomoumenos.com/id/wo7690981'),rdflib.term.URIRef('http://www.astronomoumenos.com/id/wo2234452'),rdflib.term.URIRef('http://www.astronomoumenos.com/id/wo1400100'),rdflib.term.URIRef('http://www.astronomoumenos.com/id/wo6436011'),rdflib.term.URIRef('http://www.astronomoumenos.com/id/wo6225035'),rdflib.term.URIRef('http://www.astronomoumenos.com/id/wo7700609'),rdflib.term.URIRef('http://www.astronomoumenos.com/id/wo5294337'),rdflib.term.URIRef('http://www.astronomoumenos.com/id/wo6051872'),rdflib.term.URIRef('http://www.astronomoumenos.com/id/wo5935200'),rdflib.term.URIRef('http://www.astronomoumenos.com/id/wo4611209'),rdflib.term.URIRef('http://www.astronomoumenos.com/id/wo4319959'),rdflib.term.URIRef('http://www.astronomoumenos.com/id/wo7098276'),rdflib.term.URIRef('http://www.astronomoumenos.com/id/wo8813373'),rdflib.term.URIRef('http://www.astronomoumenos.com/id/wo1553511'),rdflib.term.URIRef('http://www.astronomoumenos.com/id/wo4039707'),rdflib.term.URIRef('http://www.astronomoumenos.com/id/wo8831109'),rdflib.term.URIRef('http://www.astronomoumenos.com/id/wo9454469'),rdflib.term.URIRef('http://www.astronomoumenos.com/id/wo3263981'),rdflib.term.URIRef('http://www.astronomoumenos.com/id/wo8646327'),rdflib.term.URIRef('http://www.astronomoumenos.com/id/wo2491186'),rdflib.term.URIRef('http://www.astronomoumenos.com/id/wo4097308'),rdflib.term.URIRef('http://www.astronomoumenos.com/id/wo2977281'),rdflib.term.URIRef('http://www.astronomoumenos.com/id/wo7637159'),rdflib.term.URIRef('http://www.astronomoumenos.com/id/wo2234867'),rdflib.term.URIRef('http://www.astronomoumenos.com/id/wo7742850'),rdflib.term.URIRef('http://www.astronomoumenos.com/id/wo4172752'),rdflib.term.URIRef('http://www.astronomoumenos.com/id/wo8498946'),rdflib.term.URIRef('http://www.astronomoumenos.com/id/wo6893235'),rdflib.term.URIRef('http://www.astronomoumenos.com/id/wo9943998'),rdflib.term.URIRef('http://www.astronomoumenos.com/id/wo3660655'),rdflib.term.URIRef('http://www.astronomoumenos.com/id/wo3584314'),rdflib.term.URIRef('http://www.astronomoumenos.com/id/wo2401478'),rdflib.term.URIRef('http://www.astronomoumenos.com/id/wo5252623'),rdflib.term.URIRef('http://www.astronomoumenos.com/id/wo7154366'),rdflib.term.URIRef('http://www.astronomoumenos.com/id/wo9649188'),rdflib.term.URIRef('http://www.astronomoumenos.com/id/wo3386043'),rdflib.term.URIRef('http://www.astronomoumenos.com/id/wo7067515'),rdflib.term.URIRef('http://www.astronomoumenos.com/id/wo1948461'),rdflib.term.URIRef('http://www.astronomoumenos.com/id/wo9800167'),rdflib.term.URIRef('http://www.astronomoumenos.com/id/wo1439036'),rdflib.term.URIRef('http://www.astronomoumenos.com/id/wo2643734'),rdflib.term.URIRef('http://www.astronomoumenos.com/id/wo1324994'),rdflib.term.URIRef('http://www.astronomoumenos.com/id/wo8054508'))\n",
    "# the work ids of the 557 fully downloaded works (all witnesses, according to pinakes)"
   ]
  },
  {
   "cell_type": "code",
   "execution_count": 46,
   "metadata": {
    "collapsed": false
   },
   "outputs": [
    {
     "name": "stdout",
     "output_type": "stream",
     "text": [
      "557\n"
     ]
    },
    {
     "data": {
      "text/html": [
       "<div>\n",
       "<table border=\"1\" class=\"dataframe\">\n",
       "  <thead>\n",
       "    <tr style=\"text-align: right;\">\n",
       "      <th></th>\n",
       "      <th>wo</th>\n",
       "    </tr>\n",
       "  </thead>\n",
       "  <tbody>\n",
       "    <tr>\n",
       "      <th>0</th>\n",
       "      <td>http://www.astronomoumenos.com/id/wo5359634</td>\n",
       "    </tr>\n",
       "    <tr>\n",
       "      <th>6</th>\n",
       "      <td>http://www.astronomoumenos.com/id/wo8086058</td>\n",
       "    </tr>\n",
       "    <tr>\n",
       "      <th>17</th>\n",
       "      <td>http://www.astronomoumenos.com/id/wo7139876</td>\n",
       "    </tr>\n",
       "    <tr>\n",
       "      <th>37</th>\n",
       "      <td>http://www.astronomoumenos.com/id/wo4551098</td>\n",
       "    </tr>\n",
       "    <tr>\n",
       "      <th>80</th>\n",
       "      <td>http://www.astronomoumenos.com/id/wo7635466</td>\n",
       "    </tr>\n",
       "  </tbody>\n",
       "</table>\n",
       "</div>"
      ],
      "text/plain": [
       "                                             wo\n",
       "0   http://www.astronomoumenos.com/id/wo5359634\n",
       "6   http://www.astronomoumenos.com/id/wo8086058\n",
       "17  http://www.astronomoumenos.com/id/wo7139876\n",
       "37  http://www.astronomoumenos.com/id/wo4551098\n",
       "80  http://www.astronomoumenos.com/id/wo7635466"
      ]
     },
     "execution_count": 46,
     "metadata": {},
     "output_type": "execute_result"
    }
   ],
   "source": [
    "works557 = works.loc[works[rdflib.term.Variable('wo')].isin(astrID_wo_557)]\n",
    "print(len(works557))\n",
    "works557.head()\n",
    "\n",
    "#for index, row in works.iterrows():\n",
    "#    print(str(row[rdflib.term.Variable('wo')]))"
   ]
  },
  {
   "cell_type": "code",
   "execution_count": 35,
   "metadata": {
    "collapsed": true
   },
   "outputs": [],
   "source": [
    "urns = ('http://www.astronomoumenos.com/id/wo3982193','http://www.astronomoumenos.com/id/wo6042193','http://www.astronomoumenos.com/id/wo1561798','http://www.astronomoumenos.com/id/wo9507454','http://www.astronomoumenos.com/id/wo6599760','http://www.astronomoumenos.com/id/wo6672854','http://www.astronomoumenos.com/id/wo8816839','http://www.astronomoumenos.com/id/wo6001569','http://www.astronomoumenos.com/id/wo2460035','http://www.astronomoumenos.com/id/wo3755425','http://www.astronomoumenos.com/id/wo3186019','http://www.astronomoumenos.com/id/wo2935057','http://www.astronomoumenos.com/id/wo7994720','http://www.astronomoumenos.com/id/wo9507684','http://www.astronomoumenos.com/id/wo2728079','http://www.astronomoumenos.com/id/wo8132911','http://www.astronomoumenos.com/id/wo2018269','http://www.astronomoumenos.com/id/wo8226667','http://www.astronomoumenos.com/id/wo8411826','http://www.astronomoumenos.com/id/wo5383880','http://www.astronomoumenos.com/id/wo6129221','http://www.astronomoumenos.com/id/wo8967184','http://www.astronomoumenos.com/id/wo1967096','http://www.astronomoumenos.com/id/wo7480655','http://www.astronomoumenos.com/id/wo7052427','http://www.astronomoumenos.com/id/wo4923607','http://www.astronomoumenos.com/id/wo8630758','http://www.astronomoumenos.com/id/wo3193963','http://www.astronomoumenos.com/id/wo8119067','http://www.astronomoumenos.com/id/wo7725104','http://www.astronomoumenos.com/id/wo3872950','http://www.astronomoumenos.com/id/wo7244795','http://www.astronomoumenos.com/id/wo9104982','http://www.astronomoumenos.com/id/wo5774657','http://www.astronomoumenos.com/id/wo9589044','http://www.astronomoumenos.com/id/wo7318064','http://www.astronomoumenos.com/id/wo4168679','http://www.astronomoumenos.com/id/wo9706356','http://www.astronomoumenos.com/id/wo3654853','http://www.astronomoumenos.com/id/wo1167012','http://www.astronomoumenos.com/id/wo4402325','http://www.astronomoumenos.com/id/wo5587879','http://www.astronomoumenos.com/id/wo8530974','http://www.astronomoumenos.com/id/wo8086058','http://www.astronomoumenos.com/id/wo1131137','http://www.astronomoumenos.com/id/wo4551098','http://www.astronomoumenos.com/id/wo4437439','http://www.astronomoumenos.com/id/wo9126620','http://www.astronomoumenos.com/id/wo7590464','http://www.astronomoumenos.com/id/wo1688941','http://www.astronomoumenos.com/id/wo2356090','http://www.astronomoumenos.com/id/wo4160251','http://www.astronomoumenos.com/id/wo5175135','http://www.astronomoumenos.com/id/wo1177223','http://www.astronomoumenos.com/id/wo5272172','http://www.astronomoumenos.com/id/wo2188680','http://www.astronomoumenos.com/id/wo9938524','http://www.astronomoumenos.com/id/wo4896248','http://www.astronomoumenos.com/id/wo3391896','http://www.astronomoumenos.com/id/wo3574489','http://www.astronomoumenos.com/id/wo8033262','http://www.astronomoumenos.com/id/wo7441863','http://www.astronomoumenos.com/id/wo9656526','http://www.astronomoumenos.com/id/wo2426493','http://www.astronomoumenos.com/id/wo8983549','http://www.astronomoumenos.com/id/wo3784696','http://www.astronomoumenos.com/id/wo5201901','http://www.astronomoumenos.com/id/wo9918682','http://www.astronomoumenos.com/id/wo9508506','http://www.astronomoumenos.com/id/wo2424915','http://www.astronomoumenos.com/id/wo8030049','http://www.astronomoumenos.com/id/wo3258119','http://www.astronomoumenos.com/id/wo7413161','http://www.astronomoumenos.com/id/wo3983175','http://www.astronomoumenos.com/id/wo2806506','http://www.astronomoumenos.com/id/wo9903453','http://www.astronomoumenos.com/id/wo9036913','http://www.astronomoumenos.com/id/wo5131463','http://www.astronomoumenos.com/id/wo9989402','http://www.astronomoumenos.com/id/wo6962105','http://www.astronomoumenos.com/id/wo6776580','http://www.astronomoumenos.com/id/wo9303852','http://www.astronomoumenos.com/id/wo9833553','http://www.astronomoumenos.com/id/wo1005453','http://www.astronomoumenos.com/id/wo8250014','http://www.astronomoumenos.com/id/wo8953818','http://www.astronomoumenos.com/id/wo8529873','http://www.astronomoumenos.com/id/wo3989302','http://www.astronomoumenos.com/id/wo2884173','http://www.astronomoumenos.com/id/wo3990915','http://www.astronomoumenos.com/id/wo9205589','http://www.astronomoumenos.com/id/wo5265350','http://www.astronomoumenos.com/id/wo8392706','http://www.astronomoumenos.com/id/wo3529245','http://www.astronomoumenos.com/id/wo4509235','http://www.astronomoumenos.com/id/wo9410010','http://www.astronomoumenos.com/id/wo4562936','http://www.astronomoumenos.com/id/wo5594388','http://www.astronomoumenos.com/id/wo4306010','http://www.astronomoumenos.com/id/wo7960196','http://www.astronomoumenos.com/id/wo5275726','http://www.astronomoumenos.com/id/wo2055302','http://www.astronomoumenos.com/id/wo1713018','http://www.astronomoumenos.com/id/wo2738142','http://www.astronomoumenos.com/id/wo4023616','http://www.astronomoumenos.com/id/wo1389443','http://www.astronomoumenos.com/id/wo6597088','http://www.astronomoumenos.com/id/wo5894821','http://www.astronomoumenos.com/id/wo8284366','http://www.astronomoumenos.com/id/wo2370030','http://www.astronomoumenos.com/id/wo3645886','http://www.astronomoumenos.com/id/wo3108977','http://www.astronomoumenos.com/id/wo4182363','http://www.astronomoumenos.com/id/wo2924397','http://www.astronomoumenos.com/id/wo7043777','http://www.astronomoumenos.com/id/wo7068615','http://www.astronomoumenos.com/id/wo5537651','http://www.astronomoumenos.com/id/wo2429236','http://www.astronomoumenos.com/id/wo5091952','http://www.astronomoumenos.com/id/wo8645914','http://www.astronomoumenos.com/id/wo7688669','http://www.astronomoumenos.com/id/wo6914730','http://www.astronomoumenos.com/id/wo8074093','http://www.astronomoumenos.com/id/wo2963534','http://www.astronomoumenos.com/id/wo7307251','http://www.astronomoumenos.com/id/wo3921837','http://www.astronomoumenos.com/id/wo6140352','http://www.astronomoumenos.com/id/wo5472089','http://www.astronomoumenos.com/id/wo4145656','http://www.astronomoumenos.com/id/wo9613495','http://www.astronomoumenos.com/id/wo2551990','http://www.astronomoumenos.com/id/wo6406012','http://www.astronomoumenos.com/id/wo5802715','http://www.astronomoumenos.com/id/wo7755873','http://www.astronomoumenos.com/id/wo2509714','http://www.astronomoumenos.com/id/wo9190318','http://www.astronomoumenos.com/id/wo2848579','http://www.astronomoumenos.com/id/wo6548821','http://www.astronomoumenos.com/id/wo2683535','http://www.astronomoumenos.com/id/wo8110646','http://www.astronomoumenos.com/id/wo5956748','http://www.astronomoumenos.com/id/wo8907238','http://www.astronomoumenos.com/id/wo6155119','http://www.astronomoumenos.com/id/wo9062836','http://www.astronomoumenos.com/id/wo3858075','http://www.astronomoumenos.com/id/wo5629669','http://www.astronomoumenos.com/id/wo8224518','http://www.astronomoumenos.com/id/wo6995427','http://www.astronomoumenos.com/id/wo9331560','http://www.astronomoumenos.com/id/wo9457145','http://www.astronomoumenos.com/id/wo3381210','http://www.astronomoumenos.com/id/wo4952379','http://www.astronomoumenos.com/id/wo7985215','http://www.astronomoumenos.com/id/wo6250400','http://www.astronomoumenos.com/id/wo4323515','http://www.astronomoumenos.com/id/wo7635466','http://www.astronomoumenos.com/id/wo6458212','http://www.astronomoumenos.com/id/wo8038337','http://www.astronomoumenos.com/id/wo9278881','http://www.astronomoumenos.com/id/wo7238053','http://www.astronomoumenos.com/id/wo3093197','http://www.astronomoumenos.com/id/wo2954639','http://www.astronomoumenos.com/id/wo3796005','http://www.astronomoumenos.com/id/wo6632198','http://www.astronomoumenos.com/id/wo8195108','http://www.astronomoumenos.com/id/wo8111227','http://www.astronomoumenos.com/id/wo7356485','http://www.astronomoumenos.com/id/wo2985405','http://www.astronomoumenos.com/id/wo8494187','http://www.astronomoumenos.com/id/wo8640813','http://www.astronomoumenos.com/id/wo5729843','http://www.astronomoumenos.com/id/wo2762610','http://www.astronomoumenos.com/id/wo8005934','http://www.astronomoumenos.com/id/wo3343098','http://www.astronomoumenos.com/id/wo2594899','http://www.astronomoumenos.com/id/wo1043636','http://www.astronomoumenos.com/id/wo4286240','http://www.astronomoumenos.com/id/wo9422336','http://www.astronomoumenos.com/id/wo8299581','http://www.astronomoumenos.com/id/wo2507416','http://www.astronomoumenos.com/id/wo1621524','http://www.astronomoumenos.com/id/wo8227194','http://www.astronomoumenos.com/id/wo2783319','http://www.astronomoumenos.com/id/wo5222363','http://www.astronomoumenos.com/id/wo9397209','http://www.astronomoumenos.com/id/wo7402154','http://www.astronomoumenos.com/id/wo6215410','http://www.astronomoumenos.com/id/wo6382940','http://www.astronomoumenos.com/id/wo5436260','http://www.astronomoumenos.com/id/wo6947971','http://www.astronomoumenos.com/id/wo8529699','http://www.astronomoumenos.com/id/wo5620528','http://www.astronomoumenos.com/id/wo5392584','http://www.astronomoumenos.com/id/wo4607076','http://www.astronomoumenos.com/id/wo4843582','http://www.astronomoumenos.com/id/wo1663867','http://www.astronomoumenos.com/id/wo3058110','http://www.astronomoumenos.com/id/wo8586085','http://www.astronomoumenos.com/id/wo1956278','http://www.astronomoumenos.com/id/wo3980461','http://www.astronomoumenos.com/id/wo1422603','http://www.astronomoumenos.com/id/wo5910387','http://www.astronomoumenos.com/id/wo2125293','http://www.astronomoumenos.com/id/wo1256421','http://www.astronomoumenos.com/id/wo7859660','http://www.astronomoumenos.com/id/wo7235399','http://www.astronomoumenos.com/id/wo5723972','http://www.astronomoumenos.com/id/wo3225876','http://www.astronomoumenos.com/id/wo5251681','http://www.astronomoumenos.com/id/wo8570260','http://www.astronomoumenos.com/id/wo5921815','http://www.astronomoumenos.com/id/wo1222860','http://www.astronomoumenos.com/id/wo3706057','http://www.astronomoumenos.com/id/wo2422233','http://www.astronomoumenos.com/id/wo5476584','http://www.astronomoumenos.com/id/wo5649233','http://www.astronomoumenos.com/id/wo5748142','http://www.astronomoumenos.com/id/wo2911568','http://www.astronomoumenos.com/id/wo8243216','http://www.astronomoumenos.com/id/wo5553703','http://www.astronomoumenos.com/id/wo7871928','http://www.astronomoumenos.com/id/wo8733844','http://www.astronomoumenos.com/id/wo1477956','http://www.astronomoumenos.com/id/wo6207969','http://www.astronomoumenos.com/id/wo3541934','http://www.astronomoumenos.com/id/wo7807542','http://www.astronomoumenos.com/id/wo3473977','http://www.astronomoumenos.com/id/wo1397531','http://www.astronomoumenos.com/id/wo3799379','http://www.astronomoumenos.com/id/wo7511359','http://www.astronomoumenos.com/id/wo5437099','http://www.astronomoumenos.com/id/wo1275851','http://www.astronomoumenos.com/id/wo4640928','http://www.astronomoumenos.com/id/wo5499745','http://www.astronomoumenos.com/id/wo7041218','http://www.astronomoumenos.com/id/wo6505208','http://www.astronomoumenos.com/id/wo4256003','http://www.astronomoumenos.com/id/wo7287694','http://www.astronomoumenos.com/id/wo9772462','http://www.astronomoumenos.com/id/wo3101931','http://www.astronomoumenos.com/id/wo1096453','http://www.astronomoumenos.com/id/wo3977432','http://www.astronomoumenos.com/id/wo5122983','http://www.astronomoumenos.com/id/wo3974329','http://www.astronomoumenos.com/id/wo6827545','http://www.astronomoumenos.com/id/wo8005307','http://www.astronomoumenos.com/id/wo4164256','http://www.astronomoumenos.com/id/wo1440318','http://www.astronomoumenos.com/id/wo7139876','http://www.astronomoumenos.com/id/wo9901335','http://www.astronomoumenos.com/id/wo5892324','http://www.astronomoumenos.com/id/wo1486349','http://www.astronomoumenos.com/id/wo4739951','http://www.astronomoumenos.com/id/wo3782973','http://www.astronomoumenos.com/id/wo7284932','http://www.astronomoumenos.com/id/wo6624424','http://www.astronomoumenos.com/id/wo8141518','http://www.astronomoumenos.com/id/wo4656358','http://www.astronomoumenos.com/id/wo2977926','http://www.astronomoumenos.com/id/wo4379997','http://www.astronomoumenos.com/id/wo3590839','http://www.astronomoumenos.com/id/wo6143257','http://www.astronomoumenos.com/id/wo1787630','http://www.astronomoumenos.com/id/wo2299894','http://www.astronomoumenos.com/id/wo8555256','http://www.astronomoumenos.com/id/wo2162723','http://www.astronomoumenos.com/id/wo2158587','http://www.astronomoumenos.com/id/wo9962702','http://www.astronomoumenos.com/id/wo5479898','http://www.astronomoumenos.com/id/wo6994914','http://www.astronomoumenos.com/id/wo9305303','http://www.astronomoumenos.com/id/wo8477198','http://www.astronomoumenos.com/id/wo9337585','http://www.astronomoumenos.com/id/wo3539836','http://www.astronomoumenos.com/id/wo7482217','http://www.astronomoumenos.com/id/wo9260579','http://www.astronomoumenos.com/id/wo9141542','http://www.astronomoumenos.com/id/wo5092966','http://www.astronomoumenos.com/id/wo2032176','http://www.astronomoumenos.com/id/wo8417433','http://www.astronomoumenos.com/id/wo7173517','http://www.astronomoumenos.com/id/wo9417326','http://www.astronomoumenos.com/id/wo3142937','http://www.astronomoumenos.com/id/wo8480677','http://www.astronomoumenos.com/id/wo3916048','http://www.astronomoumenos.com/id/wo5702098','http://www.astronomoumenos.com/id/wo2526448','http://www.astronomoumenos.com/id/wo2376060','http://www.astronomoumenos.com/id/wo8508657','http://www.astronomoumenos.com/id/wo4907235','http://www.astronomoumenos.com/id/wo1441025','http://www.astronomoumenos.com/id/wo3047237','http://www.astronomoumenos.com/id/wo9868417','http://www.astronomoumenos.com/id/wo1305865','http://www.astronomoumenos.com/id/wo1335685','http://www.astronomoumenos.com/id/wo6819427','http://www.astronomoumenos.com/id/wo5399551','http://www.astronomoumenos.com/id/wo5171731','http://www.astronomoumenos.com/id/wo7307479','http://www.astronomoumenos.com/id/wo4269371','http://www.astronomoumenos.com/id/wo6024577','http://www.astronomoumenos.com/id/wo8004334','http://www.astronomoumenos.com/id/wo6027511','http://www.astronomoumenos.com/id/wo4276153','http://www.astronomoumenos.com/id/wo5055368','http://www.astronomoumenos.com/id/wo5353471','http://www.astronomoumenos.com/id/wo6993379','http://www.astronomoumenos.com/id/wo2888767','http://www.astronomoumenos.com/id/wo8851826','http://www.astronomoumenos.com/id/wo7467907','http://www.astronomoumenos.com/id/wo3317968','http://www.astronomoumenos.com/id/wo5318335','http://www.astronomoumenos.com/id/wo4675322','http://www.astronomoumenos.com/id/wo7465675','http://www.astronomoumenos.com/id/wo7395492','http://www.astronomoumenos.com/id/wo4196496','http://www.astronomoumenos.com/id/wo7008494','http://www.astronomoumenos.com/id/wo6718545','http://www.astronomoumenos.com/id/wo6937827','http://www.astronomoumenos.com/id/wo6664964','http://www.astronomoumenos.com/id/wo5063042','http://www.astronomoumenos.com/id/wo3964866','http://www.astronomoumenos.com/id/wo9901464','http://www.astronomoumenos.com/id/wo3301178','http://www.astronomoumenos.com/id/wo2613445','http://www.astronomoumenos.com/id/wo2366520','http://www.astronomoumenos.com/id/wo8242690','http://www.astronomoumenos.com/id/wo8233419','http://www.astronomoumenos.com/id/wo3257579','http://www.astronomoumenos.com/id/wo4533067','http://www.astronomoumenos.com/id/wo3211267','http://www.astronomoumenos.com/id/wo5359634','http://www.astronomoumenos.com/id/wo9639887','http://www.astronomoumenos.com/id/wo6833457','http://www.astronomoumenos.com/id/wo7062054','http://www.astronomoumenos.com/id/wo7544197','http://www.astronomoumenos.com/id/wo8147430','http://www.astronomoumenos.com/id/wo5276671','http://www.astronomoumenos.com/id/wo6370926','http://www.astronomoumenos.com/id/wo5074581','http://www.astronomoumenos.com/id/wo7260569','http://www.astronomoumenos.com/id/wo3278668','http://www.astronomoumenos.com/id/wo6509356','http://www.astronomoumenos.com/id/wo3095752','http://www.astronomoumenos.com/id/wo2993852','http://www.astronomoumenos.com/id/wo8922906','http://www.astronomoumenos.com/id/wo2925030','http://www.astronomoumenos.com/id/wo9455022','http://www.astronomoumenos.com/id/wo2417352','http://www.astronomoumenos.com/id/wo2624157','http://www.astronomoumenos.com/id/wo3240792','http://www.astronomoumenos.com/id/wo6990840','http://www.astronomoumenos.com/id/wo1466425','http://www.astronomoumenos.com/id/wo8548730','http://www.astronomoumenos.com/id/wo4539943','http://www.astronomoumenos.com/id/wo5916006','http://www.astronomoumenos.com/id/wo7191108','http://www.astronomoumenos.com/id/wo3451006','http://www.astronomoumenos.com/id/wo2681317','http://www.astronomoumenos.com/id/wo9633060','http://www.astronomoumenos.com/id/wo6678989','http://www.astronomoumenos.com/id/wo1418613','http://www.astronomoumenos.com/id/wo7946796','http://www.astronomoumenos.com/id/wo2125690','http://www.astronomoumenos.com/id/wo3238851','http://www.astronomoumenos.com/id/wo8269230','http://www.astronomoumenos.com/id/wo4712871','http://www.astronomoumenos.com/id/wo1471548','http://www.astronomoumenos.com/id/wo3033605','http://www.astronomoumenos.com/id/wo4500494','http://www.astronomoumenos.com/id/wo5800917','http://www.astronomoumenos.com/id/wo2378200','http://www.astronomoumenos.com/id/wo8762474','http://www.astronomoumenos.com/id/wo3625764','http://www.astronomoumenos.com/id/wo8542730','http://www.astronomoumenos.com/id/wo6651607','http://www.astronomoumenos.com/id/wo6739193','http://www.astronomoumenos.com/id/wo3990957','http://www.astronomoumenos.com/id/wo1169501','http://www.astronomoumenos.com/id/wo6451903','http://www.astronomoumenos.com/id/wo2686672','http://www.astronomoumenos.com/id/wo8992919','http://www.astronomoumenos.com/id/wo8954565','http://www.astronomoumenos.com/id/wo1147267','http://www.astronomoumenos.com/id/wo1866688','http://www.astronomoumenos.com/id/wo5779475','http://www.astronomoumenos.com/id/wo2664331','http://www.astronomoumenos.com/id/wo6127126','http://www.astronomoumenos.com/id/wo4364224','http://www.astronomoumenos.com/id/wo4162766','http://www.astronomoumenos.com/id/wo2677586','http://www.astronomoumenos.com/id/wo3361566','http://www.astronomoumenos.com/id/wo8949418','http://www.astronomoumenos.com/id/wo6809399','http://www.astronomoumenos.com/id/wo2332805','http://www.astronomoumenos.com/id/wo7695113','http://www.astronomoumenos.com/id/wo6222520','http://www.astronomoumenos.com/id/wo3849972','http://www.astronomoumenos.com/id/wo3424367','http://www.astronomoumenos.com/id/wo3243242','http://www.astronomoumenos.com/id/wo1418287','http://www.astronomoumenos.com/id/wo9035060','http://www.astronomoumenos.com/id/wo2386534','http://www.astronomoumenos.com/id/wo7249397','http://www.astronomoumenos.com/id/wo2971301','http://www.astronomoumenos.com/id/wo1236012','http://www.astronomoumenos.com/id/wo5977883','http://www.astronomoumenos.com/id/wo8619734','http://www.astronomoumenos.com/id/wo9251636','http://www.astronomoumenos.com/id/wo2500995','http://www.astronomoumenos.com/id/wo5753980','http://www.astronomoumenos.com/id/wo4809823','http://www.astronomoumenos.com/id/wo9797466','http://www.astronomoumenos.com/id/wo3809754','http://www.astronomoumenos.com/id/wo8825947','http://www.astronomoumenos.com/id/wo8612313','http://www.astronomoumenos.com/id/wo2391833','http://www.astronomoumenos.com/id/wo6560273','http://www.astronomoumenos.com/id/wo4667602','http://www.astronomoumenos.com/id/wo6561621','http://www.astronomoumenos.com/id/wo1127645','http://www.astronomoumenos.com/id/wo8934448','http://www.astronomoumenos.com/id/wo9760335','http://www.astronomoumenos.com/id/wo1946618','http://www.astronomoumenos.com/id/wo1635876','http://www.astronomoumenos.com/id/wo3841505','http://www.astronomoumenos.com/id/wo4162858','http://www.astronomoumenos.com/id/wo2751268','http://www.astronomoumenos.com/id/wo1093232','http://www.astronomoumenos.com/id/wo5322935','http://www.astronomoumenos.com/id/wo9010447','http://www.astronomoumenos.com/id/wo5089504','http://www.astronomoumenos.com/id/wo2063775','http://www.astronomoumenos.com/id/wo4330723','http://www.astronomoumenos.com/id/wo3902966','http://www.astronomoumenos.com/id/wo6626384','http://www.astronomoumenos.com/id/wo1596573','http://www.astronomoumenos.com/id/wo9047035','http://www.astronomoumenos.com/id/wo6421900','http://www.astronomoumenos.com/id/wo4336668','http://www.astronomoumenos.com/id/wo1459022','http://www.astronomoumenos.com/id/wo4077057','http://www.astronomoumenos.com/id/wo9911386','http://www.astronomoumenos.com/id/wo4839236','http://www.astronomoumenos.com/id/wo8517330','http://www.astronomoumenos.com/id/wo1410596','http://www.astronomoumenos.com/id/wo5138281','http://www.astronomoumenos.com/id/wo7634388','http://www.astronomoumenos.com/id/wo3668864','http://www.astronomoumenos.com/id/wo2350045','http://www.astronomoumenos.com/id/wo1233388','http://www.astronomoumenos.com/id/wo9388332','http://www.astronomoumenos.com/id/wo2263426','http://www.astronomoumenos.com/id/wo3086704','http://www.astronomoumenos.com/id/wo5867477','http://www.astronomoumenos.com/id/wo3709391','http://www.astronomoumenos.com/id/wo3100084','http://www.astronomoumenos.com/id/wo6412903','http://www.astronomoumenos.com/id/wo7046802','http://www.astronomoumenos.com/id/wo5757295','http://www.astronomoumenos.com/id/wo9593620','http://www.astronomoumenos.com/id/wo5419349','http://www.astronomoumenos.com/id/wo2734983','http://www.astronomoumenos.com/id/wo3804387','http://www.astronomoumenos.com/id/wo6718818','http://www.astronomoumenos.com/id/wo8114408','http://www.astronomoumenos.com/id/wo3150688','http://www.astronomoumenos.com/id/wo4770564','http://www.astronomoumenos.com/id/wo1705849','http://www.astronomoumenos.com/id/wo2324767','http://www.astronomoumenos.com/id/wo8743255','http://www.astronomoumenos.com/id/wo2570888','http://www.astronomoumenos.com/id/wo8960065','http://www.astronomoumenos.com/id/wo5085100','http://www.astronomoumenos.com/id/wo9294472','http://www.astronomoumenos.com/id/wo3566990','http://www.astronomoumenos.com/id/wo1578242','http://www.astronomoumenos.com/id/wo2375349','http://www.astronomoumenos.com/id/wo7929321','http://www.astronomoumenos.com/id/wo8957592','http://www.astronomoumenos.com/id/wo7126466','http://www.astronomoumenos.com/id/wo6032003','http://www.astronomoumenos.com/id/wo6218378','http://www.astronomoumenos.com/id/wo7412304','http://www.astronomoumenos.com/id/wo9124479','http://www.astronomoumenos.com/id/wo3745521','http://www.astronomoumenos.com/id/wo1477792','http://www.astronomoumenos.com/id/wo9385314','http://www.astronomoumenos.com/id/wo3074457','http://www.astronomoumenos.com/id/wo5122433','http://www.astronomoumenos.com/id/wo6614650','http://www.astronomoumenos.com/id/wo7966305','http://www.astronomoumenos.com/id/wo9946642','http://www.astronomoumenos.com/id/wo8662108','http://www.astronomoumenos.com/id/wo1989075','http://www.astronomoumenos.com/id/wo9217112','http://www.astronomoumenos.com/id/wo6484117','http://www.astronomoumenos.com/id/wo1951959','http://www.astronomoumenos.com/id/wo4980500','http://www.astronomoumenos.com/id/wo6603167','http://www.astronomoumenos.com/id/wo4715212','http://www.astronomoumenos.com/id/wo9370326','http://www.astronomoumenos.com/id/wo9319824','http://www.astronomoumenos.com/id/wo9601674','http://www.astronomoumenos.com/id/wo1004416','http://www.astronomoumenos.com/id/wo3431121','http://www.astronomoumenos.com/id/wo6730359','http://www.astronomoumenos.com/id/wo3256626','http://www.astronomoumenos.com/id/wo6465524','http://www.astronomoumenos.com/id/wo7561063','http://www.astronomoumenos.com/id/wo1901589','http://www.astronomoumenos.com/id/wo6696921','http://www.astronomoumenos.com/id/wo9030741','http://www.astronomoumenos.com/id/wo6707655','http://www.astronomoumenos.com/id/wo7690981','http://www.astronomoumenos.com/id/wo2234452','http://www.astronomoumenos.com/id/wo1400100','http://www.astronomoumenos.com/id/wo6436011','http://www.astronomoumenos.com/id/wo6225035','http://www.astronomoumenos.com/id/wo7700609','http://www.astronomoumenos.com/id/wo5294337','http://www.astronomoumenos.com/id/wo6051872','http://www.astronomoumenos.com/id/wo5935200','http://www.astronomoumenos.com/id/wo4611209','http://www.astronomoumenos.com/id/wo4319959','http://www.astronomoumenos.com/id/wo7098276','http://www.astronomoumenos.com/id/wo8813373','http://www.astronomoumenos.com/id/wo1553511','http://www.astronomoumenos.com/id/wo4039707','http://www.astronomoumenos.com/id/wo8831109','http://www.astronomoumenos.com/id/wo9454469','http://www.astronomoumenos.com/id/wo3263981','http://www.astronomoumenos.com/id/wo8646327','http://www.astronomoumenos.com/id/wo2491186','http://www.astronomoumenos.com/id/wo4097308','http://www.astronomoumenos.com/id/wo2977281','http://www.astronomoumenos.com/id/wo7637159','http://www.astronomoumenos.com/id/wo2234867','http://www.astronomoumenos.com/id/wo7742850','http://www.astronomoumenos.com/id/wo4172752','http://www.astronomoumenos.com/id/wo8498946','http://www.astronomoumenos.com/id/wo6893235','http://www.astronomoumenos.com/id/wo9943998','http://www.astronomoumenos.com/id/wo3660655','http://www.astronomoumenos.com/id/wo3584314','http://www.astronomoumenos.com/id/wo2401478','http://www.astronomoumenos.com/id/wo5252623','http://www.astronomoumenos.com/id/wo7154366','http://www.astronomoumenos.com/id/wo9649188','http://www.astronomoumenos.com/id/wo3386043','http://www.astronomoumenos.com/id/wo7067515','http://www.astronomoumenos.com/id/wo1948461','http://www.astronomoumenos.com/id/wo9800167','http://www.astronomoumenos.com/id/wo1439036','http://www.astronomoumenos.com/id/wo2643734','http://www.astronomoumenos.com/id/wo1324994','http://www.astronomoumenos.com/id/wo8054508')\n"
   ]
  },
  {
   "cell_type": "markdown",
   "metadata": {},
   "source": [
    "### Witness Count by work"
   ]
  },
  {
   "cell_type": "code",
   "execution_count": 42,
   "metadata": {
    "collapsed": false
   },
   "outputs": [
    {
     "name": "stdout",
     "output_type": "stream",
     "text": [
      "6014\n"
     ]
    },
    {
     "data": {
      "text/html": [
       "<div>\n",
       "<table border=\"1\" class=\"dataframe\">\n",
       "  <thead>\n",
       "    <tr style=\"text-align: right;\">\n",
       "      <th></th>\n",
       "      <th>c</th>\n",
       "      <th>wo</th>\n",
       "    </tr>\n",
       "  </thead>\n",
       "  <tbody>\n",
       "    <tr>\n",
       "      <th>0</th>\n",
       "      <td>1</td>\n",
       "      <td>http://www.astronomoumenos.com/id/wo2245448</td>\n",
       "    </tr>\n",
       "    <tr>\n",
       "      <th>1</th>\n",
       "      <td>1</td>\n",
       "      <td>http://www.astronomoumenos.com/id/wo7711194</td>\n",
       "    </tr>\n",
       "    <tr>\n",
       "      <th>2</th>\n",
       "      <td>3</td>\n",
       "      <td>http://www.astronomoumenos.com/id/wo1578242</td>\n",
       "    </tr>\n",
       "    <tr>\n",
       "      <th>3</th>\n",
       "      <td>4</td>\n",
       "      <td>http://www.astronomoumenos.com/id/wo6478779</td>\n",
       "    </tr>\n",
       "    <tr>\n",
       "      <th>4</th>\n",
       "      <td>8</td>\n",
       "      <td>http://www.astronomoumenos.com/id/wo4577624</td>\n",
       "    </tr>\n",
       "  </tbody>\n",
       "</table>\n",
       "</div>"
      ],
      "text/plain": [
       "   c                                           wo\n",
       "0  1  http://www.astronomoumenos.com/id/wo2245448\n",
       "1  1  http://www.astronomoumenos.com/id/wo7711194\n",
       "2  3  http://www.astronomoumenos.com/id/wo1578242\n",
       "3  4  http://www.astronomoumenos.com/id/wo6478779\n",
       "4  8  http://www.astronomoumenos.com/id/wo4577624"
      ]
     },
     "execution_count": 42,
     "metadata": {},
     "output_type": "execute_result"
    }
   ],
   "source": [
    "result = g.query(\n",
    "        \"\"\"\n",
    "        PREFIX astr: <http://www.astronomoumenos.com/ontologies/astr.owl#>\n",
    "        PREFIX rdfs: <http://www.w3.org/2000/01/rdf-schema#>\n",
    "        PREFIX rdf: <http://www.w3.org/1999/02/22-rdf-syntax-ns#>\n",
    "        SELECT ?wo (COUNT(?wi) AS ?c) WHERE {\n",
    "            ?wi astr:witnessOf ?wo .\n",
    "            }\n",
    "            GROUP BY ?wo\n",
    "            \"\"\" )\n",
    "\n",
    "witnessCount = pd.DataFrame(result.bindings)\n",
    "print(len(witnessCount))  \n",
    "witnessCount.head()"
   ]
  },
  {
   "cell_type": "code",
   "execution_count": 44,
   "metadata": {
    "collapsed": false
   },
   "outputs": [
    {
     "data": {
      "text/html": [
       "<div>\n",
       "<table border=\"1\" class=\"dataframe\">\n",
       "  <thead>\n",
       "    <tr style=\"text-align: right;\">\n",
       "      <th></th>\n",
       "      <th>c</th>\n",
       "      <th>wo</th>\n",
       "    </tr>\n",
       "  </thead>\n",
       "  <tbody>\n",
       "    <tr>\n",
       "      <th>2</th>\n",
       "      <td>3</td>\n",
       "      <td>http://www.astronomoumenos.com/id/wo1578242</td>\n",
       "    </tr>\n",
       "    <tr>\n",
       "      <th>5</th>\n",
       "      <td>1</td>\n",
       "      <td>http://www.astronomoumenos.com/id/wo6560273</td>\n",
       "    </tr>\n",
       "    <tr>\n",
       "      <th>11</th>\n",
       "      <td>14</td>\n",
       "      <td>http://www.astronomoumenos.com/id/wo1418287</td>\n",
       "    </tr>\n",
       "    <tr>\n",
       "      <th>12</th>\n",
       "      <td>21</td>\n",
       "      <td>http://www.astronomoumenos.com/id/wo7260569</td>\n",
       "    </tr>\n",
       "    <tr>\n",
       "      <th>32</th>\n",
       "      <td>7</td>\n",
       "      <td>http://www.astronomoumenos.com/id/wo3317968</td>\n",
       "    </tr>\n",
       "  </tbody>\n",
       "</table>\n",
       "</div>"
      ],
      "text/plain": [
       "     c                                           wo\n",
       "2   3   http://www.astronomoumenos.com/id/wo1578242\n",
       "5   1   http://www.astronomoumenos.com/id/wo6560273\n",
       "11  14  http://www.astronomoumenos.com/id/wo1418287\n",
       "12  21  http://www.astronomoumenos.com/id/wo7260569\n",
       "32  7   http://www.astronomoumenos.com/id/wo3317968"
      ]
     },
     "execution_count": 44,
     "metadata": {},
     "output_type": "execute_result"
    }
   ],
   "source": [
    "witnessCount557 = witnessCount.loc[witnessCount[rdflib.term.Variable('wo')].isin(astrID_wo_557)]\n",
    "witnessCount557.head()"
   ]
  },
  {
   "cell_type": "markdown",
   "metadata": {},
   "source": [
    "### Count of texts overlapped with by work"
   ]
  },
  {
   "cell_type": "code",
   "execution_count": 52,
   "metadata": {
    "collapsed": false
   },
   "outputs": [
    {
     "data": {
      "text/html": [
       "<div>\n",
       "<table border=\"1\" class=\"dataframe\">\n",
       "  <thead>\n",
       "    <tr style=\"text-align: right;\">\n",
       "      <th></th>\n",
       "      <th>c</th>\n",
       "      <th>wo1</th>\n",
       "    </tr>\n",
       "  </thead>\n",
       "  <tbody>\n",
       "    <tr>\n",
       "      <th>0</th>\n",
       "      <td>2723</td>\n",
       "      <td>http://www.astronomoumenos.com/id/wo3186019</td>\n",
       "    </tr>\n",
       "    <tr>\n",
       "      <th>1</th>\n",
       "      <td>2523</td>\n",
       "      <td>http://www.astronomoumenos.com/id/wo3982193</td>\n",
       "    </tr>\n",
       "    <tr>\n",
       "      <th>2</th>\n",
       "      <td>2408</td>\n",
       "      <td>http://www.astronomoumenos.com/id/wo3438015</td>\n",
       "    </tr>\n",
       "    <tr>\n",
       "      <th>3</th>\n",
       "      <td>2312</td>\n",
       "      <td>http://www.astronomoumenos.com/id/wo2460035</td>\n",
       "    </tr>\n",
       "    <tr>\n",
       "      <th>4</th>\n",
       "      <td>2304</td>\n",
       "      <td>http://www.astronomoumenos.com/id/wo9507684</td>\n",
       "    </tr>\n",
       "  </tbody>\n",
       "</table>\n",
       "</div>"
      ],
      "text/plain": [
       "      c                                          wo1\n",
       "0  2723  http://www.astronomoumenos.com/id/wo3186019\n",
       "1  2523  http://www.astronomoumenos.com/id/wo3982193\n",
       "2  2408  http://www.astronomoumenos.com/id/wo3438015\n",
       "3  2312  http://www.astronomoumenos.com/id/wo2460035\n",
       "4  2304  http://www.astronomoumenos.com/id/wo9507684"
      ]
     },
     "execution_count": 52,
     "metadata": {},
     "output_type": "execute_result"
    }
   ],
   "source": [
    "result = g.query(\n",
    "        \"\"\"\n",
    "        PREFIX astr: <http://www.astronomoumenos.com/ontologies/astr.owl#>\n",
    "        PREFIX rdfs: <http://www.w3.org/2000/01/rdf-schema#>\n",
    "        PREFIX rdf: <http://www.w3.org/1999/02/22-rdf-syntax-ns#>\n",
    "        SELECT ?wo1 (COUNT(?wo2) AS ?c) WHERE {\n",
    "            ?ms astr:msContains ?wi1 .\n",
    "            ?wi1 astr:witnessOf ?wo1 .\n",
    "            ?ms astr:msContains ?wi2 .\n",
    "            ?wi2 astr:witnessOf ?wo2 .\n",
    "            FILTER( ?wo1 != ?wo2 )\n",
    "            }\n",
    "            GROUP BY ?wo1\n",
    "            ORDER BY DESC(?c)\n",
    "            \"\"\")\n",
    "\n",
    "numOverlapping = pd.DataFrame(result.bindings)\n",
    "print(len(numOverlapping))\n",
    "numOverlapping.head()"
   ]
  },
  {
   "cell_type": "code",
   "execution_count": 56,
   "metadata": {
    "collapsed": false
   },
   "outputs": [
    {
     "data": {
      "text/html": [
       "<div>\n",
       "<table border=\"1\" class=\"dataframe\">\n",
       "  <thead>\n",
       "    <tr style=\"text-align: right;\">\n",
       "      <th></th>\n",
       "      <th>c</th>\n",
       "      <th>wo1</th>\n",
       "    </tr>\n",
       "  </thead>\n",
       "  <tbody>\n",
       "    <tr>\n",
       "      <th>5933</th>\n",
       "      <td>3</td>\n",
       "      <td>http://www.astronomoumenos.com/id/wo4980500</td>\n",
       "    </tr>\n",
       "    <tr>\n",
       "      <th>5939</th>\n",
       "      <td>3</td>\n",
       "      <td>http://www.astronomoumenos.com/id/wo4172752</td>\n",
       "    </tr>\n",
       "    <tr>\n",
       "      <th>5953</th>\n",
       "      <td>3</td>\n",
       "      <td>http://www.astronomoumenos.com/id/wo7742850</td>\n",
       "    </tr>\n",
       "    <tr>\n",
       "      <th>5957</th>\n",
       "      <td>3</td>\n",
       "      <td>http://www.astronomoumenos.com/id/wo9601674</td>\n",
       "    </tr>\n",
       "    <tr>\n",
       "      <th>5976</th>\n",
       "      <td>2</td>\n",
       "      <td>http://www.astronomoumenos.com/id/wo2063775</td>\n",
       "    </tr>\n",
       "  </tbody>\n",
       "</table>\n",
       "</div>"
      ],
      "text/plain": [
       "      c                                          wo1\n",
       "5933  3  http://www.astronomoumenos.com/id/wo4980500\n",
       "5939  3  http://www.astronomoumenos.com/id/wo4172752\n",
       "5953  3  http://www.astronomoumenos.com/id/wo7742850\n",
       "5957  3  http://www.astronomoumenos.com/id/wo9601674\n",
       "5976  2  http://www.astronomoumenos.com/id/wo2063775"
      ]
     },
     "execution_count": 56,
     "metadata": {},
     "output_type": "execute_result"
    }
   ],
   "source": [
    "numOverlapping557 = numOverlapping.loc[numOverlapping[rdflib.term.Variable('wo1')].isin(astrID_wo_557)]\n",
    "numOverlapping557.tail()"
   ]
  },
  {
   "cell_type": "markdown",
   "metadata": {},
   "source": [
    "### Count of how many different texts immediately follow each work"
   ]
  },
  {
   "cell_type": "code",
   "execution_count": 57,
   "metadata": {
    "collapsed": false
   },
   "outputs": [
    {
     "name": "stdout",
     "output_type": "stream",
     "text": [
      "5822\n"
     ]
    },
    {
     "data": {
      "text/html": [
       "<div>\n",
       "<table border=\"1\" class=\"dataframe\">\n",
       "  <thead>\n",
       "    <tr style=\"text-align: right;\">\n",
       "      <th></th>\n",
       "      <th>c</th>\n",
       "      <th>wo1</th>\n",
       "    </tr>\n",
       "  </thead>\n",
       "  <tbody>\n",
       "    <tr>\n",
       "      <th>0</th>\n",
       "      <td>268</td>\n",
       "      <td>http://www.astronomoumenos.com/id/wo9507684</td>\n",
       "    </tr>\n",
       "    <tr>\n",
       "      <th>1</th>\n",
       "      <td>228</td>\n",
       "      <td>http://www.astronomoumenos.com/id/wo3982193</td>\n",
       "    </tr>\n",
       "    <tr>\n",
       "      <th>2</th>\n",
       "      <td>206</td>\n",
       "      <td>http://www.astronomoumenos.com/id/wo1688941</td>\n",
       "    </tr>\n",
       "    <tr>\n",
       "      <th>3</th>\n",
       "      <td>187</td>\n",
       "      <td>http://www.astronomoumenos.com/id/wo3186019</td>\n",
       "    </tr>\n",
       "    <tr>\n",
       "      <th>4</th>\n",
       "      <td>181</td>\n",
       "      <td>http://www.astronomoumenos.com/id/wo9589044</td>\n",
       "    </tr>\n",
       "  </tbody>\n",
       "</table>\n",
       "</div>"
      ],
      "text/plain": [
       "     c                                          wo1\n",
       "0  268  http://www.astronomoumenos.com/id/wo9507684\n",
       "1  228  http://www.astronomoumenos.com/id/wo3982193\n",
       "2  206  http://www.astronomoumenos.com/id/wo1688941\n",
       "3  187  http://www.astronomoumenos.com/id/wo3186019\n",
       "4  181  http://www.astronomoumenos.com/id/wo9589044"
      ]
     },
     "execution_count": 57,
     "metadata": {},
     "output_type": "execute_result"
    }
   ],
   "source": [
    "result = g.query(\n",
    "        \"\"\"\n",
    "        PREFIX astr: <http://www.astronomoumenos.com/ontologies/astr.owl#>\n",
    "        PREFIX rdfs: <http://www.w3.org/2000/01/rdf-schema#>\n",
    "        PREFIX rdf: <http://www.w3.org/1999/02/22-rdf-syntax-ns#>\n",
    "        SELECT ?wo1 (COUNT(?wo2) AS ?c) WHERE {\n",
    "            ?wi1 astr:witnessOf ?wo1 .\n",
    "            ?wi1 astr:hasClaim ?cl1 .\n",
    "            ?cl1 astr:immediatelyFollowedBy ?cl2 .\n",
    "            ?cl2 ^astr:hasClaim ?wi2 .\n",
    "            ?wi2 astr:witnessOf ?wo2 .\n",
    "            FILTER( ?wo1 != ?wo2 )\n",
    "            }\n",
    "            GROUP BY ?wo1\n",
    "            ORDER BY DESC(?c)\n",
    "            \"\"\")\n",
    "\n",
    "numImmediatelyFollowing = pd.DataFrame(result.bindings)\n",
    "print(len(numImmediatelyFollowing))\n",
    "numImmediatelyFollowing.head()"
   ]
  },
  {
   "cell_type": "code",
   "execution_count": 61,
   "metadata": {
    "collapsed": false
   },
   "outputs": [
    {
     "name": "stdout",
     "output_type": "stream",
     "text": [
      "550\n"
     ]
    },
    {
     "data": {
      "text/html": [
       "<div>\n",
       "<table border=\"1\" class=\"dataframe\">\n",
       "  <thead>\n",
       "    <tr style=\"text-align: right;\">\n",
       "      <th></th>\n",
       "      <th>c</th>\n",
       "      <th>wo1</th>\n",
       "    </tr>\n",
       "  </thead>\n",
       "  <tbody>\n",
       "    <tr>\n",
       "      <th>0</th>\n",
       "      <td>268</td>\n",
       "      <td>http://www.astronomoumenos.com/id/wo9507684</td>\n",
       "    </tr>\n",
       "    <tr>\n",
       "      <th>1</th>\n",
       "      <td>228</td>\n",
       "      <td>http://www.astronomoumenos.com/id/wo3982193</td>\n",
       "    </tr>\n",
       "    <tr>\n",
       "      <th>2</th>\n",
       "      <td>206</td>\n",
       "      <td>http://www.astronomoumenos.com/id/wo1688941</td>\n",
       "    </tr>\n",
       "    <tr>\n",
       "      <th>3</th>\n",
       "      <td>187</td>\n",
       "      <td>http://www.astronomoumenos.com/id/wo3186019</td>\n",
       "    </tr>\n",
       "    <tr>\n",
       "      <th>4</th>\n",
       "      <td>181</td>\n",
       "      <td>http://www.astronomoumenos.com/id/wo9589044</td>\n",
       "    </tr>\n",
       "  </tbody>\n",
       "</table>\n",
       "</div>"
      ],
      "text/plain": [
       "     c                                          wo1\n",
       "0  268  http://www.astronomoumenos.com/id/wo9507684\n",
       "1  228  http://www.astronomoumenos.com/id/wo3982193\n",
       "2  206  http://www.astronomoumenos.com/id/wo1688941\n",
       "3  187  http://www.astronomoumenos.com/id/wo3186019\n",
       "4  181  http://www.astronomoumenos.com/id/wo9589044"
      ]
     },
     "execution_count": 61,
     "metadata": {},
     "output_type": "execute_result"
    }
   ],
   "source": [
    "numImmediatelyFollowing557 = numImmediatelyFollowing.loc[numImmediatelyFollowing[rdflib.term.Variable('wo1')].isin(astrID_wo_557)]\n",
    "print(len(numImmediatelyFollowing557))\n",
    "numImmediatelyFollowing557.head()"
   ]
  },
  {
   "cell_type": "markdown",
   "metadata": {},
   "source": [
    "### Count of how many different texts immediately precede each work"
   ]
  },
  {
   "cell_type": "code",
   "execution_count": 60,
   "metadata": {
    "collapsed": false
   },
   "outputs": [
    {
     "name": "stdout",
     "output_type": "stream",
     "text": [
      "5858\n"
     ]
    },
    {
     "data": {
      "text/html": [
       "<div>\n",
       "<table border=\"1\" class=\"dataframe\">\n",
       "  <thead>\n",
       "    <tr style=\"text-align: right;\">\n",
       "      <th></th>\n",
       "      <th>c</th>\n",
       "      <th>wo1</th>\n",
       "    </tr>\n",
       "  </thead>\n",
       "  <tbody>\n",
       "    <tr>\n",
       "      <th>0</th>\n",
       "      <td>221</td>\n",
       "      <td>http://www.astronomoumenos.com/id/wo9589044</td>\n",
       "    </tr>\n",
       "    <tr>\n",
       "      <th>1</th>\n",
       "      <td>215</td>\n",
       "      <td>http://www.astronomoumenos.com/id/wo3982193</td>\n",
       "    </tr>\n",
       "    <tr>\n",
       "      <th>2</th>\n",
       "      <td>164</td>\n",
       "      <td>http://www.astronomoumenos.com/id/wo8529873</td>\n",
       "    </tr>\n",
       "    <tr>\n",
       "      <th>3</th>\n",
       "      <td>161</td>\n",
       "      <td>http://www.astronomoumenos.com/id/wo9507684</td>\n",
       "    </tr>\n",
       "    <tr>\n",
       "      <th>4</th>\n",
       "      <td>158</td>\n",
       "      <td>http://www.astronomoumenos.com/id/wo7318064</td>\n",
       "    </tr>\n",
       "  </tbody>\n",
       "</table>\n",
       "</div>"
      ],
      "text/plain": [
       "     c                                          wo1\n",
       "0  221  http://www.astronomoumenos.com/id/wo9589044\n",
       "1  215  http://www.astronomoumenos.com/id/wo3982193\n",
       "2  164  http://www.astronomoumenos.com/id/wo8529873\n",
       "3  161  http://www.astronomoumenos.com/id/wo9507684\n",
       "4  158  http://www.astronomoumenos.com/id/wo7318064"
      ]
     },
     "execution_count": 60,
     "metadata": {},
     "output_type": "execute_result"
    }
   ],
   "source": [
    "result = g.query(\n",
    "        \"\"\"\n",
    "        PREFIX astr: <http://www.astronomoumenos.com/ontologies/astr.owl#>\n",
    "        PREFIX rdfs: <http://www.w3.org/2000/01/rdf-schema#>\n",
    "        PREFIX rdf: <http://www.w3.org/1999/02/22-rdf-syntax-ns#>\n",
    "        SELECT ?wo1 (COUNT(?wo2) AS ?c) WHERE {\n",
    "            ?wi1 astr:witnessOf ?wo1 .\n",
    "            ?wi1 astr:hasClaim ?cl1 .\n",
    "            ?cl1 ^astr:immediatelyFollowedBy ?cl2 .\n",
    "            ?cl2 ^astr:hasClaim ?wi2 .\n",
    "            ?wi2 astr:witnessOf ?wo2 .\n",
    "            FILTER( ?wo1 != ?wo2 )\n",
    "            }\n",
    "            GROUP BY ?wo1\n",
    "            ORDER BY DESC(?c)\n",
    "            \"\"\")\n",
    "\n",
    "numImmediatelyPreceding = pd.DataFrame(result.bindings)\n",
    "print(len(numImmediatelyPreceding))\n",
    "numImmediatelyPreceding.head()"
   ]
  },
  {
   "cell_type": "code",
   "execution_count": 62,
   "metadata": {
    "collapsed": false
   },
   "outputs": [
    {
     "name": "stdout",
     "output_type": "stream",
     "text": [
      "552\n"
     ]
    },
    {
     "data": {
      "text/html": [
       "<div>\n",
       "<table border=\"1\" class=\"dataframe\">\n",
       "  <thead>\n",
       "    <tr style=\"text-align: right;\">\n",
       "      <th></th>\n",
       "      <th>c</th>\n",
       "      <th>wo1</th>\n",
       "    </tr>\n",
       "  </thead>\n",
       "  <tbody>\n",
       "    <tr>\n",
       "      <th>0</th>\n",
       "      <td>221</td>\n",
       "      <td>http://www.astronomoumenos.com/id/wo9589044</td>\n",
       "    </tr>\n",
       "    <tr>\n",
       "      <th>1</th>\n",
       "      <td>215</td>\n",
       "      <td>http://www.astronomoumenos.com/id/wo3982193</td>\n",
       "    </tr>\n",
       "    <tr>\n",
       "      <th>2</th>\n",
       "      <td>164</td>\n",
       "      <td>http://www.astronomoumenos.com/id/wo8529873</td>\n",
       "    </tr>\n",
       "    <tr>\n",
       "      <th>3</th>\n",
       "      <td>161</td>\n",
       "      <td>http://www.astronomoumenos.com/id/wo9507684</td>\n",
       "    </tr>\n",
       "    <tr>\n",
       "      <th>4</th>\n",
       "      <td>158</td>\n",
       "      <td>http://www.astronomoumenos.com/id/wo7318064</td>\n",
       "    </tr>\n",
       "  </tbody>\n",
       "</table>\n",
       "</div>"
      ],
      "text/plain": [
       "     c                                          wo1\n",
       "0  221  http://www.astronomoumenos.com/id/wo9589044\n",
       "1  215  http://www.astronomoumenos.com/id/wo3982193\n",
       "2  164  http://www.astronomoumenos.com/id/wo8529873\n",
       "3  161  http://www.astronomoumenos.com/id/wo9507684\n",
       "4  158  http://www.astronomoumenos.com/id/wo7318064"
      ]
     },
     "execution_count": 62,
     "metadata": {},
     "output_type": "execute_result"
    }
   ],
   "source": [
    "numImmediatelyPreceding557 = numImmediatelyPreceding.loc[numImmediatelyPreceding[rdflib.term.Variable('wo1')].isin(astrID_wo_557)]\n",
    "print(len(numImmediatelyPreceding557))\n",
    "numImmediatelyPreceding557.head()"
   ]
  },
  {
   "cell_type": "markdown",
   "metadata": {},
   "source": [
    "### Count of how many times work appears as first text in ms"
   ]
  },
  {
   "cell_type": "code",
   "execution_count": 63,
   "metadata": {
    "collapsed": false
   },
   "outputs": [
    {
     "name": "stderr",
     "output_type": "stream",
     "text": [
      "ERROR:root:An unexpected error occurred while tokenizing input\n",
      "The following traceback may be corrupted or invalid\n",
      "The error message is: ('EOF in multi-line string', (1, 12))\n",
      "\n"
     ]
    },
    {
     "ename": "KeyboardInterrupt",
     "evalue": "",
     "output_type": "error",
     "traceback": [
      "\u001b[0;31m---------------------------------------------------------------------------\u001b[0m",
      "\u001b[0;31mKeyboardInterrupt\u001b[0m                         Traceback (most recent call last)",
      "\u001b[0;32m<ipython-input-63-238f76f246d5>\u001b[0m in \u001b[0;36m<module>\u001b[0;34m()\u001b[0m\n\u001b[1;32m     14\u001b[0m             \u001b[0mGROUP\u001b[0m \u001b[0mBY\u001b[0m\u001b[0;31m \u001b[0m\u001b[0;31m?\u001b[0m\u001b[0mwo1\u001b[0m\u001b[0;34m\u001b[0m\u001b[0m\n\u001b[1;32m     15\u001b[0m             \u001b[0mORDER\u001b[0m \u001b[0mBY\u001b[0m \u001b[0mDESC\u001b[0m\u001b[0;34m(\u001b[0m\u001b[0;31m?\u001b[0m\u001b[0mc\u001b[0m\u001b[0;34m)\u001b[0m\u001b[0;34m\u001b[0m\u001b[0m\n\u001b[0;32m---> 16\u001b[0;31m             \"\"\")\n\u001b[0m\u001b[1;32m     17\u001b[0m \u001b[0;34m\u001b[0m\u001b[0m\n\u001b[1;32m     18\u001b[0m \u001b[0mnumFirstText\u001b[0m \u001b[0;34m=\u001b[0m \u001b[0mpd\u001b[0m\u001b[0;34m.\u001b[0m\u001b[0mDataFrame\u001b[0m\u001b[0;34m(\u001b[0m\u001b[0mresult\u001b[0m\u001b[0;34m.\u001b[0m\u001b[0mbindings\u001b[0m\u001b[0;34m)\u001b[0m\u001b[0;34m\u001b[0m\u001b[0m\n",
      "\u001b[0;32m/usr/local/lib/python3.5/site-packages/rdflib/graph.py\u001b[0m in \u001b[0;36mquery\u001b[0;34m(self, query_object, processor, result, initNs, initBindings, use_store_provided, **kwargs)\u001b[0m\n\u001b[1;32m   1087\u001b[0m \u001b[0;34m\u001b[0m\u001b[0m\n\u001b[1;32m   1088\u001b[0m         return result(processor.query(\n\u001b[0;32m-> 1089\u001b[0;31m             query_object, initBindings, initNs, **kwargs))\n\u001b[0m\u001b[1;32m   1090\u001b[0m \u001b[0;34m\u001b[0m\u001b[0m\n\u001b[1;32m   1091\u001b[0m     def update(self, update_object, processor='sparql',\n",
      "\u001b[0;32m/usr/local/lib/python3.5/site-packages/rdflib/plugins/sparql/processor.py\u001b[0m in \u001b[0;36mquery\u001b[0;34m(self, strOrQuery, initBindings, initNs, base, DEBUG)\u001b[0m\n\u001b[1;32m     77\u001b[0m             \u001b[0mquery\u001b[0m \u001b[0;34m=\u001b[0m \u001b[0mstrOrQuery\u001b[0m\u001b[0;34m\u001b[0m\u001b[0m\n\u001b[1;32m     78\u001b[0m \u001b[0;34m\u001b[0m\u001b[0m\n\u001b[0;32m---> 79\u001b[0;31m         \u001b[0;32mreturn\u001b[0m \u001b[0mevalQuery\u001b[0m\u001b[0;34m(\u001b[0m\u001b[0mself\u001b[0m\u001b[0;34m.\u001b[0m\u001b[0mgraph\u001b[0m\u001b[0;34m,\u001b[0m \u001b[0mquery\u001b[0m\u001b[0;34m,\u001b[0m \u001b[0minitBindings\u001b[0m\u001b[0;34m,\u001b[0m \u001b[0mbase\u001b[0m\u001b[0;34m)\u001b[0m\u001b[0;34m\u001b[0m\u001b[0m\n\u001b[0m",
      "\u001b[0;32m/usr/local/lib/python3.5/site-packages/rdflib/plugins/sparql/evaluate.py\u001b[0m in \u001b[0;36mevalQuery\u001b[0;34m(graph, query, initBindings, base)\u001b[0m\n\u001b[1;32m    468\u001b[0m                 \u001b[0mctx\u001b[0m\u001b[0;34m.\u001b[0m\u001b[0mload\u001b[0m\u001b[0;34m(\u001b[0m\u001b[0mg\u001b[0m\u001b[0;34m,\u001b[0m \u001b[0mdefault\u001b[0m\u001b[0;34m=\u001b[0m\u001b[0;32mFalse\u001b[0m\u001b[0;34m)\u001b[0m\u001b[0;34m\u001b[0m\u001b[0m\n\u001b[1;32m    469\u001b[0m \u001b[0;34m\u001b[0m\u001b[0m\n\u001b[0;32m--> 470\u001b[0;31m     \u001b[0;32mreturn\u001b[0m \u001b[0mevalPart\u001b[0m\u001b[0;34m(\u001b[0m\u001b[0mctx\u001b[0m\u001b[0;34m,\u001b[0m \u001b[0mmain\u001b[0m\u001b[0;34m)\u001b[0m\u001b[0;34m\u001b[0m\u001b[0m\n\u001b[0m",
      "\u001b[0;32m/usr/local/lib/python3.5/site-packages/rdflib/plugins/sparql/evaluate.py\u001b[0m in \u001b[0;36mevalPart\u001b[0;34m(ctx, part)\u001b[0m\n\u001b[1;32m    256\u001b[0m \u001b[0;34m\u001b[0m\u001b[0m\n\u001b[1;32m    257\u001b[0m     \u001b[0;32melif\u001b[0m \u001b[0mpart\u001b[0m\u001b[0;34m.\u001b[0m\u001b[0mname\u001b[0m \u001b[0;34m==\u001b[0m \u001b[0;34m'SelectQuery'\u001b[0m\u001b[0;34m:\u001b[0m\u001b[0;34m\u001b[0m\u001b[0m\n\u001b[0;32m--> 258\u001b[0;31m         \u001b[0;32mreturn\u001b[0m \u001b[0mevalSelectQuery\u001b[0m\u001b[0;34m(\u001b[0m\u001b[0mctx\u001b[0m\u001b[0;34m,\u001b[0m \u001b[0mpart\u001b[0m\u001b[0;34m)\u001b[0m\u001b[0;34m\u001b[0m\u001b[0m\n\u001b[0m\u001b[1;32m    259\u001b[0m     \u001b[0;32melif\u001b[0m \u001b[0mpart\u001b[0m\u001b[0;34m.\u001b[0m\u001b[0mname\u001b[0m \u001b[0;34m==\u001b[0m \u001b[0;34m'AskQuery'\u001b[0m\u001b[0;34m:\u001b[0m\u001b[0;34m\u001b[0m\u001b[0m\n\u001b[1;32m    260\u001b[0m         \u001b[0;32mreturn\u001b[0m \u001b[0mevalAskQuery\u001b[0m\u001b[0;34m(\u001b[0m\u001b[0mctx\u001b[0m\u001b[0;34m,\u001b[0m \u001b[0mpart\u001b[0m\u001b[0;34m)\u001b[0m\u001b[0;34m\u001b[0m\u001b[0m\n",
      "\u001b[0;32m/usr/local/lib/python3.5/site-packages/rdflib/plugins/sparql/evaluate.py\u001b[0m in \u001b[0;36mevalSelectQuery\u001b[0;34m(ctx, query)\u001b[0m\n\u001b[1;32m    400\u001b[0m     \u001b[0mres\u001b[0m \u001b[0;34m=\u001b[0m \u001b[0;34m{\u001b[0m\u001b[0;34m}\u001b[0m\u001b[0;34m\u001b[0m\u001b[0m\n\u001b[1;32m    401\u001b[0m     \u001b[0mres\u001b[0m\u001b[0;34m[\u001b[0m\u001b[0;34m\"type_\"\u001b[0m\u001b[0;34m]\u001b[0m \u001b[0;34m=\u001b[0m \u001b[0;34m\"SELECT\"\u001b[0m\u001b[0;34m\u001b[0m\u001b[0m\n\u001b[0;32m--> 402\u001b[0;31m     \u001b[0mres\u001b[0m\u001b[0;34m[\u001b[0m\u001b[0;34m\"bindings\"\u001b[0m\u001b[0;34m]\u001b[0m \u001b[0;34m=\u001b[0m \u001b[0mevalPart\u001b[0m\u001b[0;34m(\u001b[0m\u001b[0mctx\u001b[0m\u001b[0;34m,\u001b[0m \u001b[0mquery\u001b[0m\u001b[0;34m.\u001b[0m\u001b[0mp\u001b[0m\u001b[0;34m)\u001b[0m\u001b[0;34m\u001b[0m\u001b[0m\n\u001b[0m\u001b[1;32m    403\u001b[0m     \u001b[0mres\u001b[0m\u001b[0;34m[\u001b[0m\u001b[0;34m\"vars_\"\u001b[0m\u001b[0;34m]\u001b[0m \u001b[0;34m=\u001b[0m \u001b[0mquery\u001b[0m\u001b[0;34m.\u001b[0m\u001b[0mPV\u001b[0m\u001b[0;34m\u001b[0m\u001b[0m\n\u001b[1;32m    404\u001b[0m     \u001b[0;32mreturn\u001b[0m \u001b[0mres\u001b[0m\u001b[0;34m\u001b[0m\u001b[0m\n",
      "\u001b[0;32m/usr/local/lib/python3.5/site-packages/rdflib/plugins/sparql/evaluate.py\u001b[0m in \u001b[0;36mevalPart\u001b[0;34m(ctx, part)\u001b[0m\n\u001b[1;32m    240\u001b[0m \u001b[0;34m\u001b[0m\u001b[0m\n\u001b[1;32m    241\u001b[0m     \u001b[0;32melif\u001b[0m \u001b[0mpart\u001b[0m\u001b[0;34m.\u001b[0m\u001b[0mname\u001b[0m \u001b[0;34m==\u001b[0m \u001b[0;34m'Project'\u001b[0m\u001b[0;34m:\u001b[0m\u001b[0;34m\u001b[0m\u001b[0m\n\u001b[0;32m--> 242\u001b[0;31m         \u001b[0;32mreturn\u001b[0m \u001b[0mevalProject\u001b[0m\u001b[0;34m(\u001b[0m\u001b[0mctx\u001b[0m\u001b[0;34m,\u001b[0m \u001b[0mpart\u001b[0m\u001b[0;34m)\u001b[0m\u001b[0;34m\u001b[0m\u001b[0m\n\u001b[0m\u001b[1;32m    243\u001b[0m     \u001b[0;32melif\u001b[0m \u001b[0mpart\u001b[0m\u001b[0;34m.\u001b[0m\u001b[0mname\u001b[0m \u001b[0;34m==\u001b[0m \u001b[0;34m'Slice'\u001b[0m\u001b[0;34m:\u001b[0m\u001b[0;34m\u001b[0m\u001b[0m\n\u001b[1;32m    244\u001b[0m         \u001b[0;32mreturn\u001b[0m \u001b[0mevalSlice\u001b[0m\u001b[0;34m(\u001b[0m\u001b[0mctx\u001b[0m\u001b[0;34m,\u001b[0m \u001b[0mpart\u001b[0m\u001b[0;34m)\u001b[0m\u001b[0;34m\u001b[0m\u001b[0m\n",
      "\u001b[0;32m/usr/local/lib/python3.5/site-packages/rdflib/plugins/sparql/evaluate.py\u001b[0m in \u001b[0;36mevalProject\u001b[0;34m(ctx, project)\u001b[0m\n\u001b[1;32m    391\u001b[0m \u001b[0;34m\u001b[0m\u001b[0m\n\u001b[1;32m    392\u001b[0m \u001b[0;32mdef\u001b[0m \u001b[0mevalProject\u001b[0m\u001b[0;34m(\u001b[0m\u001b[0mctx\u001b[0m\u001b[0;34m,\u001b[0m \u001b[0mproject\u001b[0m\u001b[0;34m)\u001b[0m\u001b[0;34m:\u001b[0m\u001b[0;34m\u001b[0m\u001b[0m\n\u001b[0;32m--> 393\u001b[0;31m     \u001b[0mres\u001b[0m \u001b[0;34m=\u001b[0m \u001b[0mevalPart\u001b[0m\u001b[0;34m(\u001b[0m\u001b[0mctx\u001b[0m\u001b[0;34m,\u001b[0m \u001b[0mproject\u001b[0m\u001b[0;34m.\u001b[0m\u001b[0mp\u001b[0m\u001b[0;34m)\u001b[0m\u001b[0;34m\u001b[0m\u001b[0m\n\u001b[0m\u001b[1;32m    394\u001b[0m \u001b[0;34m\u001b[0m\u001b[0m\n\u001b[1;32m    395\u001b[0m     \u001b[0;32mreturn\u001b[0m \u001b[0;34m(\u001b[0m\u001b[0mrow\u001b[0m\u001b[0;34m.\u001b[0m\u001b[0mproject\u001b[0m\u001b[0;34m(\u001b[0m\u001b[0mproject\u001b[0m\u001b[0;34m.\u001b[0m\u001b[0mPV\u001b[0m\u001b[0;34m)\u001b[0m \u001b[0;32mfor\u001b[0m \u001b[0mrow\u001b[0m \u001b[0;32min\u001b[0m \u001b[0mres\u001b[0m\u001b[0;34m)\u001b[0m\u001b[0;34m\u001b[0m\u001b[0m\n",
      "\u001b[0;32m/usr/local/lib/python3.5/site-packages/rdflib/plugins/sparql/evaluate.py\u001b[0m in \u001b[0;36mevalPart\u001b[0;34m(ctx, part)\u001b[0m\n\u001b[1;32m    249\u001b[0m \u001b[0;34m\u001b[0m\u001b[0m\n\u001b[1;32m    250\u001b[0m     \u001b[0;32melif\u001b[0m \u001b[0mpart\u001b[0m\u001b[0;34m.\u001b[0m\u001b[0mname\u001b[0m \u001b[0;34m==\u001b[0m \u001b[0;34m'OrderBy'\u001b[0m\u001b[0;34m:\u001b[0m\u001b[0;34m\u001b[0m\u001b[0m\n\u001b[0;32m--> 251\u001b[0;31m         \u001b[0;32mreturn\u001b[0m \u001b[0mevalOrderBy\u001b[0m\u001b[0;34m(\u001b[0m\u001b[0mctx\u001b[0m\u001b[0;34m,\u001b[0m \u001b[0mpart\u001b[0m\u001b[0;34m)\u001b[0m\u001b[0;34m\u001b[0m\u001b[0m\n\u001b[0m\u001b[1;32m    252\u001b[0m     \u001b[0;32melif\u001b[0m \u001b[0mpart\u001b[0m\u001b[0;34m.\u001b[0m\u001b[0mname\u001b[0m \u001b[0;34m==\u001b[0m \u001b[0;34m'Group'\u001b[0m\u001b[0;34m:\u001b[0m\u001b[0;34m\u001b[0m\u001b[0m\n\u001b[1;32m    253\u001b[0m         \u001b[0;32mreturn\u001b[0m \u001b[0mevalGroup\u001b[0m\u001b[0;34m(\u001b[0m\u001b[0mctx\u001b[0m\u001b[0;34m,\u001b[0m \u001b[0mpart\u001b[0m\u001b[0;34m)\u001b[0m\u001b[0;34m\u001b[0m\u001b[0m\n",
      "\u001b[0;32m/usr/local/lib/python3.5/site-packages/rdflib/plugins/sparql/evaluate.py\u001b[0m in \u001b[0;36mevalOrderBy\u001b[0;34m(ctx, part)\u001b[0m\n\u001b[1;32m    318\u001b[0m \u001b[0;34m\u001b[0m\u001b[0m\n\u001b[1;32m    319\u001b[0m         \u001b[0mreverse\u001b[0m \u001b[0;34m=\u001b[0m \u001b[0mbool\u001b[0m\u001b[0;34m(\u001b[0m\u001b[0me\u001b[0m\u001b[0;34m.\u001b[0m\u001b[0morder\u001b[0m \u001b[0;32mand\u001b[0m \u001b[0me\u001b[0m\u001b[0;34m.\u001b[0m\u001b[0morder\u001b[0m \u001b[0;34m==\u001b[0m \u001b[0;34m'DESC'\u001b[0m\u001b[0;34m)\u001b[0m\u001b[0;34m\u001b[0m\u001b[0m\n\u001b[0;32m--> 320\u001b[0;31m         \u001b[0mres\u001b[0m \u001b[0;34m=\u001b[0m \u001b[0msorted\u001b[0m\u001b[0;34m(\u001b[0m\u001b[0mres\u001b[0m\u001b[0;34m,\u001b[0m \u001b[0mkey\u001b[0m\u001b[0;34m=\u001b[0m\u001b[0;32mlambda\u001b[0m \u001b[0mx\u001b[0m\u001b[0;34m:\u001b[0m \u001b[0m_val\u001b[0m\u001b[0;34m(\u001b[0m\u001b[0mvalue\u001b[0m\u001b[0;34m(\u001b[0m\u001b[0mx\u001b[0m\u001b[0;34m,\u001b[0m \u001b[0me\u001b[0m\u001b[0;34m.\u001b[0m\u001b[0mexpr\u001b[0m\u001b[0;34m,\u001b[0m \u001b[0mvariables\u001b[0m\u001b[0;34m=\u001b[0m\u001b[0;32mTrue\u001b[0m\u001b[0;34m)\u001b[0m\u001b[0;34m)\u001b[0m\u001b[0;34m,\u001b[0m \u001b[0mreverse\u001b[0m\u001b[0;34m=\u001b[0m\u001b[0mreverse\u001b[0m\u001b[0;34m)\u001b[0m\u001b[0;34m\u001b[0m\u001b[0m\n\u001b[0m\u001b[1;32m    321\u001b[0m \u001b[0;34m\u001b[0m\u001b[0m\n\u001b[1;32m    322\u001b[0m     \u001b[0;32mreturn\u001b[0m \u001b[0mres\u001b[0m\u001b[0;34m\u001b[0m\u001b[0m\n",
      "\u001b[0;32m/usr/local/lib/python3.5/site-packages/rdflib/plugins/sparql/evaluate.py\u001b[0m in \u001b[0;36mevalExtend\u001b[0;34m(ctx, extend)\u001b[0m\n\u001b[1;32m     73\u001b[0m     \u001b[0;31m# TODO: Deal with dict returned from evalPart from GROUP BY\u001b[0m\u001b[0;34m\u001b[0m\u001b[0;34m\u001b[0m\u001b[0m\n\u001b[1;32m     74\u001b[0m \u001b[0;34m\u001b[0m\u001b[0m\n\u001b[0;32m---> 75\u001b[0;31m     \u001b[0;32mfor\u001b[0m \u001b[0mc\u001b[0m \u001b[0;32min\u001b[0m \u001b[0mevalPart\u001b[0m\u001b[0;34m(\u001b[0m\u001b[0mctx\u001b[0m\u001b[0;34m,\u001b[0m \u001b[0mextend\u001b[0m\u001b[0;34m.\u001b[0m\u001b[0mp\u001b[0m\u001b[0;34m)\u001b[0m\u001b[0;34m:\u001b[0m\u001b[0;34m\u001b[0m\u001b[0m\n\u001b[0m\u001b[1;32m     76\u001b[0m         \u001b[0;32mtry\u001b[0m\u001b[0;34m:\u001b[0m\u001b[0;34m\u001b[0m\u001b[0m\n\u001b[1;32m     77\u001b[0m             \u001b[0me\u001b[0m \u001b[0;34m=\u001b[0m \u001b[0m_eval\u001b[0m\u001b[0;34m(\u001b[0m\u001b[0mextend\u001b[0m\u001b[0;34m.\u001b[0m\u001b[0mexpr\u001b[0m\u001b[0;34m,\u001b[0m \u001b[0mc\u001b[0m\u001b[0;34m.\u001b[0m\u001b[0mforget\u001b[0m\u001b[0;34m(\u001b[0m\u001b[0mctx\u001b[0m\u001b[0;34m,\u001b[0m \u001b[0m_except\u001b[0m\u001b[0;34m=\u001b[0m\u001b[0mextend\u001b[0m\u001b[0;34m.\u001b[0m\u001b[0m_vars\u001b[0m\u001b[0;34m)\u001b[0m\u001b[0;34m)\u001b[0m\u001b[0;34m\u001b[0m\u001b[0m\n",
      "\u001b[0;32m/usr/local/lib/python3.5/site-packages/rdflib/plugins/sparql/evaluate.py\u001b[0m in \u001b[0;36mevalExtend\u001b[0;34m(ctx, extend)\u001b[0m\n\u001b[1;32m     73\u001b[0m     \u001b[0;31m# TODO: Deal with dict returned from evalPart from GROUP BY\u001b[0m\u001b[0;34m\u001b[0m\u001b[0;34m\u001b[0m\u001b[0m\n\u001b[1;32m     74\u001b[0m \u001b[0;34m\u001b[0m\u001b[0m\n\u001b[0;32m---> 75\u001b[0;31m     \u001b[0;32mfor\u001b[0m \u001b[0mc\u001b[0m \u001b[0;32min\u001b[0m \u001b[0mevalPart\u001b[0m\u001b[0;34m(\u001b[0m\u001b[0mctx\u001b[0m\u001b[0;34m,\u001b[0m \u001b[0mextend\u001b[0m\u001b[0;34m.\u001b[0m\u001b[0mp\u001b[0m\u001b[0;34m)\u001b[0m\u001b[0;34m:\u001b[0m\u001b[0;34m\u001b[0m\u001b[0m\n\u001b[0m\u001b[1;32m     76\u001b[0m         \u001b[0;32mtry\u001b[0m\u001b[0;34m:\u001b[0m\u001b[0;34m\u001b[0m\u001b[0m\n\u001b[1;32m     77\u001b[0m             \u001b[0me\u001b[0m \u001b[0;34m=\u001b[0m \u001b[0m_eval\u001b[0m\u001b[0;34m(\u001b[0m\u001b[0mextend\u001b[0m\u001b[0;34m.\u001b[0m\u001b[0mexpr\u001b[0m\u001b[0;34m,\u001b[0m \u001b[0mc\u001b[0m\u001b[0;34m.\u001b[0m\u001b[0mforget\u001b[0m\u001b[0;34m(\u001b[0m\u001b[0mctx\u001b[0m\u001b[0;34m,\u001b[0m \u001b[0m_except\u001b[0m\u001b[0;34m=\u001b[0m\u001b[0mextend\u001b[0m\u001b[0;34m.\u001b[0m\u001b[0m_vars\u001b[0m\u001b[0;34m)\u001b[0m\u001b[0;34m)\u001b[0m\u001b[0;34m\u001b[0m\u001b[0m\n",
      "\u001b[0;32m/usr/local/lib/python3.5/site-packages/rdflib/plugins/sparql/evaluate.py\u001b[0m in \u001b[0;36mevalAggregateJoin\u001b[0;34m(ctx, agg)\u001b[0m\n\u001b[1;32m    297\u001b[0m             \u001b[0maggregator\u001b[0m\u001b[0;34m.\u001b[0m\u001b[0mupdate\u001b[0m\u001b[0;34m(\u001b[0m\u001b[0mrow\u001b[0m\u001b[0;34m)\u001b[0m\u001b[0;34m\u001b[0m\u001b[0m\n\u001b[1;32m    298\u001b[0m     \u001b[0;32melse\u001b[0m\u001b[0;34m:\u001b[0m\u001b[0;34m\u001b[0m\u001b[0m\n\u001b[0;32m--> 299\u001b[0;31m         \u001b[0;32mfor\u001b[0m \u001b[0mrow\u001b[0m \u001b[0;32min\u001b[0m \u001b[0mp\u001b[0m\u001b[0;34m:\u001b[0m\u001b[0;34m\u001b[0m\u001b[0m\n\u001b[0m\u001b[1;32m    300\u001b[0m             \u001b[0;31m# determine right group aggregator for row\u001b[0m\u001b[0;34m\u001b[0m\u001b[0;34m\u001b[0m\u001b[0m\n\u001b[1;32m    301\u001b[0m             \u001b[0mk\u001b[0m \u001b[0;34m=\u001b[0m \u001b[0mtuple\u001b[0m\u001b[0;34m(\u001b[0m\u001b[0m_eval\u001b[0m\u001b[0;34m(\u001b[0m\u001b[0me\u001b[0m\u001b[0;34m,\u001b[0m \u001b[0mrow\u001b[0m\u001b[0;34m,\u001b[0m \u001b[0;32mFalse\u001b[0m\u001b[0;34m)\u001b[0m \u001b[0;32mfor\u001b[0m \u001b[0me\u001b[0m \u001b[0;32min\u001b[0m \u001b[0mgroup_expr\u001b[0m\u001b[0;34m)\u001b[0m\u001b[0;34m\u001b[0m\u001b[0m\n",
      "\u001b[0;32m/usr/local/lib/python3.5/site-packages/rdflib/plugins/sparql/evalutils.py\u001b[0m in \u001b[0;36m_minus\u001b[0;34m(a, b)\u001b[0m\n\u001b[1;32m     20\u001b[0m \u001b[0;32mdef\u001b[0m \u001b[0m_minus\u001b[0m\u001b[0;34m(\u001b[0m\u001b[0ma\u001b[0m\u001b[0;34m,\u001b[0m \u001b[0mb\u001b[0m\u001b[0;34m)\u001b[0m\u001b[0;34m:\u001b[0m\u001b[0;34m\u001b[0m\u001b[0m\n\u001b[1;32m     21\u001b[0m     \u001b[0;32mfor\u001b[0m \u001b[0mx\u001b[0m \u001b[0;32min\u001b[0m \u001b[0ma\u001b[0m\u001b[0;34m:\u001b[0m\u001b[0;34m\u001b[0m\u001b[0m\n\u001b[0;32m---> 22\u001b[0;31m         \u001b[0;32mif\u001b[0m \u001b[0mall\u001b[0m\u001b[0;34m(\u001b[0m\u001b[0;34m(\u001b[0m\u001b[0;32mnot\u001b[0m \u001b[0mx\u001b[0m\u001b[0;34m.\u001b[0m\u001b[0mcompatible\u001b[0m\u001b[0;34m(\u001b[0m\u001b[0my\u001b[0m\u001b[0;34m)\u001b[0m\u001b[0;34m)\u001b[0m \u001b[0;32mor\u001b[0m \u001b[0mx\u001b[0m\u001b[0;34m.\u001b[0m\u001b[0mdisjointDomain\u001b[0m\u001b[0;34m(\u001b[0m\u001b[0my\u001b[0m\u001b[0;34m)\u001b[0m \u001b[0;32mfor\u001b[0m \u001b[0my\u001b[0m \u001b[0;32min\u001b[0m \u001b[0mb\u001b[0m\u001b[0;34m)\u001b[0m\u001b[0;34m:\u001b[0m\u001b[0;34m\u001b[0m\u001b[0m\n\u001b[0m\u001b[1;32m     23\u001b[0m             \u001b[0;32myield\u001b[0m \u001b[0mx\u001b[0m\u001b[0;34m\u001b[0m\u001b[0m\n\u001b[1;32m     24\u001b[0m \u001b[0;34m\u001b[0m\u001b[0m\n",
      "\u001b[0;32m/usr/local/lib/python3.5/site-packages/rdflib/plugins/sparql/evalutils.py\u001b[0m in \u001b[0;36m<genexpr>\u001b[0;34m(.0)\u001b[0m\n\u001b[1;32m     20\u001b[0m \u001b[0;32mdef\u001b[0m \u001b[0m_minus\u001b[0m\u001b[0;34m(\u001b[0m\u001b[0ma\u001b[0m\u001b[0;34m,\u001b[0m \u001b[0mb\u001b[0m\u001b[0;34m)\u001b[0m\u001b[0;34m:\u001b[0m\u001b[0;34m\u001b[0m\u001b[0m\n\u001b[1;32m     21\u001b[0m     \u001b[0;32mfor\u001b[0m \u001b[0mx\u001b[0m \u001b[0;32min\u001b[0m \u001b[0ma\u001b[0m\u001b[0;34m:\u001b[0m\u001b[0;34m\u001b[0m\u001b[0m\n\u001b[0;32m---> 22\u001b[0;31m         \u001b[0;32mif\u001b[0m \u001b[0mall\u001b[0m\u001b[0;34m(\u001b[0m\u001b[0;34m(\u001b[0m\u001b[0;32mnot\u001b[0m \u001b[0mx\u001b[0m\u001b[0;34m.\u001b[0m\u001b[0mcompatible\u001b[0m\u001b[0;34m(\u001b[0m\u001b[0my\u001b[0m\u001b[0;34m)\u001b[0m\u001b[0;34m)\u001b[0m \u001b[0;32mor\u001b[0m \u001b[0mx\u001b[0m\u001b[0;34m.\u001b[0m\u001b[0mdisjointDomain\u001b[0m\u001b[0;34m(\u001b[0m\u001b[0my\u001b[0m\u001b[0;34m)\u001b[0m \u001b[0;32mfor\u001b[0m \u001b[0my\u001b[0m \u001b[0;32min\u001b[0m \u001b[0mb\u001b[0m\u001b[0;34m)\u001b[0m\u001b[0;34m:\u001b[0m\u001b[0;34m\u001b[0m\u001b[0m\n\u001b[0m\u001b[1;32m     23\u001b[0m             \u001b[0;32myield\u001b[0m \u001b[0mx\u001b[0m\u001b[0;34m\u001b[0m\u001b[0m\n\u001b[1;32m     24\u001b[0m \u001b[0;34m\u001b[0m\u001b[0m\n",
      "\u001b[0;32m/usr/local/lib/python3.5/site-packages/rdflib/plugins/sparql/sparql.py\u001b[0m in \u001b[0;36mcompatible\u001b[0;34m(self, other)\u001b[0m\n\u001b[1;32m    131\u001b[0m \u001b[0;34m\u001b[0m\u001b[0m\n\u001b[1;32m    132\u001b[0m     \u001b[0;32mdef\u001b[0m \u001b[0mcompatible\u001b[0m\u001b[0;34m(\u001b[0m\u001b[0mself\u001b[0m\u001b[0;34m,\u001b[0m \u001b[0mother\u001b[0m\u001b[0;34m)\u001b[0m\u001b[0;34m:\u001b[0m\u001b[0;34m\u001b[0m\u001b[0m\n\u001b[0;32m--> 133\u001b[0;31m         \u001b[0;32mfor\u001b[0m \u001b[0mk\u001b[0m \u001b[0;32min\u001b[0m \u001b[0mself\u001b[0m\u001b[0;34m:\u001b[0m\u001b[0;34m\u001b[0m\u001b[0m\n\u001b[0m\u001b[1;32m    134\u001b[0m             \u001b[0;32mtry\u001b[0m\u001b[0;34m:\u001b[0m\u001b[0;34m\u001b[0m\u001b[0m\n\u001b[1;32m    135\u001b[0m                 \u001b[0;32mif\u001b[0m \u001b[0mself\u001b[0m\u001b[0;34m[\u001b[0m\u001b[0mk\u001b[0m\u001b[0;34m]\u001b[0m \u001b[0;34m!=\u001b[0m \u001b[0mother\u001b[0m\u001b[0;34m[\u001b[0m\u001b[0mk\u001b[0m\u001b[0;34m]\u001b[0m\u001b[0;34m:\u001b[0m\u001b[0;34m\u001b[0m\u001b[0m\n",
      "\u001b[0;31mKeyboardInterrupt\u001b[0m: "
     ]
    }
   ],
   "source": [
    "result = g.query(\n",
    "        \"\"\"\n",
    "        PREFIX astr: <http://www.astronomoumenos.com/ontologies/astr.owl#>\n",
    "        PREFIX rdfs: <http://www.w3.org/2000/01/rdf-schema#>\n",
    "        PREFIX rdf: <http://www.w3.org/1999/02/22-rdf-syntax-ns#>\n",
    "        SELECT ?wo1 (COUNT(?wi1) AS ?c) WHERE {\n",
    "            ?wi1 astr:witnessOf ?wo1 .\n",
    "            ?wi1 astr:hasClaim ?cl1 .\n",
    "            \n",
    "            MINUS {\n",
    "                ?cl1 ^astr:immediatelyFollowedBy ?cl2 .\n",
    "                }\n",
    "            }\n",
    "            GROUP BY ?wo1\n",
    "            ORDER BY DESC(?c)\n",
    "            \"\"\")\n",
    "\n",
    "numFirstText = pd.DataFrame(result.bindings)\n",
    "print(len(numFirstText))\n",
    "numFirstText.head()"
   ]
  },
  {
   "cell_type": "code",
   "execution_count": null,
   "metadata": {
    "collapsed": true
   },
   "outputs": [],
   "source": [
    "numFirstText557 = numFirstText.loc[numFirstText[rdflib.term.Variable('wo1')].isin(astrID_wo_557)]\n",
    "print(len(numFirstText557))\n",
    "numFirstText557.head()"
   ]
  },
  {
   "cell_type": "markdown",
   "metadata": {},
   "source": [
    "### Count of how many times work appears as last text in ms"
   ]
  },
  {
   "cell_type": "code",
   "execution_count": null,
   "metadata": {
    "collapsed": true
   },
   "outputs": [],
   "source": [
    "result = g.query(\n",
    "        \"\"\"\n",
    "        PREFIX astr: <http://www.astronomoumenos.com/ontologies/astr.owl#>\n",
    "        PREFIX rdfs: <http://www.w3.org/2000/01/rdf-schema#>\n",
    "        PREFIX rdf: <http://www.w3.org/1999/02/22-rdf-syntax-ns#>\n",
    "        SELECT ?wo1 (COUNT(?wi1) AS ?c) WHERE {\n",
    "            ?wi1 astr:witnessOf ?wo1 .\n",
    "            ?wi1 astr:hasClaim ?cl1 .\n",
    "            \n",
    "            MINUS {\n",
    "                ?cl1 astr:immediatelyFollowedBy ?cl2 .\n",
    "                }\n",
    "            }\n",
    "            GROUP BY ?wo1\n",
    "            ORDER BY DESC(?c)\n",
    "            \"\"\")\n",
    "\n",
    "numLastText = pd.DataFrame(result.bindings)\n",
    "print(len(numLastText))\n",
    "numLastText.head()"
   ]
  },
  {
   "cell_type": "code",
   "execution_count": null,
   "metadata": {
    "collapsed": true
   },
   "outputs": [],
   "source": [
    "numLastText557 = numLastText.loc[numLastText[rdflib.term.Variable('wo1')].isin(astrID_wo_557)]\n",
    "print(len(numLastText557))\n",
    "numLastText557.head()"
   ]
  },
  {
   "cell_type": "markdown",
   "metadata": {},
   "source": [
    "### Max number of neighbors work has in one ms"
   ]
  },
  {
   "cell_type": "code",
   "execution_count": 95,
   "metadata": {
    "collapsed": false
   },
   "outputs": [
    {
     "ename": "NotBoundError",
     "evalue": "Variable wo2 is not bound",
     "output_type": "error",
     "traceback": [
      "\u001b[0;31m---------------------------------------------------------------------------\u001b[0m",
      "\u001b[0;31mKeyError\u001b[0m                                  Traceback (most recent call last)",
      "\u001b[0;32m/usr/local/lib/python3.5/site-packages/rdflib/plugins/sparql/evalutils.py\u001b[0m in \u001b[0;36m_eval\u001b[0;34m(expr, ctx, raise_not_bound_error)\u001b[0m\n\u001b[1;32m     70\u001b[0m         \u001b[0;32mtry\u001b[0m\u001b[0;34m:\u001b[0m\u001b[0;34m\u001b[0m\u001b[0m\n\u001b[0;32m---> 71\u001b[0;31m             \u001b[0;32mreturn\u001b[0m \u001b[0mctx\u001b[0m\u001b[0;34m[\u001b[0m\u001b[0mexpr\u001b[0m\u001b[0;34m]\u001b[0m\u001b[0;34m\u001b[0m\u001b[0m\n\u001b[0m\u001b[1;32m     72\u001b[0m         \u001b[0;32mexcept\u001b[0m \u001b[0mKeyError\u001b[0m\u001b[0;34m:\u001b[0m\u001b[0;34m\u001b[0m\u001b[0m\n",
      "\u001b[0;32m/usr/local/lib/python3.5/site-packages/rdflib/plugins/sparql/sparql.py\u001b[0m in \u001b[0;36m__getitem__\u001b[0;34m(self, key)\u001b[0m\n\u001b[1;32m    168\u001b[0m \u001b[0;34m\u001b[0m\u001b[0m\n\u001b[0;32m--> 169\u001b[0;31m         \u001b[0;32mreturn\u001b[0m \u001b[0mself\u001b[0m\u001b[0;34m.\u001b[0m\u001b[0m_d\u001b[0m\u001b[0;34m[\u001b[0m\u001b[0mkey\u001b[0m\u001b[0;34m]\u001b[0m\u001b[0;34m\u001b[0m\u001b[0m\n\u001b[0m\u001b[1;32m    170\u001b[0m \u001b[0;34m\u001b[0m\u001b[0m\n",
      "\u001b[0;31mKeyError\u001b[0m: rdflib.term.Variable('wo2')",
      "\nDuring handling of the above exception, another exception occurred:\n",
      "\u001b[0;31mNotBoundError\u001b[0m                             Traceback (most recent call last)",
      "\u001b[0;32m<ipython-input-95-1c570427970c>\u001b[0m in \u001b[0;36m<module>\u001b[0;34m()\u001b[0m\n\u001b[1;32m     20\u001b[0m             \"\"\")\n\u001b[1;32m     21\u001b[0m \u001b[0;34m\u001b[0m\u001b[0m\n\u001b[0;32m---> 22\u001b[0;31m \u001b[0mmaxNeighbors\u001b[0m \u001b[0;34m=\u001b[0m \u001b[0mpd\u001b[0m\u001b[0;34m.\u001b[0m\u001b[0mDataFrame\u001b[0m\u001b[0;34m(\u001b[0m\u001b[0mresult\u001b[0m\u001b[0;34m.\u001b[0m\u001b[0mbindings\u001b[0m\u001b[0;34m)\u001b[0m\u001b[0;34m\u001b[0m\u001b[0m\n\u001b[0m\u001b[1;32m     23\u001b[0m \u001b[0mprint\u001b[0m\u001b[0;34m(\u001b[0m\u001b[0mlen\u001b[0m\u001b[0;34m(\u001b[0m\u001b[0mmaxNeighbors\u001b[0m\u001b[0;34m)\u001b[0m\u001b[0;34m)\u001b[0m\u001b[0;34m\u001b[0m\u001b[0m\n\u001b[1;32m     24\u001b[0m \u001b[0mmaxNeighbors\u001b[0m\u001b[0;34m.\u001b[0m\u001b[0mhead\u001b[0m\u001b[0;34m(\u001b[0m\u001b[0;34m)\u001b[0m\u001b[0;34m\u001b[0m\u001b[0m\n",
      "\u001b[0;32m/usr/local/lib/python3.5/site-packages/rdflib/query.py\u001b[0m in \u001b[0;36m_get_bindings\u001b[0;34m(self)\u001b[0m\n\u001b[1;32m    176\u001b[0m     \u001b[0;32mdef\u001b[0m \u001b[0m_get_bindings\u001b[0m\u001b[0;34m(\u001b[0m\u001b[0mself\u001b[0m\u001b[0;34m)\u001b[0m\u001b[0;34m:\u001b[0m\u001b[0;34m\u001b[0m\u001b[0m\n\u001b[1;32m    177\u001b[0m         \u001b[0;32mif\u001b[0m \u001b[0mself\u001b[0m\u001b[0;34m.\u001b[0m\u001b[0m_genbindings\u001b[0m\u001b[0;34m:\u001b[0m\u001b[0;34m\u001b[0m\u001b[0m\n\u001b[0;32m--> 178\u001b[0;31m             \u001b[0mself\u001b[0m\u001b[0;34m.\u001b[0m\u001b[0m_bindings\u001b[0m \u001b[0;34m+=\u001b[0m \u001b[0mlist\u001b[0m\u001b[0;34m(\u001b[0m\u001b[0mself\u001b[0m\u001b[0;34m.\u001b[0m\u001b[0m_genbindings\u001b[0m\u001b[0;34m)\u001b[0m\u001b[0;34m\u001b[0m\u001b[0m\n\u001b[0m\u001b[1;32m    179\u001b[0m             \u001b[0mself\u001b[0m\u001b[0;34m.\u001b[0m\u001b[0m_genbindings\u001b[0m \u001b[0;34m=\u001b[0m \u001b[0;32mNone\u001b[0m\u001b[0;34m\u001b[0m\u001b[0m\n\u001b[1;32m    180\u001b[0m \u001b[0;34m\u001b[0m\u001b[0m\n",
      "\u001b[0;32m/usr/local/lib/python3.5/site-packages/rdflib/plugins/sparql/evaluate.py\u001b[0m in \u001b[0;36m<genexpr>\u001b[0;34m(.0)\u001b[0m\n\u001b[1;32m    393\u001b[0m     \u001b[0mres\u001b[0m \u001b[0;34m=\u001b[0m \u001b[0mevalPart\u001b[0m\u001b[0;34m(\u001b[0m\u001b[0mctx\u001b[0m\u001b[0;34m,\u001b[0m \u001b[0mproject\u001b[0m\u001b[0;34m.\u001b[0m\u001b[0mp\u001b[0m\u001b[0;34m)\u001b[0m\u001b[0;34m\u001b[0m\u001b[0m\n\u001b[1;32m    394\u001b[0m \u001b[0;34m\u001b[0m\u001b[0m\n\u001b[0;32m--> 395\u001b[0;31m     \u001b[0;32mreturn\u001b[0m \u001b[0;34m(\u001b[0m\u001b[0mrow\u001b[0m\u001b[0;34m.\u001b[0m\u001b[0mproject\u001b[0m\u001b[0;34m(\u001b[0m\u001b[0mproject\u001b[0m\u001b[0;34m.\u001b[0m\u001b[0mPV\u001b[0m\u001b[0;34m)\u001b[0m \u001b[0;32mfor\u001b[0m \u001b[0mrow\u001b[0m \u001b[0;32min\u001b[0m \u001b[0mres\u001b[0m\u001b[0;34m)\u001b[0m\u001b[0;34m\u001b[0m\u001b[0m\n\u001b[0m\u001b[1;32m    396\u001b[0m \u001b[0;34m\u001b[0m\u001b[0m\n\u001b[1;32m    397\u001b[0m \u001b[0;34m\u001b[0m\u001b[0m\n",
      "\u001b[0;32m/usr/local/lib/python3.5/site-packages/rdflib/plugins/sparql/evaluate.py\u001b[0m in \u001b[0;36mevalExtend\u001b[0;34m(ctx, extend)\u001b[0m\n\u001b[1;32m     73\u001b[0m     \u001b[0;31m# TODO: Deal with dict returned from evalPart from GROUP BY\u001b[0m\u001b[0;34m\u001b[0m\u001b[0;34m\u001b[0m\u001b[0m\n\u001b[1;32m     74\u001b[0m \u001b[0;34m\u001b[0m\u001b[0m\n\u001b[0;32m---> 75\u001b[0;31m     \u001b[0;32mfor\u001b[0m \u001b[0mc\u001b[0m \u001b[0;32min\u001b[0m \u001b[0mevalPart\u001b[0m\u001b[0;34m(\u001b[0m\u001b[0mctx\u001b[0m\u001b[0;34m,\u001b[0m \u001b[0mextend\u001b[0m\u001b[0;34m.\u001b[0m\u001b[0mp\u001b[0m\u001b[0;34m)\u001b[0m\u001b[0;34m:\u001b[0m\u001b[0;34m\u001b[0m\u001b[0m\n\u001b[0m\u001b[1;32m     76\u001b[0m         \u001b[0;32mtry\u001b[0m\u001b[0;34m:\u001b[0m\u001b[0;34m\u001b[0m\u001b[0m\n\u001b[1;32m     77\u001b[0m             \u001b[0me\u001b[0m \u001b[0;34m=\u001b[0m \u001b[0m_eval\u001b[0m\u001b[0;34m(\u001b[0m\u001b[0mextend\u001b[0m\u001b[0;34m.\u001b[0m\u001b[0mexpr\u001b[0m\u001b[0;34m,\u001b[0m \u001b[0mc\u001b[0m\u001b[0;34m.\u001b[0m\u001b[0mforget\u001b[0m\u001b[0;34m(\u001b[0m\u001b[0mctx\u001b[0m\u001b[0;34m,\u001b[0m \u001b[0m_except\u001b[0m\u001b[0;34m=\u001b[0m\u001b[0mextend\u001b[0m\u001b[0;34m.\u001b[0m\u001b[0m_vars\u001b[0m\u001b[0;34m)\u001b[0m\u001b[0;34m)\u001b[0m\u001b[0;34m\u001b[0m\u001b[0m\n",
      "\u001b[0;32m/usr/local/lib/python3.5/site-packages/rdflib/plugins/sparql/evaluate.py\u001b[0m in \u001b[0;36mevalExtend\u001b[0;34m(ctx, extend)\u001b[0m\n\u001b[1;32m     73\u001b[0m     \u001b[0;31m# TODO: Deal with dict returned from evalPart from GROUP BY\u001b[0m\u001b[0;34m\u001b[0m\u001b[0;34m\u001b[0m\u001b[0m\n\u001b[1;32m     74\u001b[0m \u001b[0;34m\u001b[0m\u001b[0m\n\u001b[0;32m---> 75\u001b[0;31m     \u001b[0;32mfor\u001b[0m \u001b[0mc\u001b[0m \u001b[0;32min\u001b[0m \u001b[0mevalPart\u001b[0m\u001b[0;34m(\u001b[0m\u001b[0mctx\u001b[0m\u001b[0;34m,\u001b[0m \u001b[0mextend\u001b[0m\u001b[0;34m.\u001b[0m\u001b[0mp\u001b[0m\u001b[0;34m)\u001b[0m\u001b[0;34m:\u001b[0m\u001b[0;34m\u001b[0m\u001b[0m\n\u001b[0m\u001b[1;32m     76\u001b[0m         \u001b[0;32mtry\u001b[0m\u001b[0;34m:\u001b[0m\u001b[0;34m\u001b[0m\u001b[0m\n\u001b[1;32m     77\u001b[0m             \u001b[0me\u001b[0m \u001b[0;34m=\u001b[0m \u001b[0m_eval\u001b[0m\u001b[0;34m(\u001b[0m\u001b[0mextend\u001b[0m\u001b[0;34m.\u001b[0m\u001b[0mexpr\u001b[0m\u001b[0;34m,\u001b[0m \u001b[0mc\u001b[0m\u001b[0;34m.\u001b[0m\u001b[0mforget\u001b[0m\u001b[0;34m(\u001b[0m\u001b[0mctx\u001b[0m\u001b[0;34m,\u001b[0m \u001b[0m_except\u001b[0m\u001b[0;34m=\u001b[0m\u001b[0mextend\u001b[0m\u001b[0;34m.\u001b[0m\u001b[0m_vars\u001b[0m\u001b[0;34m)\u001b[0m\u001b[0;34m)\u001b[0m\u001b[0;34m\u001b[0m\u001b[0m\n",
      "\u001b[0;32m/usr/local/lib/python3.5/site-packages/rdflib/plugins/sparql/evaluate.py\u001b[0m in \u001b[0;36mevalExtend\u001b[0;34m(ctx, extend)\u001b[0m\n\u001b[1;32m     73\u001b[0m     \u001b[0;31m# TODO: Deal with dict returned from evalPart from GROUP BY\u001b[0m\u001b[0;34m\u001b[0m\u001b[0;34m\u001b[0m\u001b[0m\n\u001b[1;32m     74\u001b[0m \u001b[0;34m\u001b[0m\u001b[0m\n\u001b[0;32m---> 75\u001b[0;31m     \u001b[0;32mfor\u001b[0m \u001b[0mc\u001b[0m \u001b[0;32min\u001b[0m \u001b[0mevalPart\u001b[0m\u001b[0;34m(\u001b[0m\u001b[0mctx\u001b[0m\u001b[0;34m,\u001b[0m \u001b[0mextend\u001b[0m\u001b[0;34m.\u001b[0m\u001b[0mp\u001b[0m\u001b[0;34m)\u001b[0m\u001b[0;34m:\u001b[0m\u001b[0;34m\u001b[0m\u001b[0m\n\u001b[0m\u001b[1;32m     76\u001b[0m         \u001b[0;32mtry\u001b[0m\u001b[0;34m:\u001b[0m\u001b[0;34m\u001b[0m\u001b[0m\n\u001b[1;32m     77\u001b[0m             \u001b[0me\u001b[0m \u001b[0;34m=\u001b[0m \u001b[0m_eval\u001b[0m\u001b[0;34m(\u001b[0m\u001b[0mextend\u001b[0m\u001b[0;34m.\u001b[0m\u001b[0mexpr\u001b[0m\u001b[0;34m,\u001b[0m \u001b[0mc\u001b[0m\u001b[0;34m.\u001b[0m\u001b[0mforget\u001b[0m\u001b[0;34m(\u001b[0m\u001b[0mctx\u001b[0m\u001b[0;34m,\u001b[0m \u001b[0m_except\u001b[0m\u001b[0;34m=\u001b[0m\u001b[0mextend\u001b[0m\u001b[0;34m.\u001b[0m\u001b[0m_vars\u001b[0m\u001b[0;34m)\u001b[0m\u001b[0;34m)\u001b[0m\u001b[0;34m\u001b[0m\u001b[0m\n",
      "\u001b[0;32m/usr/local/lib/python3.5/site-packages/rdflib/plugins/sparql/evaluate.py\u001b[0m in \u001b[0;36mevalAggregateJoin\u001b[0;34m(ctx, agg)\u001b[0m\n\u001b[1;32m    300\u001b[0m             \u001b[0;31m# determine right group aggregator for row\u001b[0m\u001b[0;34m\u001b[0m\u001b[0;34m\u001b[0m\u001b[0m\n\u001b[1;32m    301\u001b[0m             \u001b[0mk\u001b[0m \u001b[0;34m=\u001b[0m \u001b[0mtuple\u001b[0m\u001b[0;34m(\u001b[0m\u001b[0m_eval\u001b[0m\u001b[0;34m(\u001b[0m\u001b[0me\u001b[0m\u001b[0;34m,\u001b[0m \u001b[0mrow\u001b[0m\u001b[0;34m,\u001b[0m \u001b[0;32mFalse\u001b[0m\u001b[0;34m)\u001b[0m \u001b[0;32mfor\u001b[0m \u001b[0me\u001b[0m \u001b[0;32min\u001b[0m \u001b[0mgroup_expr\u001b[0m\u001b[0;34m)\u001b[0m\u001b[0;34m\u001b[0m\u001b[0m\n\u001b[0;32m--> 302\u001b[0;31m             \u001b[0mres\u001b[0m\u001b[0;34m[\u001b[0m\u001b[0mk\u001b[0m\u001b[0;34m]\u001b[0m\u001b[0;34m.\u001b[0m\u001b[0mupdate\u001b[0m\u001b[0;34m(\u001b[0m\u001b[0mrow\u001b[0m\u001b[0;34m)\u001b[0m\u001b[0;34m\u001b[0m\u001b[0m\n\u001b[0m\u001b[1;32m    303\u001b[0m \u001b[0;34m\u001b[0m\u001b[0m\n\u001b[1;32m    304\u001b[0m     \u001b[0;31m# all rows are done; yield aggregated values\u001b[0m\u001b[0;34m\u001b[0m\u001b[0;34m\u001b[0m\u001b[0m\n",
      "\u001b[0;32m/usr/local/lib/python3.5/site-packages/rdflib/plugins/sparql/aggregates.py\u001b[0m in \u001b[0;36mupdate\u001b[0;34m(self, row)\u001b[0m\n\u001b[1;32m    251\u001b[0m \u001b[0;34m\u001b[0m\u001b[0m\n\u001b[1;32m    252\u001b[0m         \u001b[0;32mfor\u001b[0m \u001b[0macc\u001b[0m \u001b[0;32min\u001b[0m \u001b[0mlist\u001b[0m\u001b[0;34m(\u001b[0m\u001b[0mself\u001b[0m\u001b[0;34m.\u001b[0m\u001b[0maccumulators\u001b[0m\u001b[0;34m.\u001b[0m\u001b[0mvalues\u001b[0m\u001b[0;34m(\u001b[0m\u001b[0;34m)\u001b[0m\u001b[0;34m)\u001b[0m\u001b[0;34m:\u001b[0m\u001b[0;34m\u001b[0m\u001b[0m\n\u001b[0;32m--> 253\u001b[0;31m             \u001b[0;32mif\u001b[0m \u001b[0macc\u001b[0m\u001b[0;34m.\u001b[0m\u001b[0muse_row\u001b[0m\u001b[0;34m(\u001b[0m\u001b[0mrow\u001b[0m\u001b[0;34m)\u001b[0m\u001b[0;34m:\u001b[0m\u001b[0;34m\u001b[0m\u001b[0m\n\u001b[0m\u001b[1;32m    254\u001b[0m                 \u001b[0macc\u001b[0m\u001b[0;34m.\u001b[0m\u001b[0mupdate\u001b[0m\u001b[0;34m(\u001b[0m\u001b[0mrow\u001b[0m\u001b[0;34m,\u001b[0m \u001b[0mself\u001b[0m\u001b[0;34m)\u001b[0m\u001b[0;34m\u001b[0m\u001b[0m\n\u001b[1;32m    255\u001b[0m \u001b[0;34m\u001b[0m\u001b[0m\n",
      "\u001b[0;32m/usr/local/lib/python3.5/site-packages/rdflib/plugins/sparql/aggregates.py\u001b[0m in \u001b[0;36muse_row\u001b[0;34m(self, row)\u001b[0m\n\u001b[1;32m     68\u001b[0m \u001b[0;34m\u001b[0m\u001b[0m\n\u001b[1;32m     69\u001b[0m     \u001b[0;32mdef\u001b[0m \u001b[0muse_row\u001b[0m\u001b[0;34m(\u001b[0m\u001b[0mself\u001b[0m\u001b[0;34m,\u001b[0m \u001b[0mrow\u001b[0m\u001b[0;34m)\u001b[0m\u001b[0;34m:\u001b[0m\u001b[0;34m\u001b[0m\u001b[0m\n\u001b[0;32m---> 70\u001b[0;31m         \u001b[0;32mreturn\u001b[0m \u001b[0mself\u001b[0m\u001b[0;34m.\u001b[0m\u001b[0meval_row\u001b[0m\u001b[0;34m(\u001b[0m\u001b[0mrow\u001b[0m\u001b[0;34m)\u001b[0m \u001b[0;32mnot\u001b[0m \u001b[0;32min\u001b[0m \u001b[0mself\u001b[0m\u001b[0;34m.\u001b[0m\u001b[0mseen\u001b[0m\u001b[0;34m\u001b[0m\u001b[0m\n\u001b[0m\u001b[1;32m     71\u001b[0m \u001b[0;34m\u001b[0m\u001b[0m\n\u001b[1;32m     72\u001b[0m \u001b[0;34m\u001b[0m\u001b[0m\n",
      "\u001b[0;32m/usr/local/lib/python3.5/site-packages/rdflib/plugins/sparql/aggregates.py\u001b[0m in \u001b[0;36meval_row\u001b[0;34m(self, row)\u001b[0m\n\u001b[1;32m     62\u001b[0m \u001b[0;34m\u001b[0m\u001b[0m\n\u001b[1;32m     63\u001b[0m     \u001b[0;32mdef\u001b[0m \u001b[0meval_row\u001b[0m\u001b[0;34m(\u001b[0m\u001b[0mself\u001b[0m\u001b[0;34m,\u001b[0m \u001b[0mrow\u001b[0m\u001b[0;34m)\u001b[0m\u001b[0;34m:\u001b[0m\u001b[0;34m\u001b[0m\u001b[0m\n\u001b[0;32m---> 64\u001b[0;31m         \u001b[0;32mreturn\u001b[0m \u001b[0m_eval\u001b[0m\u001b[0;34m(\u001b[0m\u001b[0mself\u001b[0m\u001b[0;34m.\u001b[0m\u001b[0mexpr\u001b[0m\u001b[0;34m,\u001b[0m \u001b[0mrow\u001b[0m\u001b[0;34m)\u001b[0m\u001b[0;34m\u001b[0m\u001b[0m\n\u001b[0m\u001b[1;32m     65\u001b[0m \u001b[0;34m\u001b[0m\u001b[0m\n\u001b[1;32m     66\u001b[0m     \u001b[0;32mdef\u001b[0m \u001b[0meval_full_row\u001b[0m\u001b[0;34m(\u001b[0m\u001b[0mself\u001b[0m\u001b[0;34m,\u001b[0m \u001b[0mrow\u001b[0m\u001b[0;34m)\u001b[0m\u001b[0;34m:\u001b[0m\u001b[0;34m\u001b[0m\u001b[0m\n",
      "\u001b[0;32m/usr/local/lib/python3.5/site-packages/rdflib/plugins/sparql/evalutils.py\u001b[0m in \u001b[0;36m_eval\u001b[0;34m(expr, ctx, raise_not_bound_error)\u001b[0m\n\u001b[1;32m     72\u001b[0m         \u001b[0;32mexcept\u001b[0m \u001b[0mKeyError\u001b[0m\u001b[0;34m:\u001b[0m\u001b[0;34m\u001b[0m\u001b[0m\n\u001b[1;32m     73\u001b[0m             \u001b[0;32mif\u001b[0m \u001b[0mraise_not_bound_error\u001b[0m\u001b[0;34m:\u001b[0m\u001b[0;34m\u001b[0m\u001b[0m\n\u001b[0;32m---> 74\u001b[0;31m                 \u001b[0;32mraise\u001b[0m \u001b[0mNotBoundError\u001b[0m\u001b[0;34m(\u001b[0m\u001b[0;34m\"Variable %s is not bound\"\u001b[0m \u001b[0;34m%\u001b[0m \u001b[0mexpr\u001b[0m\u001b[0;34m)\u001b[0m\u001b[0;34m\u001b[0m\u001b[0m\n\u001b[0m\u001b[1;32m     75\u001b[0m             \u001b[0;32melse\u001b[0m\u001b[0;34m:\u001b[0m\u001b[0;34m\u001b[0m\u001b[0m\n\u001b[1;32m     76\u001b[0m                 \u001b[0;32mreturn\u001b[0m \u001b[0;32mNone\u001b[0m\u001b[0;34m\u001b[0m\u001b[0m\n",
      "\u001b[0;31mNotBoundError\u001b[0m: Variable wo2 is not bound"
     ]
    }
   ],
   "source": [
    "result = g.query(\n",
    "        \"\"\"\n",
    "        PREFIX astr: <http://www.astronomoumenos.com/ontologies/astr.owl#>\n",
    "        PREFIX rdfs: <http://www.w3.org/2000/01/rdf-schema#>\n",
    "        PREFIX rdf: <http://www.w3.org/1999/02/22-rdf-syntax-ns#>\n",
    "        #SELECT ?wo1 (MAX(?c) AS ?max) WHERE {\n",
    "            SELECT ?ms ?wo1 (COUNT(DISTINCT ?wo2) AS ?c) WHERE {\n",
    "                SELECT ?ms ?wo1 ?wo2 WHERE {\n",
    "                    ?ms astr:msContains ?wi1 .\n",
    "                    ?wi1 astr:witnessOf ?wo1 .\n",
    "                    OPTIONAL {\n",
    "                        ?ms astr:msContains ?wi2 .\n",
    "                        ?wi2 astr:witnessOf ?wo2 .\n",
    "                        FILTER( ?wo2 != ?wo1 )\n",
    "                        }\n",
    "                    }\n",
    "                }\n",
    "                GROUP BY ?ms ?wo1\n",
    "            #}\n",
    "            \"\"\")\n",
    "\n",
    "maxNeighbors = pd.DataFrame(result.bindings)\n",
    "print(len(maxNeighbors))\n",
    "maxNeighbors.head()"
   ]
  },
  {
   "cell_type": "markdown",
   "metadata": {},
   "source": [
    "### Min number of neighbors work has in one ms"
   ]
  },
  {
   "cell_type": "code",
   "execution_count": null,
   "metadata": {
    "collapsed": true
   },
   "outputs": [],
   "source": [
    "result = g.query(\n",
    "        \"\"\"\n",
    "        PREFIX astr: <http://www.astronomoumenos.com/ontologies/astr.owl#>\n",
    "        PREFIX rdfs: <http://www.w3.org/2000/01/rdf-schema#>\n",
    "        PREFIX rdf: <http://www.w3.org/1999/02/22-rdf-syntax-ns#>\n",
    "        SELECT ?wo1 (MIN(?c) AS ?min) WHERE {\n",
    "            SELECT ?ms ?wo1 (COUNT(DISTINCT ?wo2) AS ?c) WHERE {\n",
    "                ?ms astr:msContains ?wi1 .\n",
    "                ?wi1 astr:witnessOf ?wo1 .\n",
    "                OPTIONAL {\n",
    "                    ?ms astr:msContains ?wi2 .\n",
    "                    ?wi2 astr:witnessOf ?wo2 .\n",
    "                    FILTER( ?wo2 != ?wo1 )\n",
    "                    }\n",
    "                }\n",
    "                GROUP BY ?ms\n",
    "            }\n",
    "            \"\"\")\n",
    "\n",
    "minNeighbors = pd.DataFrame(result.bindings)\n",
    "print(len(minNeighbors))\n",
    "minNeighbors.head()"
   ]
  },
  {
   "cell_type": "markdown",
   "metadata": {},
   "source": [
    "### Average number of neighbors work has in one ms"
   ]
  },
  {
   "cell_type": "code",
   "execution_count": null,
   "metadata": {
    "collapsed": true
   },
   "outputs": [],
   "source": [
    "result = g.query(\n",
    "        \"\"\"\n",
    "        PREFIX astr: <http://www.astronomoumenos.com/ontologies/astr.owl#>\n",
    "        PREFIX rdfs: <http://www.w3.org/2000/01/rdf-schema#>\n",
    "        PREFIX rdf: <http://www.w3.org/1999/02/22-rdf-syntax-ns#>\n",
    "        SELECT ?wo1 (AVG(?c) AS ?avg) WHERE {\n",
    "            SELECT ?ms ?wo1 (COUNT(DISTINCT ?wo2) AS ?c) WHERE {\n",
    "                ?ms astr:msContains ?wi1 .\n",
    "                ?wi1 astr:witnessOf ?wo1 .\n",
    "                OPTIONAL {\n",
    "                    ?ms astr:msContains ?wi2 .\n",
    "                    ?wi2 astr:witnessOf ?wo2 .\n",
    "                    FILTER( ?wo2 != ?wo1 )\n",
    "                    }\n",
    "                }\n",
    "                GROUP BY ?ms\n",
    "            }\n",
    "            \"\"\")\n",
    "\n",
    "avgNeighbors = pd.DataFrame(result.bindings)\n",
    "print(len(avgNeighbors))\n",
    "avgNeighbors.head()"
   ]
  },
  {
   "cell_type": "markdown",
   "metadata": {},
   "source": [
    "### Total number of manuscripts where work is only text present"
   ]
  },
  {
   "cell_type": "code",
   "execution_count": 79,
   "metadata": {
    "collapsed": false
   },
   "outputs": [
    {
     "name": "stdout",
     "output_type": "stream",
     "text": [
      "162\n"
     ]
    },
    {
     "data": {
      "text/html": [
       "<div>\n",
       "<table border=\"1\" class=\"dataframe\">\n",
       "  <thead>\n",
       "    <tr style=\"text-align: right;\">\n",
       "      <th></th>\n",
       "      <th>c</th>\n",
       "      <th>wo1</th>\n",
       "    </tr>\n",
       "  </thead>\n",
       "  <tbody>\n",
       "    <tr>\n",
       "      <th>80</th>\n",
       "      <td>1</td>\n",
       "      <td>http://www.astronomoumenos.com/id/wo9410010</td>\n",
       "    </tr>\n",
       "    <tr>\n",
       "      <th>100</th>\n",
       "      <td>1</td>\n",
       "      <td>http://www.astronomoumenos.com/id/wo4168679</td>\n",
       "    </tr>\n",
       "    <tr>\n",
       "      <th>99</th>\n",
       "      <td>1</td>\n",
       "      <td>http://www.astronomoumenos.com/id/wo9126620</td>\n",
       "    </tr>\n",
       "    <tr>\n",
       "      <th>98</th>\n",
       "      <td>1</td>\n",
       "      <td>http://www.astronomoumenos.com/id/wo4612284</td>\n",
       "    </tr>\n",
       "    <tr>\n",
       "      <th>96</th>\n",
       "      <td>1</td>\n",
       "      <td>http://www.astronomoumenos.com/id/wo2018269</td>\n",
       "    </tr>\n",
       "    <tr>\n",
       "      <th>95</th>\n",
       "      <td>1</td>\n",
       "      <td>http://www.astronomoumenos.com/id/wo5392584</td>\n",
       "    </tr>\n",
       "    <tr>\n",
       "      <th>92</th>\n",
       "      <td>1</td>\n",
       "      <td>http://www.astronomoumenos.com/id/wo2924397</td>\n",
       "    </tr>\n",
       "    <tr>\n",
       "      <th>90</th>\n",
       "      <td>1</td>\n",
       "      <td>http://www.astronomoumenos.com/id/wo6990840</td>\n",
       "    </tr>\n",
       "    <tr>\n",
       "      <th>88</th>\n",
       "      <td>1</td>\n",
       "      <td>http://www.astronomoumenos.com/id/wo3882524</td>\n",
       "    </tr>\n",
       "    <tr>\n",
       "      <th>87</th>\n",
       "      <td>1</td>\n",
       "      <td>http://www.astronomoumenos.com/id/wo7260569</td>\n",
       "    </tr>\n",
       "    <tr>\n",
       "      <th>85</th>\n",
       "      <td>1</td>\n",
       "      <td>http://www.astronomoumenos.com/id/wo3755425</td>\n",
       "    </tr>\n",
       "    <tr>\n",
       "      <th>81</th>\n",
       "      <td>1</td>\n",
       "      <td>http://www.astronomoumenos.com/id/wo8983549</td>\n",
       "    </tr>\n",
       "    <tr>\n",
       "      <th>106</th>\n",
       "      <td>1</td>\n",
       "      <td>http://www.astronomoumenos.com/id/wo3921837</td>\n",
       "    </tr>\n",
       "    <tr>\n",
       "      <th>160</th>\n",
       "      <td>1</td>\n",
       "      <td>http://www.astronomoumenos.com/id/wo1479434</td>\n",
       "    </tr>\n",
       "    <tr>\n",
       "      <th>78</th>\n",
       "      <td>1</td>\n",
       "      <td>http://www.astronomoumenos.com/id/wo4843582</td>\n",
       "    </tr>\n",
       "    <tr>\n",
       "      <th>77</th>\n",
       "      <td>1</td>\n",
       "      <td>http://www.astronomoumenos.com/id/wo7688669</td>\n",
       "    </tr>\n",
       "    <tr>\n",
       "      <th>74</th>\n",
       "      <td>1</td>\n",
       "      <td>http://www.astronomoumenos.com/id/wo7052427</td>\n",
       "    </tr>\n",
       "    <tr>\n",
       "      <th>70</th>\n",
       "      <td>1</td>\n",
       "      <td>http://www.astronomoumenos.com/id/wo4640928</td>\n",
       "    </tr>\n",
       "    <tr>\n",
       "      <th>68</th>\n",
       "      <td>1</td>\n",
       "      <td>http://www.astronomoumenos.com/id/wo6833073</td>\n",
       "    </tr>\n",
       "    <tr>\n",
       "      <th>66</th>\n",
       "      <td>1</td>\n",
       "      <td>http://www.astronomoumenos.com/id/wo2526448</td>\n",
       "    </tr>\n",
       "    <tr>\n",
       "      <th>63</th>\n",
       "      <td>1</td>\n",
       "      <td>http://www.astronomoumenos.com/id/wo9760335</td>\n",
       "    </tr>\n",
       "    <tr>\n",
       "      <th>62</th>\n",
       "      <td>1</td>\n",
       "      <td>http://www.astronomoumenos.com/id/wo7960196</td>\n",
       "    </tr>\n",
       "    <tr>\n",
       "      <th>61</th>\n",
       "      <td>1</td>\n",
       "      <td>http://www.astronomoumenos.com/id/wo8111227</td>\n",
       "    </tr>\n",
       "    <tr>\n",
       "      <th>60</th>\n",
       "      <td>1</td>\n",
       "      <td>http://www.astronomoumenos.com/id/wo8147430</td>\n",
       "    </tr>\n",
       "    <tr>\n",
       "      <th>58</th>\n",
       "      <td>1</td>\n",
       "      <td>http://www.astronomoumenos.com/id/wo5529517</td>\n",
       "    </tr>\n",
       "    <tr>\n",
       "      <th>79</th>\n",
       "      <td>1</td>\n",
       "      <td>http://www.astronomoumenos.com/id/wo2417352</td>\n",
       "    </tr>\n",
       "    <tr>\n",
       "      <th>107</th>\n",
       "      <td>1</td>\n",
       "      <td>http://www.astronomoumenos.com/id/wo5251681</td>\n",
       "    </tr>\n",
       "    <tr>\n",
       "      <th>108</th>\n",
       "      <td>1</td>\n",
       "      <td>http://www.astronomoumenos.com/id/wo8038337</td>\n",
       "    </tr>\n",
       "    <tr>\n",
       "      <th>111</th>\n",
       "      <td>1</td>\n",
       "      <td>http://www.astronomoumenos.com/id/wo1441025</td>\n",
       "    </tr>\n",
       "    <tr>\n",
       "      <th>158</th>\n",
       "      <td>1</td>\n",
       "      <td>http://www.astronomoumenos.com/id/wo6561621</td>\n",
       "    </tr>\n",
       "    <tr>\n",
       "      <th>...</th>\n",
       "      <td>...</td>\n",
       "      <td>...</td>\n",
       "    </tr>\n",
       "    <tr>\n",
       "      <th>8</th>\n",
       "      <td>4</td>\n",
       "      <td>http://www.astronomoumenos.com/id/wo9251636</td>\n",
       "    </tr>\n",
       "    <tr>\n",
       "      <th>109</th>\n",
       "      <td>5</td>\n",
       "      <td>http://www.astronomoumenos.com/id/wo2738142</td>\n",
       "    </tr>\n",
       "    <tr>\n",
       "      <th>65</th>\n",
       "      <td>5</td>\n",
       "      <td>http://www.astronomoumenos.com/id/wo3186019</td>\n",
       "    </tr>\n",
       "    <tr>\n",
       "      <th>83</th>\n",
       "      <td>5</td>\n",
       "      <td>http://www.astronomoumenos.com/id/wo3381210</td>\n",
       "    </tr>\n",
       "    <tr>\n",
       "      <th>72</th>\n",
       "      <td>5</td>\n",
       "      <td>http://www.astronomoumenos.com/id/wo4160251</td>\n",
       "    </tr>\n",
       "    <tr>\n",
       "      <th>16</th>\n",
       "      <td>6</td>\n",
       "      <td>http://www.astronomoumenos.com/id/wo5265350</td>\n",
       "    </tr>\n",
       "    <tr>\n",
       "      <th>102</th>\n",
       "      <td>6</td>\n",
       "      <td>http://www.astronomoumenos.com/id/wo2426493</td>\n",
       "    </tr>\n",
       "    <tr>\n",
       "      <th>75</th>\n",
       "      <td>6</td>\n",
       "      <td>http://www.astronomoumenos.com/id/wo1688941</td>\n",
       "    </tr>\n",
       "    <tr>\n",
       "      <th>116</th>\n",
       "      <td>7</td>\n",
       "      <td>http://www.astronomoumenos.com/id/wo5201901</td>\n",
       "    </tr>\n",
       "    <tr>\n",
       "      <th>38</th>\n",
       "      <td>7</td>\n",
       "      <td>http://www.astronomoumenos.com/id/wo5757295</td>\n",
       "    </tr>\n",
       "    <tr>\n",
       "      <th>19</th>\n",
       "      <td>8</td>\n",
       "      <td>http://www.astronomoumenos.com/id/wo6382940</td>\n",
       "    </tr>\n",
       "    <tr>\n",
       "      <th>121</th>\n",
       "      <td>8</td>\n",
       "      <td>http://www.astronomoumenos.com/id/wo9507684</td>\n",
       "    </tr>\n",
       "    <tr>\n",
       "      <th>119</th>\n",
       "      <td>8</td>\n",
       "      <td>http://www.astronomoumenos.com/id/wo1389443</td>\n",
       "    </tr>\n",
       "    <tr>\n",
       "      <th>39</th>\n",
       "      <td>9</td>\n",
       "      <td>http://www.astronomoumenos.com/id/wo7356485</td>\n",
       "    </tr>\n",
       "    <tr>\n",
       "      <th>59</th>\n",
       "      <td>9</td>\n",
       "      <td>http://www.astronomoumenos.com/id/wo5894821</td>\n",
       "    </tr>\n",
       "    <tr>\n",
       "      <th>145</th>\n",
       "      <td>9</td>\n",
       "      <td>http://www.astronomoumenos.com/id/wo9918682</td>\n",
       "    </tr>\n",
       "    <tr>\n",
       "      <th>0</th>\n",
       "      <td>10</td>\n",
       "      <td>http://www.astronomoumenos.com/id/wo9507454</td>\n",
       "    </tr>\n",
       "    <tr>\n",
       "      <th>22</th>\n",
       "      <td>11</td>\n",
       "      <td>http://www.astronomoumenos.com/id/wo8119067</td>\n",
       "    </tr>\n",
       "    <tr>\n",
       "      <th>69</th>\n",
       "      <td>12</td>\n",
       "      <td>http://www.astronomoumenos.com/id/wo5594388</td>\n",
       "    </tr>\n",
       "    <tr>\n",
       "      <th>126</th>\n",
       "      <td>14</td>\n",
       "      <td>http://www.astronomoumenos.com/id/wo3529245</td>\n",
       "    </tr>\n",
       "    <tr>\n",
       "      <th>148</th>\n",
       "      <td>17</td>\n",
       "      <td>http://www.astronomoumenos.com/id/wo8953818</td>\n",
       "    </tr>\n",
       "    <tr>\n",
       "      <th>84</th>\n",
       "      <td>20</td>\n",
       "      <td>http://www.astronomoumenos.com/id/wo7725104</td>\n",
       "    </tr>\n",
       "    <tr>\n",
       "      <th>144</th>\n",
       "      <td>20</td>\n",
       "      <td>http://www.astronomoumenos.com/id/wo5131463</td>\n",
       "    </tr>\n",
       "    <tr>\n",
       "      <th>104</th>\n",
       "      <td>21</td>\n",
       "      <td>http://www.astronomoumenos.com/id/wo8250014</td>\n",
       "    </tr>\n",
       "    <tr>\n",
       "      <th>150</th>\n",
       "      <td>23</td>\n",
       "      <td>http://www.astronomoumenos.com/id/wo4402325</td>\n",
       "    </tr>\n",
       "    <tr>\n",
       "      <th>71</th>\n",
       "      <td>26</td>\n",
       "      <td>http://www.astronomoumenos.com/id/wo4023616</td>\n",
       "    </tr>\n",
       "    <tr>\n",
       "      <th>94</th>\n",
       "      <td>26</td>\n",
       "      <td>http://www.astronomoumenos.com/id/wo8411826</td>\n",
       "    </tr>\n",
       "    <tr>\n",
       "      <th>32</th>\n",
       "      <td>39</td>\n",
       "      <td>http://www.astronomoumenos.com/id/wo7043777</td>\n",
       "    </tr>\n",
       "    <tr>\n",
       "      <th>36</th>\n",
       "      <td>54</td>\n",
       "      <td>http://www.astronomoumenos.com/id/wo2356090</td>\n",
       "    </tr>\n",
       "    <tr>\n",
       "      <th>147</th>\n",
       "      <td>109</td>\n",
       "      <td>http://www.astronomoumenos.com/id/wo3982193</td>\n",
       "    </tr>\n",
       "  </tbody>\n",
       "</table>\n",
       "<p>162 rows × 2 columns</p>\n",
       "</div>"
      ],
      "text/plain": [
       "       c                                          wo1\n",
       "80   1    http://www.astronomoumenos.com/id/wo9410010\n",
       "100  1    http://www.astronomoumenos.com/id/wo4168679\n",
       "99   1    http://www.astronomoumenos.com/id/wo9126620\n",
       "98   1    http://www.astronomoumenos.com/id/wo4612284\n",
       "96   1    http://www.astronomoumenos.com/id/wo2018269\n",
       "95   1    http://www.astronomoumenos.com/id/wo5392584\n",
       "92   1    http://www.astronomoumenos.com/id/wo2924397\n",
       "90   1    http://www.astronomoumenos.com/id/wo6990840\n",
       "88   1    http://www.astronomoumenos.com/id/wo3882524\n",
       "87   1    http://www.astronomoumenos.com/id/wo7260569\n",
       "85   1    http://www.astronomoumenos.com/id/wo3755425\n",
       "81   1    http://www.astronomoumenos.com/id/wo8983549\n",
       "106  1    http://www.astronomoumenos.com/id/wo3921837\n",
       "160  1    http://www.astronomoumenos.com/id/wo1479434\n",
       "78   1    http://www.astronomoumenos.com/id/wo4843582\n",
       "77   1    http://www.astronomoumenos.com/id/wo7688669\n",
       "74   1    http://www.astronomoumenos.com/id/wo7052427\n",
       "70   1    http://www.astronomoumenos.com/id/wo4640928\n",
       "68   1    http://www.astronomoumenos.com/id/wo6833073\n",
       "66   1    http://www.astronomoumenos.com/id/wo2526448\n",
       "63   1    http://www.astronomoumenos.com/id/wo9760335\n",
       "62   1    http://www.astronomoumenos.com/id/wo7960196\n",
       "61   1    http://www.astronomoumenos.com/id/wo8111227\n",
       "60   1    http://www.astronomoumenos.com/id/wo8147430\n",
       "58   1    http://www.astronomoumenos.com/id/wo5529517\n",
       "79   1    http://www.astronomoumenos.com/id/wo2417352\n",
       "107  1    http://www.astronomoumenos.com/id/wo5251681\n",
       "108  1    http://www.astronomoumenos.com/id/wo8038337\n",
       "111  1    http://www.astronomoumenos.com/id/wo1441025\n",
       "158  1    http://www.astronomoumenos.com/id/wo6561621\n",
       "..  ..                                            ...\n",
       "8    4    http://www.astronomoumenos.com/id/wo9251636\n",
       "109  5    http://www.astronomoumenos.com/id/wo2738142\n",
       "65   5    http://www.astronomoumenos.com/id/wo3186019\n",
       "83   5    http://www.astronomoumenos.com/id/wo3381210\n",
       "72   5    http://www.astronomoumenos.com/id/wo4160251\n",
       "16   6    http://www.astronomoumenos.com/id/wo5265350\n",
       "102  6    http://www.astronomoumenos.com/id/wo2426493\n",
       "75   6    http://www.astronomoumenos.com/id/wo1688941\n",
       "116  7    http://www.astronomoumenos.com/id/wo5201901\n",
       "38   7    http://www.astronomoumenos.com/id/wo5757295\n",
       "19   8    http://www.astronomoumenos.com/id/wo6382940\n",
       "121  8    http://www.astronomoumenos.com/id/wo9507684\n",
       "119  8    http://www.astronomoumenos.com/id/wo1389443\n",
       "39   9    http://www.astronomoumenos.com/id/wo7356485\n",
       "59   9    http://www.astronomoumenos.com/id/wo5894821\n",
       "145  9    http://www.astronomoumenos.com/id/wo9918682\n",
       "0    10   http://www.astronomoumenos.com/id/wo9507454\n",
       "22   11   http://www.astronomoumenos.com/id/wo8119067\n",
       "69   12   http://www.astronomoumenos.com/id/wo5594388\n",
       "126  14   http://www.astronomoumenos.com/id/wo3529245\n",
       "148  17   http://www.astronomoumenos.com/id/wo8953818\n",
       "84   20   http://www.astronomoumenos.com/id/wo7725104\n",
       "144  20   http://www.astronomoumenos.com/id/wo5131463\n",
       "104  21   http://www.astronomoumenos.com/id/wo8250014\n",
       "150  23   http://www.astronomoumenos.com/id/wo4402325\n",
       "71   26   http://www.astronomoumenos.com/id/wo4023616\n",
       "94   26   http://www.astronomoumenos.com/id/wo8411826\n",
       "32   39   http://www.astronomoumenos.com/id/wo7043777\n",
       "36   54   http://www.astronomoumenos.com/id/wo2356090\n",
       "147  109  http://www.astronomoumenos.com/id/wo3982193\n",
       "\n",
       "[162 rows x 2 columns]"
      ]
     },
     "execution_count": 79,
     "metadata": {},
     "output_type": "execute_result"
    }
   ],
   "source": [
    "result = g.query(\n",
    "        \"\"\"\n",
    "        PREFIX astr: <http://www.astronomoumenos.com/ontologies/astr.owl#>\n",
    "        PREFIX rdfs: <http://www.w3.org/2000/01/rdf-schema#>\n",
    "        SELECT ?wo1 (COUNT(DISTINCT ?ms) AS ?c) WHERE {\n",
    "            ?ms astr:msContains ?wi1 .\n",
    "            ?wi1 astr:witnessOf ?wo1 .\n",
    "            FILTER NOT EXISTS {\n",
    "                ?ms astr:msContains ?wi2 .\n",
    "                ?wi2 astr:witnessOf ?wo2 .\n",
    "                FILTER( ?wo1 != ?wo2 )\n",
    "                }\n",
    "            }\n",
    "            GROUP BY ?wo1\n",
    "            \"\"\")\n",
    "\n",
    "numSoloMSS = pd.DataFrame(result.bindings)\n",
    "print(len(numSoloMSS))\n",
    "numSoloMSS.sort_values(rdflib.term.Variable('c'))"
   ]
  },
  {
   "cell_type": "markdown",
   "metadata": {},
   "source": [
    "### Earliest date given for a manuscript of the work"
   ]
  },
  {
   "cell_type": "markdown",
   "metadata": {},
   "source": [
    "### Latest date given for a manuscript of the work"
   ]
  },
  {
   "cell_type": "markdown",
   "metadata": {},
   "source": [
    "### Range of dates given for a manuscript of the work"
   ]
  },
  {
   "cell_type": "markdown",
   "metadata": {},
   "source": [
    "### Average date given for a manuscript of the work"
   ]
  },
  {
   "cell_type": "markdown",
   "metadata": {},
   "source": [
    "### Number of works by author of that work"
   ]
  },
  {
   "cell_type": "markdown",
   "metadata": {},
   "source": [
    "### Number of same-author-works the given work overlaps with"
   ]
  }
 ],
 "metadata": {
  "kernelspec": {
   "display_name": "Python 3",
   "language": "python",
   "name": "python3"
  },
  "language_info": {
   "codemirror_mode": {
    "name": "ipython",
    "version": 3
   },
   "file_extension": ".py",
   "mimetype": "text/x-python",
   "name": "python",
   "nbconvert_exporter": "python",
   "pygments_lexer": "ipython3",
   "version": "3.5.2"
  }
 },
 "nbformat": 4,
 "nbformat_minor": 2
}
